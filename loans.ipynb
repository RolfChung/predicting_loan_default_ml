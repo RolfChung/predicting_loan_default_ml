{
 "cells": [
  {
   "cell_type": "markdown",
   "metadata": {},
   "source": [
    "## Summary\n",
    "\n",
    "<p>\n",
    "The goal of this project is to predict the default or payback of loans given from lenders\n",
    "to borrowers via the <a href=\"https://www.lendingclub.com/\">LendingClub</a>\n",
    "</p> \n",
    "\n",
    "<p>\n",
    "According to <a href=\"https://en.wikipedia.org/wiki/Lending_Club\">Wikipedia</a> \"LendingClub is a US peer-to-peer lending company, headquartered in San Francisco, California. It was the first peer-to-peer lender to register its offerings as securities with the Securities and Exchange Commission (SEC), and to offer loan trading on a secondary market.LendingClub is the world's largest peer-to-peer lending platform.\" The lending club loan data set can be downloaded from their site or from\n",
    "<a href=\"https://www.kaggle.com/wordsforthewise/lending-club\">Kaggle</a>.\n",
    "</p> \n",
    "\n",
    "<p>\n",
    "This project in applies the full data science life cylce from data exploration, \n",
    "data cleaning, feature selection, data preprocessing and machine learning. These methods are\n",
    "applied:\n",
    "</p>\n",
    "\n",
    "<ul>\n",
    "\n",
    "<li>data import</li>\n",
    "<li><b>data exploration</b></li>\n",
    "<li>statistics</li>\n",
    "<li>data aggregation</li>\n",
    "<li>data visualization</li>\n",
    "<li><b>data cleaning</b></li>\n",
    "<li>imputing missing values <br>\n",
    "    with median and random values</li>\n",
    "<li><b>convert features to numeric</b></li>\n",
    "<li>string manipulation</li>\n",
    "<li>label encoding</li>\n",
    "<li>one-hot-encoding</li>\n",
    "<li>frequency encoding</li>\n",
    "<li>datetimes</li>\n",
    "<li><b>data preprocessing</b></li>\n",
    "<li>feature selection on ground of <br>\n",
    "    completeness, meaning, multicollinearity</li>\n",
    "<li>feature scaling</li>  \n",
    "<li><b>data partitioning</b></li>\n",
    "<li>train-test-split</li>\n",
    "<li>cross validation</li>\n",
    "<li>kfold</li>\n",
    "<li><b>data modeling</b></li> \n",
    "<li>GridSearch cross validation</li>\n",
    "<li>Principal component analysis (PCA)</li>\n",
    "<li>LogisticRegression</li>\n",
    "<li>RandomForest</li>\n",
    "<li>K NearestNeighbors</li>\n",
    "<li>GaussianNB</li> \n",
    "<li>Multi-Layer-Perceptron</li> \n",
    "<li>hyper parameter tuning</li> \n",
    "<li><b>model evaluation</b></li>\n",
    "<li>accuracy score</li>\n",
    "<li>cross validation score</li>    \n",
    "\n",
    "</ul>\n",
    "    \n",
    "<p>\n",
    "Comments are and explanations are given within the coding.\n",
    "A conclusion is made at the end.\n",
    "</p> \n",
    "\n"
   ]
  },
  {
   "cell_type": "markdown",
   "metadata": {},
   "source": [
    "#### Working directory"
   ]
  },
  {
   "cell_type": "code",
   "execution_count": 266,
   "metadata": {},
   "outputs": [],
   "source": [
    "import os \n",
    "dirpath = os.getcwd()\n",
    "foldername = os.path.basename(dirpath)"
   ]
  },
  {
   "cell_type": "markdown",
   "metadata": {},
   "source": [
    "## Import packages"
   ]
  },
  {
   "cell_type": "code",
   "execution_count": 2,
   "metadata": {},
   "outputs": [
    {
     "name": "stdout",
     "output_type": "stream",
     "text": [
      "numpy version:  1.16.2\n",
      "SKlearn version:  0.20.3\n"
     ]
    }
   ],
   "source": [
    "import pandas as pd\n",
    "\n",
    "import matplotlib.pyplot as plt\n",
    "%matplotlib inline\n",
    "from matplotlib.pyplot import cm\n",
    "from mpl_toolkits.mplot3d import Axes3D\n",
    "import seaborn as sns\n",
    "\n",
    "plt.rcParams['font.size'] = 11\n",
    "plt.rcParams['font.style'] = 'italic'\n",
    "plt.rcParams['font.family'] = 'monospace'\n",
    "\n",
    "import numpy as np\n",
    "print(\"numpy version: \", np.__version__)\n",
    "import scipy.stats\n",
    "import math\n",
    "import os\n",
    "import types\n",
    "from random import sample\n",
    "from random import choices\n",
    "import random\n",
    "import warnings\n",
    "\n",
    "import sklearn\n",
    "from sklearn.pipeline import Pipeline\n",
    "print(\"SKlearn version: \", sklearn.__version__)\n",
    "\n",
    "# preprocessing\n",
    "from sklearn.preprocessing import LabelEncoder\n",
    "from sklearn.preprocessing import OneHotEncoder\n",
    "from sklearn.preprocessing import StandardScaler\n",
    "from sklearn.decomposition import PCA\n",
    "\n",
    "# train-test-split / cross validation\n",
    "from sklearn.model_selection import train_test_split\n",
    "from sklearn.model_selection import KFold\n",
    "from sklearn.model_selection import cross_val_predict\n",
    "from sklearn.model_selection import GridSearchCV\n",
    "from sklearn.model_selection import RandomizedSearchCV\n",
    "\n",
    "# modeling\n",
    "from sklearn.svm import LinearSVC\n",
    "from sklearn.linear_model import LogisticRegression\n",
    "from sklearn.svm import SVC\n",
    "from sklearn.ensemble import RandomForestClassifier\n",
    "from sklearn.neural_network import MLPClassifier\n",
    "from sklearn.neighbors import NearestNeighbors\n",
    "from sklearn.neighbors import KNeighborsClassifier\n",
    "from sklearn.naive_bayes import GaussianNB\n",
    "\n",
    "# evaluation\n",
    "from sklearn.metrics import accuracy_score\n",
    "from sklearn.model_selection import cross_val_score\n",
    "\n"
   ]
  },
  {
   "cell_type": "markdown",
   "metadata": {},
   "source": [
    "## Import data dictonary with explanations of the variables\n"
   ]
  },
  {
   "cell_type": "code",
   "execution_count": 3,
   "metadata": {},
   "outputs": [
    {
     "name": "stdout",
     "output_type": "stream",
     "text": [
      "(153, 2)\n",
      "['LoanStatNew', 'Description']\n"
     ]
    },
    {
     "data": {
      "text/html": [
       "<div>\n",
       "<style scoped>\n",
       "    .dataframe tbody tr th:only-of-type {\n",
       "        vertical-align: middle;\n",
       "    }\n",
       "\n",
       "    .dataframe tbody tr th {\n",
       "        vertical-align: top;\n",
       "    }\n",
       "\n",
       "    .dataframe thead th {\n",
       "        text-align: right;\n",
       "    }\n",
       "</style>\n",
       "<table border=\"1\" class=\"dataframe\">\n",
       "  <thead>\n",
       "    <tr style=\"text-align: right;\">\n",
       "      <th></th>\n",
       "      <th>variable</th>\n",
       "      <th>explanation</th>\n",
       "    </tr>\n",
       "  </thead>\n",
       "  <tbody>\n",
       "    <tr>\n",
       "      <th>148</th>\n",
       "      <td>settlement_amount</td>\n",
       "      <td>The loan amount that the borrower has agreed to settle for</td>\n",
       "    </tr>\n",
       "    <tr>\n",
       "      <th>149</th>\n",
       "      <td>settlement_percentage</td>\n",
       "      <td>The settlement amount as a percentage of the payoff balance amount on the loan</td>\n",
       "    </tr>\n",
       "    <tr>\n",
       "      <th>150</th>\n",
       "      <td>settlement_term</td>\n",
       "      <td>The number of months that the borrower will be on the settlement plan</td>\n",
       "    </tr>\n",
       "    <tr>\n",
       "      <th>151</th>\n",
       "      <td>NaN</td>\n",
       "      <td>NaN</td>\n",
       "    </tr>\n",
       "    <tr>\n",
       "      <th>152</th>\n",
       "      <td>NaN</td>\n",
       "      <td>* Employer Title replaces Employer Name for all loans listed after 9/23/2013</td>\n",
       "    </tr>\n",
       "  </tbody>\n",
       "</table>\n",
       "</div>"
      ],
      "text/plain": [
       "                  variable  \\\n",
       "148  settlement_amount       \n",
       "149  settlement_percentage   \n",
       "150  settlement_term         \n",
       "151  NaN                     \n",
       "152  NaN                     \n",
       "\n",
       "                                                                        explanation  \n",
       "148  The loan amount that the borrower has agreed to settle for                      \n",
       "149  The settlement amount as a percentage of the payoff balance amount on the loan  \n",
       "150  The number of months that the borrower will be on the settlement plan           \n",
       "151  NaN                                                                             \n",
       "152  * Employer Title replaces Employer Name for all loans listed after 9/23/2013    "
      ]
     },
     "execution_count": 3,
     "metadata": {},
     "output_type": "execute_result"
    }
   ],
   "source": [
    "pd.set_option('display.max_colwidth', 0)\n",
    "\n",
    "loans_dictionary = pd.read_excel('LCDataDictionary.xlsx')\n",
    "print(loans_dictionary.shape)\n",
    "print(loans_dictionary.columns.to_list())\n",
    "loans_dictionary = \\\n",
    "loans_dictionary.rename(columns={'LoanStatNew':'variable',\n",
    "                                 'Description': 'explanation'})\n",
    "loans_dictionary.tail()"
   ]
  },
  {
   "cell_type": "markdown",
   "metadata": {},
   "source": [
    "## Import data"
   ]
  },
  {
   "cell_type": "code",
   "execution_count": 4,
   "metadata": {},
   "outputs": [],
   "source": [
    "loans = pd.read_csv('lending_club_loan_data/loan.csv', low_memory=False)"
   ]
  },
  {
   "cell_type": "markdown",
   "metadata": {},
   "source": [
    "## Explore data"
   ]
  },
  {
   "cell_type": "code",
   "execution_count": 5,
   "metadata": {},
   "outputs": [
    {
     "data": {
      "text/plain": [
       "(2260668, 145)"
      ]
     },
     "execution_count": 5,
     "metadata": {},
     "output_type": "execute_result"
    }
   ],
   "source": [
    "loans.shape"
   ]
  },
  {
   "cell_type": "code",
   "execution_count": 6,
   "metadata": {},
   "outputs": [
    {
     "name": "stdout",
     "output_type": "stream",
     "text": [
      "RangeIndex(start=0, stop=2260668, step=1)\n"
     ]
    }
   ],
   "source": [
    "loans_index = loans.index\n",
    "print(loans_index)"
   ]
  },
  {
   "cell_type": "code",
   "execution_count": 7,
   "metadata": {},
   "outputs": [
    {
     "data": {
      "text/plain": [
       "['acc_now_delinq',\n",
       " 'acc_open_past_24mths',\n",
       " 'addr_state',\n",
       " 'all_util',\n",
       " 'annual_inc',\n",
       " 'annual_inc_joint',\n",
       " 'application_type',\n",
       " 'avg_cur_bal',\n",
       " 'bc_open_to_buy',\n",
       " 'bc_util']"
      ]
     },
     "execution_count": 7,
     "metadata": {},
     "output_type": "execute_result"
    }
   ],
   "source": [
    "loans_names = list(loans.columns)\n",
    "loans_names_sorted = sorted(loans_names)\n",
    "loans_names_sorted[:10]"
   ]
  },
  {
   "cell_type": "code",
   "execution_count": 8,
   "metadata": {},
   "outputs": [
    {
     "name": "stdout",
     "output_type": "stream",
     "text": [
      "145\n"
     ]
    }
   ],
   "source": [
    "print(len(loans_names))"
   ]
  },
  {
   "cell_type": "markdown",
   "metadata": {},
   "source": [
    "Checking data types."
   ]
  },
  {
   "cell_type": "code",
   "execution_count": 9,
   "metadata": {},
   "outputs": [
    {
     "name": "stdout",
     "output_type": "stream",
     "text": [
      "(145, 2)\n",
      "Data types by variable:\n",
      "          variable   dtypes\n",
      "0  id               float64\n",
      "1  member_id        float64\n",
      "2  loan_amnt        int64  \n",
      "3  funded_amnt      int64  \n",
      "4  funded_amnt_inv  float64\n",
      "5  term             object \n",
      "6  int_rate         float64\n",
      "7  installment      float64\n",
      "8  grade            object \n",
      "9  sub_grade        object  \n"
     ]
    }
   ],
   "source": [
    "loans_dtypes = pd.DataFrame(loans.dtypes,columns=['dtypes'])\n",
    "loans_dtypes['variable'] = loans_dtypes.index\n",
    "loans_dtypes = loans_dtypes.reset_index()\n",
    "loans_dtypes.drop('index', inplace=True, axis=1)\n",
    "print(loans_dtypes.shape)\n",
    "loans_dtypes=loans_dtypes.iloc[:,[1,0]]\n",
    "print(\"Data types by variable:\\n{} \".format(loans_dtypes.iloc[:10,:]))"
   ]
  },
  {
   "cell_type": "markdown",
   "metadata": {},
   "source": [
    "Merge datatypes with explanations from dictionary and\n",
    "give an example value for each variable."
   ]
  },
  {
   "cell_type": "code",
   "execution_count": 10,
   "metadata": {},
   "outputs": [],
   "source": [
    "loans_dtypes['first value'] = loans.loc[0].values\n",
    "loans_dtypes_explained = \\\n",
    "loans_dtypes.merge(loans_dictionary.loc[0:145,:], \n",
    "                   on='variable', how='left')\n"
   ]
  },
  {
   "cell_type": "code",
   "execution_count": 11,
   "metadata": {},
   "outputs": [
    {
     "data": {
      "text/html": [
       "<div>\n",
       "<style scoped>\n",
       "    .dataframe tbody tr th:only-of-type {\n",
       "        vertical-align: middle;\n",
       "    }\n",
       "\n",
       "    .dataframe tbody tr th {\n",
       "        vertical-align: top;\n",
       "    }\n",
       "\n",
       "    .dataframe thead th {\n",
       "        text-align: right;\n",
       "    }\n",
       "</style>\n",
       "<table border=\"1\" class=\"dataframe\">\n",
       "  <thead>\n",
       "    <tr style=\"text-align: right;\">\n",
       "      <th></th>\n",
       "      <th>variable</th>\n",
       "      <th>dtypes</th>\n",
       "      <th>first value</th>\n",
       "      <th>explanation</th>\n",
       "    </tr>\n",
       "  </thead>\n",
       "  <tbody>\n",
       "    <tr>\n",
       "      <th>0</th>\n",
       "      <td>id</td>\n",
       "      <td>float64</td>\n",
       "      <td>NaN</td>\n",
       "      <td>A unique LC assigned ID for the loan listing.</td>\n",
       "    </tr>\n",
       "    <tr>\n",
       "      <th>1</th>\n",
       "      <td>member_id</td>\n",
       "      <td>float64</td>\n",
       "      <td>NaN</td>\n",
       "      <td>A unique LC assigned Id for the borrower member.</td>\n",
       "    </tr>\n",
       "    <tr>\n",
       "      <th>2</th>\n",
       "      <td>loan_amnt</td>\n",
       "      <td>int64</td>\n",
       "      <td>2500</td>\n",
       "      <td>The listed amount of the loan applied for by the borrower. If at some point in time, the credit department reduces the loan amount, then it will be reflected in this value.</td>\n",
       "    </tr>\n",
       "  </tbody>\n",
       "</table>\n",
       "</div>"
      ],
      "text/plain": [
       "    variable   dtypes first value  \\\n",
       "0  id         float64  NaN          \n",
       "1  member_id  float64  NaN          \n",
       "2  loan_amnt  int64    2500         \n",
       "\n",
       "                                                                                                                                                                    explanation  \n",
       "0  A unique LC assigned ID for the loan listing.                                                                                                                                 \n",
       "1  A unique LC assigned Id for the borrower member.                                                                                                                              \n",
       "2  The listed amount of the loan applied for by the borrower. If at some point in time, the credit department reduces the loan amount, then it will be reflected in this value.  "
      ]
     },
     "execution_count": 11,
     "metadata": {},
     "output_type": "execute_result"
    }
   ],
   "source": [
    "loans_dtypes_explained.head(3)"
   ]
  },
  {
   "cell_type": "markdown",
   "metadata": {},
   "source": [
    "There are several variables of type object. \n",
    "Those can be strings or categorical data.\n",
    "Anyway Machine Learning algorithms need numeric data.\n",
    "It is necessary to check, which variables are categorical data and\n",
    "useful as features and then to encode these features within a data preprocessing step."
   ]
  },
  {
   "cell_type": "markdown",
   "metadata": {},
   "source": [
    "Checking variables of type object."
   ]
  },
  {
   "cell_type": "code",
   "execution_count": 12,
   "metadata": {},
   "outputs": [
    {
     "name": "stdout",
     "output_type": "stream",
     "text": [
      "36\n",
      "['addr_state', 'application_type', 'debt_settlement_flag', 'debt_settlement_flag_date', 'desc', 'disbursement_method', 'earliest_cr_line', 'emp_length', 'emp_title', 'grade', 'hardship_end_date', 'hardship_flag', 'hardship_loan_status', 'hardship_reason', 'hardship_start_date', 'hardship_status', 'hardship_type', 'home_ownership', 'initial_list_status', 'issue_d', 'last_credit_pull_d', 'last_pymnt_d', 'loan_status', 'next_pymnt_d', 'payment_plan_start_date', 'purpose', 'pymnt_plan', 'sec_app_earliest_cr_line', 'settlement_date', 'settlement_status', 'sub_grade', 'term', 'title', 'verification_status', 'verification_status_joint', 'zip_code']\n"
     ]
    },
    {
     "data": {
      "text/html": [
       "<div>\n",
       "<style scoped>\n",
       "    .dataframe tbody tr th:only-of-type {\n",
       "        vertical-align: middle;\n",
       "    }\n",
       "\n",
       "    .dataframe tbody tr th {\n",
       "        vertical-align: top;\n",
       "    }\n",
       "\n",
       "    .dataframe thead th {\n",
       "        text-align: right;\n",
       "    }\n",
       "</style>\n",
       "<table border=\"1\" class=\"dataframe\">\n",
       "  <thead>\n",
       "    <tr style=\"text-align: right;\">\n",
       "      <th></th>\n",
       "      <th>term</th>\n",
       "      <th>grade</th>\n",
       "      <th>sub_grade</th>\n",
       "      <th>emp_title</th>\n",
       "      <th>emp_length</th>\n",
       "      <th>home_ownership</th>\n",
       "      <th>verification_status</th>\n",
       "      <th>issue_d</th>\n",
       "      <th>loan_status</th>\n",
       "      <th>pymnt_plan</th>\n",
       "    </tr>\n",
       "  </thead>\n",
       "  <tbody>\n",
       "    <tr>\n",
       "      <th>0</th>\n",
       "      <td>36 months</td>\n",
       "      <td>C</td>\n",
       "      <td>C1</td>\n",
       "      <td>Chef</td>\n",
       "      <td>10+ years</td>\n",
       "      <td>RENT</td>\n",
       "      <td>Not Verified</td>\n",
       "      <td>Dec-2018</td>\n",
       "      <td>Current</td>\n",
       "      <td>n</td>\n",
       "    </tr>\n",
       "    <tr>\n",
       "      <th>1</th>\n",
       "      <td>60 months</td>\n",
       "      <td>D</td>\n",
       "      <td>D2</td>\n",
       "      <td>Postmaster</td>\n",
       "      <td>10+ years</td>\n",
       "      <td>MORTGAGE</td>\n",
       "      <td>Source Verified</td>\n",
       "      <td>Dec-2018</td>\n",
       "      <td>Current</td>\n",
       "      <td>n</td>\n",
       "    </tr>\n",
       "  </tbody>\n",
       "</table>\n",
       "</div>"
      ],
      "text/plain": [
       "         term grade sub_grade    emp_title emp_length home_ownership  \\\n",
       "0   36 months  C     C1        Chef         10+ years  RENT            \n",
       "1   60 months  D     D2        Postmaster   10+ years  MORTGAGE        \n",
       "\n",
       "  verification_status   issue_d loan_status pymnt_plan  \n",
       "0  Not Verified        Dec-2018  Current     n          \n",
       "1  Source Verified     Dec-2018  Current     n          "
      ]
     },
     "execution_count": 12,
     "metadata": {},
     "output_type": "execute_result"
    }
   ],
   "source": [
    "loans_object = loans.select_dtypes(include='object')\n",
    "loans_object_col = loans_object.columns\n",
    "print(len(loans_object_col))\n",
    "print(sorted(loans_object_col ))\n",
    "loans_object.iloc[0:2, 0:10]"
   ]
  },
  {
   "cell_type": "markdown",
   "metadata": {},
   "source": [
    "There are 36 variables of type object. These maybe strings\n",
    "with a categorical level of measurement.\n"
   ]
  },
  {
   "cell_type": "code",
   "execution_count": 13,
   "metadata": {},
   "outputs": [
    {
     "data": {
      "text/plain": [
       "(2260668, 0)"
      ]
     },
     "execution_count": 13,
     "metadata": {},
     "output_type": "execute_result"
    }
   ],
   "source": [
    "loans_cat = loans.select_dtypes(include='category')\n",
    "loans_cat.shape\n",
    "# There are no variables explicitly coded as categorical."
   ]
  },
  {
   "cell_type": "code",
   "execution_count": 14,
   "metadata": {},
   "outputs": [
    {
     "data": {
      "text/html": [
       "<div>\n",
       "<style scoped>\n",
       "    .dataframe tbody tr th:only-of-type {\n",
       "        vertical-align: middle;\n",
       "    }\n",
       "\n",
       "    .dataframe tbody tr th {\n",
       "        vertical-align: top;\n",
       "    }\n",
       "\n",
       "    .dataframe thead th {\n",
       "        text-align: right;\n",
       "    }\n",
       "</style>\n",
       "<table border=\"1\" class=\"dataframe\">\n",
       "  <thead>\n",
       "    <tr style=\"text-align: right;\">\n",
       "      <th></th>\n",
       "      <th>id</th>\n",
       "      <th>member_id</th>\n",
       "      <th>loan_amnt</th>\n",
       "      <th>funded_amnt</th>\n",
       "      <th>funded_amnt_inv</th>\n",
       "      <th>term</th>\n",
       "      <th>int_rate</th>\n",
       "      <th>installment</th>\n",
       "      <th>grade</th>\n",
       "      <th>sub_grade</th>\n",
       "      <th>...</th>\n",
       "      <th>hardship_payoff_balance_amount</th>\n",
       "      <th>hardship_last_payment_amount</th>\n",
       "      <th>disbursement_method</th>\n",
       "      <th>debt_settlement_flag</th>\n",
       "      <th>debt_settlement_flag_date</th>\n",
       "      <th>settlement_status</th>\n",
       "      <th>settlement_date</th>\n",
       "      <th>settlement_amount</th>\n",
       "      <th>settlement_percentage</th>\n",
       "      <th>settlement_term</th>\n",
       "    </tr>\n",
       "  </thead>\n",
       "  <tbody>\n",
       "    <tr>\n",
       "      <th>0</th>\n",
       "      <td>NaN</td>\n",
       "      <td>NaN</td>\n",
       "      <td>2500</td>\n",
       "      <td>2500</td>\n",
       "      <td>2500.0</td>\n",
       "      <td>36 months</td>\n",
       "      <td>13.56</td>\n",
       "      <td>84.92</td>\n",
       "      <td>C</td>\n",
       "      <td>C1</td>\n",
       "      <td>...</td>\n",
       "      <td>NaN</td>\n",
       "      <td>NaN</td>\n",
       "      <td>Cash</td>\n",
       "      <td>N</td>\n",
       "      <td>NaN</td>\n",
       "      <td>NaN</td>\n",
       "      <td>NaN</td>\n",
       "      <td>NaN</td>\n",
       "      <td>NaN</td>\n",
       "      <td>NaN</td>\n",
       "    </tr>\n",
       "    <tr>\n",
       "      <th>1</th>\n",
       "      <td>NaN</td>\n",
       "      <td>NaN</td>\n",
       "      <td>30000</td>\n",
       "      <td>30000</td>\n",
       "      <td>30000.0</td>\n",
       "      <td>60 months</td>\n",
       "      <td>18.94</td>\n",
       "      <td>777.23</td>\n",
       "      <td>D</td>\n",
       "      <td>D2</td>\n",
       "      <td>...</td>\n",
       "      <td>NaN</td>\n",
       "      <td>NaN</td>\n",
       "      <td>Cash</td>\n",
       "      <td>N</td>\n",
       "      <td>NaN</td>\n",
       "      <td>NaN</td>\n",
       "      <td>NaN</td>\n",
       "      <td>NaN</td>\n",
       "      <td>NaN</td>\n",
       "      <td>NaN</td>\n",
       "    </tr>\n",
       "    <tr>\n",
       "      <th>2</th>\n",
       "      <td>NaN</td>\n",
       "      <td>NaN</td>\n",
       "      <td>5000</td>\n",
       "      <td>5000</td>\n",
       "      <td>5000.0</td>\n",
       "      <td>36 months</td>\n",
       "      <td>17.97</td>\n",
       "      <td>180.69</td>\n",
       "      <td>D</td>\n",
       "      <td>D1</td>\n",
       "      <td>...</td>\n",
       "      <td>NaN</td>\n",
       "      <td>NaN</td>\n",
       "      <td>Cash</td>\n",
       "      <td>N</td>\n",
       "      <td>NaN</td>\n",
       "      <td>NaN</td>\n",
       "      <td>NaN</td>\n",
       "      <td>NaN</td>\n",
       "      <td>NaN</td>\n",
       "      <td>NaN</td>\n",
       "    </tr>\n",
       "  </tbody>\n",
       "</table>\n",
       "<p>3 rows × 145 columns</p>\n",
       "</div>"
      ],
      "text/plain": [
       "   id  member_id  loan_amnt  funded_amnt  funded_amnt_inv        term  \\\n",
       "0 NaN NaN         2500       2500         2500.0            36 months   \n",
       "1 NaN NaN         30000      30000        30000.0           60 months   \n",
       "2 NaN NaN         5000       5000         5000.0            36 months   \n",
       "\n",
       "   int_rate  installment grade sub_grade  ... hardship_payoff_balance_amount  \\\n",
       "0  13.56     84.92        C     C1        ... NaN                              \n",
       "1  18.94     777.23       D     D2        ... NaN                              \n",
       "2  17.97     180.69       D     D1        ... NaN                              \n",
       "\n",
       "  hardship_last_payment_amount disbursement_method  debt_settlement_flag  \\\n",
       "0 NaN                           Cash                N                      \n",
       "1 NaN                           Cash                N                      \n",
       "2 NaN                           Cash                N                      \n",
       "\n",
       "  debt_settlement_flag_date settlement_status settlement_date  \\\n",
       "0  NaN                       NaN               NaN              \n",
       "1  NaN                       NaN               NaN              \n",
       "2  NaN                       NaN               NaN              \n",
       "\n",
       "  settlement_amount  settlement_percentage settlement_term  \n",
       "0 NaN               NaN                    NaN              \n",
       "1 NaN               NaN                    NaN              \n",
       "2 NaN               NaN                    NaN              \n",
       "\n",
       "[3 rows x 145 columns]"
      ]
     },
     "execution_count": 14,
     "metadata": {},
     "output_type": "execute_result"
    }
   ],
   "source": [
    "loans.head(3)"
   ]
  },
  {
   "cell_type": "code",
   "execution_count": 15,
   "metadata": {},
   "outputs": [
    {
     "name": "stdout",
     "output_type": "stream",
     "text": [
      "<class 'pandas.core.frame.DataFrame'>\n",
      "RangeIndex: 2260668 entries, 0 to 2260667\n",
      "Columns: 145 entries, id to settlement_term\n",
      "dtypes: float64(105), int64(4), object(36)\n",
      "memory usage: 2.4+ GB\n"
     ]
    }
   ],
   "source": [
    "loans.info()"
   ]
  },
  {
   "cell_type": "markdown",
   "metadata": {},
   "source": [
    "data_science/data_science_projects/data_camp_projects/loans/lending_club_loan_data"
   ]
  },
  {
   "cell_type": "code",
   "execution_count": 16,
   "metadata": {},
   "outputs": [
    {
     "data": {
      "text/html": [
       "<div>\n",
       "<style scoped>\n",
       "    .dataframe tbody tr th:only-of-type {\n",
       "        vertical-align: middle;\n",
       "    }\n",
       "\n",
       "    .dataframe tbody tr th {\n",
       "        vertical-align: top;\n",
       "    }\n",
       "\n",
       "    .dataframe thead th {\n",
       "        text-align: right;\n",
       "    }\n",
       "</style>\n",
       "<table border=\"1\" class=\"dataframe\">\n",
       "  <thead>\n",
       "    <tr style=\"text-align: right;\">\n",
       "      <th></th>\n",
       "      <th>id</th>\n",
       "      <th>member_id</th>\n",
       "      <th>loan_amnt</th>\n",
       "      <th>funded_amnt</th>\n",
       "      <th>funded_amnt_inv</th>\n",
       "      <th>int_rate</th>\n",
       "      <th>installment</th>\n",
       "      <th>annual_inc</th>\n",
       "      <th>url</th>\n",
       "      <th>dti</th>\n",
       "      <th>...</th>\n",
       "      <th>deferral_term</th>\n",
       "      <th>hardship_amount</th>\n",
       "      <th>hardship_length</th>\n",
       "      <th>hardship_dpd</th>\n",
       "      <th>orig_projected_additional_accrued_interest</th>\n",
       "      <th>hardship_payoff_balance_amount</th>\n",
       "      <th>hardship_last_payment_amount</th>\n",
       "      <th>settlement_amount</th>\n",
       "      <th>settlement_percentage</th>\n",
       "      <th>settlement_term</th>\n",
       "    </tr>\n",
       "  </thead>\n",
       "  <tbody>\n",
       "    <tr>\n",
       "      <th>count</th>\n",
       "      <td>0.0</td>\n",
       "      <td>0.0</td>\n",
       "      <td>2.260668e+06</td>\n",
       "      <td>2.260668e+06</td>\n",
       "      <td>2.260668e+06</td>\n",
       "      <td>2.260668e+06</td>\n",
       "      <td>2.260668e+06</td>\n",
       "      <td>2.260664e+06</td>\n",
       "      <td>0.0</td>\n",
       "      <td>2.258957e+06</td>\n",
       "      <td>...</td>\n",
       "      <td>10613.0</td>\n",
       "      <td>10613.000000</td>\n",
       "      <td>10613.0</td>\n",
       "      <td>10613.000000</td>\n",
       "      <td>8426.000000</td>\n",
       "      <td>10613.000000</td>\n",
       "      <td>10613.000000</td>\n",
       "      <td>33056.000000</td>\n",
       "      <td>33056.000000</td>\n",
       "      <td>33056.000000</td>\n",
       "    </tr>\n",
       "    <tr>\n",
       "      <th>mean</th>\n",
       "      <td>NaN</td>\n",
       "      <td>NaN</td>\n",
       "      <td>1.504693e+04</td>\n",
       "      <td>1.504166e+04</td>\n",
       "      <td>1.502344e+04</td>\n",
       "      <td>1.309291e+01</td>\n",
       "      <td>4.458076e+02</td>\n",
       "      <td>7.799243e+04</td>\n",
       "      <td>NaN</td>\n",
       "      <td>1.882420e+01</td>\n",
       "      <td>...</td>\n",
       "      <td>3.0</td>\n",
       "      <td>155.006696</td>\n",
       "      <td>3.0</td>\n",
       "      <td>13.686422</td>\n",
       "      <td>454.840802</td>\n",
       "      <td>11628.036442</td>\n",
       "      <td>193.606331</td>\n",
       "      <td>5030.606922</td>\n",
       "      <td>47.775600</td>\n",
       "      <td>13.148596</td>\n",
       "    </tr>\n",
       "    <tr>\n",
       "      <th>std</th>\n",
       "      <td>NaN</td>\n",
       "      <td>NaN</td>\n",
       "      <td>9.190245e+03</td>\n",
       "      <td>9.188413e+03</td>\n",
       "      <td>9.192332e+03</td>\n",
       "      <td>4.832114e+00</td>\n",
       "      <td>2.671737e+02</td>\n",
       "      <td>1.126962e+05</td>\n",
       "      <td>NaN</td>\n",
       "      <td>1.418333e+01</td>\n",
       "      <td>...</td>\n",
       "      <td>0.0</td>\n",
       "      <td>129.113137</td>\n",
       "      <td>0.0</td>\n",
       "      <td>9.728138</td>\n",
       "      <td>375.830737</td>\n",
       "      <td>7615.161123</td>\n",
       "      <td>198.694368</td>\n",
       "      <td>3692.027842</td>\n",
       "      <td>7.336379</td>\n",
       "      <td>8.192319</td>\n",
       "    </tr>\n",
       "    <tr>\n",
       "      <th>min</th>\n",
       "      <td>NaN</td>\n",
       "      <td>NaN</td>\n",
       "      <td>5.000000e+02</td>\n",
       "      <td>5.000000e+02</td>\n",
       "      <td>0.000000e+00</td>\n",
       "      <td>5.310000e+00</td>\n",
       "      <td>4.930000e+00</td>\n",
       "      <td>0.000000e+00</td>\n",
       "      <td>NaN</td>\n",
       "      <td>-1.000000e+00</td>\n",
       "      <td>...</td>\n",
       "      <td>3.0</td>\n",
       "      <td>0.640000</td>\n",
       "      <td>3.0</td>\n",
       "      <td>0.000000</td>\n",
       "      <td>1.920000</td>\n",
       "      <td>55.730000</td>\n",
       "      <td>0.010000</td>\n",
       "      <td>44.210000</td>\n",
       "      <td>0.200000</td>\n",
       "      <td>0.000000</td>\n",
       "    </tr>\n",
       "    <tr>\n",
       "      <th>25%</th>\n",
       "      <td>NaN</td>\n",
       "      <td>NaN</td>\n",
       "      <td>8.000000e+03</td>\n",
       "      <td>8.000000e+03</td>\n",
       "      <td>8.000000e+03</td>\n",
       "      <td>9.490000e+00</td>\n",
       "      <td>2.516500e+02</td>\n",
       "      <td>4.600000e+04</td>\n",
       "      <td>NaN</td>\n",
       "      <td>1.189000e+01</td>\n",
       "      <td>...</td>\n",
       "      <td>3.0</td>\n",
       "      <td>59.370000</td>\n",
       "      <td>3.0</td>\n",
       "      <td>5.000000</td>\n",
       "      <td>174.967500</td>\n",
       "      <td>5628.730000</td>\n",
       "      <td>43.780000</td>\n",
       "      <td>2227.000000</td>\n",
       "      <td>45.000000</td>\n",
       "      <td>6.000000</td>\n",
       "    </tr>\n",
       "    <tr>\n",
       "      <th>50%</th>\n",
       "      <td>NaN</td>\n",
       "      <td>NaN</td>\n",
       "      <td>1.290000e+04</td>\n",
       "      <td>1.287500e+04</td>\n",
       "      <td>1.280000e+04</td>\n",
       "      <td>1.262000e+01</td>\n",
       "      <td>3.779900e+02</td>\n",
       "      <td>6.500000e+04</td>\n",
       "      <td>NaN</td>\n",
       "      <td>1.784000e+01</td>\n",
       "      <td>...</td>\n",
       "      <td>3.0</td>\n",
       "      <td>119.040000</td>\n",
       "      <td>3.0</td>\n",
       "      <td>15.000000</td>\n",
       "      <td>352.605000</td>\n",
       "      <td>10044.220000</td>\n",
       "      <td>132.890000</td>\n",
       "      <td>4172.855000</td>\n",
       "      <td>45.000000</td>\n",
       "      <td>14.000000</td>\n",
       "    </tr>\n",
       "    <tr>\n",
       "      <th>75%</th>\n",
       "      <td>NaN</td>\n",
       "      <td>NaN</td>\n",
       "      <td>2.000000e+04</td>\n",
       "      <td>2.000000e+04</td>\n",
       "      <td>2.000000e+04</td>\n",
       "      <td>1.599000e+01</td>\n",
       "      <td>5.933200e+02</td>\n",
       "      <td>9.300000e+04</td>\n",
       "      <td>NaN</td>\n",
       "      <td>2.449000e+01</td>\n",
       "      <td>...</td>\n",
       "      <td>3.0</td>\n",
       "      <td>213.260000</td>\n",
       "      <td>3.0</td>\n",
       "      <td>22.000000</td>\n",
       "      <td>622.792500</td>\n",
       "      <td>16114.940000</td>\n",
       "      <td>284.180000</td>\n",
       "      <td>6870.782500</td>\n",
       "      <td>50.000000</td>\n",
       "      <td>18.000000</td>\n",
       "    </tr>\n",
       "    <tr>\n",
       "      <th>max</th>\n",
       "      <td>NaN</td>\n",
       "      <td>NaN</td>\n",
       "      <td>4.000000e+04</td>\n",
       "      <td>4.000000e+04</td>\n",
       "      <td>4.000000e+04</td>\n",
       "      <td>3.099000e+01</td>\n",
       "      <td>1.719830e+03</td>\n",
       "      <td>1.100000e+08</td>\n",
       "      <td>NaN</td>\n",
       "      <td>9.990000e+02</td>\n",
       "      <td>...</td>\n",
       "      <td>3.0</td>\n",
       "      <td>943.940000</td>\n",
       "      <td>3.0</td>\n",
       "      <td>37.000000</td>\n",
       "      <td>2680.890000</td>\n",
       "      <td>40306.410000</td>\n",
       "      <td>1407.860000</td>\n",
       "      <td>33601.000000</td>\n",
       "      <td>521.350000</td>\n",
       "      <td>181.000000</td>\n",
       "    </tr>\n",
       "  </tbody>\n",
       "</table>\n",
       "<p>8 rows × 109 columns</p>\n",
       "</div>"
      ],
      "text/plain": [
       "        id  member_id     loan_amnt   funded_amnt  funded_amnt_inv  \\\n",
       "count  0.0  0.0        2.260668e+06  2.260668e+06  2.260668e+06      \n",
       "mean  NaN  NaN         1.504693e+04  1.504166e+04  1.502344e+04      \n",
       "std   NaN  NaN         9.190245e+03  9.188413e+03  9.192332e+03      \n",
       "min   NaN  NaN         5.000000e+02  5.000000e+02  0.000000e+00      \n",
       "25%   NaN  NaN         8.000000e+03  8.000000e+03  8.000000e+03      \n",
       "50%   NaN  NaN         1.290000e+04  1.287500e+04  1.280000e+04      \n",
       "75%   NaN  NaN         2.000000e+04  2.000000e+04  2.000000e+04      \n",
       "max   NaN  NaN         4.000000e+04  4.000000e+04  4.000000e+04      \n",
       "\n",
       "           int_rate   installment    annual_inc  url           dti  ...  \\\n",
       "count  2.260668e+06  2.260668e+06  2.260664e+06  0.0  2.258957e+06  ...   \n",
       "mean   1.309291e+01  4.458076e+02  7.799243e+04 NaN   1.882420e+01  ...   \n",
       "std    4.832114e+00  2.671737e+02  1.126962e+05 NaN   1.418333e+01  ...   \n",
       "min    5.310000e+00  4.930000e+00  0.000000e+00 NaN  -1.000000e+00  ...   \n",
       "25%    9.490000e+00  2.516500e+02  4.600000e+04 NaN   1.189000e+01  ...   \n",
       "50%    1.262000e+01  3.779900e+02  6.500000e+04 NaN   1.784000e+01  ...   \n",
       "75%    1.599000e+01  5.933200e+02  9.300000e+04 NaN   2.449000e+01  ...   \n",
       "max    3.099000e+01  1.719830e+03  1.100000e+08 NaN   9.990000e+02  ...   \n",
       "\n",
       "       deferral_term  hardship_amount  hardship_length  hardship_dpd  \\\n",
       "count  10613.0        10613.000000     10613.0          10613.000000   \n",
       "mean   3.0            155.006696       3.0              13.686422      \n",
       "std    0.0            129.113137       0.0              9.728138       \n",
       "min    3.0            0.640000         3.0              0.000000       \n",
       "25%    3.0            59.370000        3.0              5.000000       \n",
       "50%    3.0            119.040000       3.0              15.000000      \n",
       "75%    3.0            213.260000       3.0              22.000000      \n",
       "max    3.0            943.940000       3.0              37.000000      \n",
       "\n",
       "       orig_projected_additional_accrued_interest  \\\n",
       "count  8426.000000                                  \n",
       "mean   454.840802                                   \n",
       "std    375.830737                                   \n",
       "min    1.920000                                     \n",
       "25%    174.967500                                   \n",
       "50%    352.605000                                   \n",
       "75%    622.792500                                   \n",
       "max    2680.890000                                  \n",
       "\n",
       "       hardship_payoff_balance_amount  hardship_last_payment_amount  \\\n",
       "count  10613.000000                    10613.000000                   \n",
       "mean   11628.036442                    193.606331                     \n",
       "std    7615.161123                     198.694368                     \n",
       "min    55.730000                       0.010000                       \n",
       "25%    5628.730000                     43.780000                      \n",
       "50%    10044.220000                    132.890000                     \n",
       "75%    16114.940000                    284.180000                     \n",
       "max    40306.410000                    1407.860000                    \n",
       "\n",
       "       settlement_amount  settlement_percentage  settlement_term  \n",
       "count  33056.000000       33056.000000           33056.000000     \n",
       "mean   5030.606922        47.775600              13.148596        \n",
       "std    3692.027842        7.336379               8.192319         \n",
       "min    44.210000          0.200000               0.000000         \n",
       "25%    2227.000000        45.000000              6.000000         \n",
       "50%    4172.855000        45.000000              14.000000        \n",
       "75%    6870.782500        50.000000              18.000000        \n",
       "max    33601.000000       521.350000             181.000000       \n",
       "\n",
       "[8 rows x 109 columns]"
      ]
     },
     "execution_count": 16,
     "metadata": {},
     "output_type": "execute_result"
    }
   ],
   "source": [
    "loans.describe()"
   ]
  },
  {
   "cell_type": "markdown",
   "metadata": {},
   "source": [
    "### Target variable\n",
    "\n",
    "<p>\n",
    "There are over 100 variables in the data set. While this can help\n",
    "make better predicitions with smart feature engineering, it can be\n",
    "a little bit overwhelming and it can distract from the essential research question. This research question is:\n",
    "</p>    \n",
    "    \n",
    "<p>    \n",
    "\"Is the borrower going to pay back the loan given by lending club  or not? \n",
    "</p> \n",
    "\n",
    "<p>    \n",
    "The target variable or label is the loan status column. This variables \n",
    "have more attributes than needed. For this question \"Fully Paid\" and \n",
    "\"Charged Off\" are the informative attributes. The \"Default\" variable\n",
    "is a pre-stage of \"Charged Off\". \n",
    "</p>   \n",
    "Lending club has made an interesting    \n",
    "<a href=\"https://help.lendingclub.com/hc/en-us/articles/216080887-What-is-the-default-and-or-charge-off-rate-on-loans-facilitated-by-LendingClub-\">post</a> to understand this variable. \n",
    "\n",
    "\n",
    "\n"
   ]
  },
  {
   "cell_type": "code",
   "execution_count": 17,
   "metadata": {},
   "outputs": [
    {
     "data": {
      "text/plain": [
       "Fully Paid                                             1041952\n",
       "Current                                                919695 \n",
       "Charged Off                                            261655 \n",
       "Late (31-120 days)                                     21897  \n",
       "In Grace Period                                        8952   \n",
       "Late (16-30 days)                                      3737   \n",
       "Does not meet the credit policy. Status:Fully Paid     1988   \n",
       "Does not meet the credit policy. Status:Charged Off    761    \n",
       "Default                                                31     \n",
       "Name: loan_status, dtype: int64"
      ]
     },
     "execution_count": 17,
     "metadata": {},
     "output_type": "execute_result"
    }
   ],
   "source": [
    "loans.loan_status.value_counts()"
   ]
  },
  {
   "cell_type": "markdown",
   "metadata": {},
   "source": [
    "Only observations with \"Fully Paid\" and \"Charged Off\" are kept.\n",
    "Current for example says nothing about the final payback or not."
   ]
  },
  {
   "cell_type": "code",
   "execution_count": 18,
   "metadata": {},
   "outputs": [],
   "source": [
    "loans_payback = \\\n",
    "loans.loc[(loans['loan_status'] == \"Fully Paid\") | \n",
    "          (loans['loan_status'] == \"Charged Off\")]\n",
    "\n"
   ]
  },
  {
   "cell_type": "code",
   "execution_count": 19,
   "metadata": {},
   "outputs": [
    {
     "data": {
      "text/plain": [
       "Fully Paid     1041952\n",
       "Charged Off    261655 \n",
       "Name: loan_status, dtype: int64"
      ]
     },
     "execution_count": 19,
     "metadata": {},
     "output_type": "execute_result"
    }
   ],
   "source": [
    "loans_payback.loan_status.value_counts()"
   ]
  },
  {
   "cell_type": "code",
   "execution_count": 20,
   "metadata": {},
   "outputs": [
    {
     "data": {
      "text/html": [
       "<div>\n",
       "<style scoped>\n",
       "    .dataframe tbody tr th:only-of-type {\n",
       "        vertical-align: middle;\n",
       "    }\n",
       "\n",
       "    .dataframe tbody tr th {\n",
       "        vertical-align: top;\n",
       "    }\n",
       "\n",
       "    .dataframe thead th {\n",
       "        text-align: right;\n",
       "    }\n",
       "</style>\n",
       "<table border=\"1\" class=\"dataframe\">\n",
       "  <thead>\n",
       "    <tr style=\"text-align: right;\">\n",
       "      <th></th>\n",
       "      <th>grade</th>\n",
       "      <th>title</th>\n",
       "      <th>dti</th>\n",
       "      <th>loan_status</th>\n",
       "    </tr>\n",
       "  </thead>\n",
       "  <tbody>\n",
       "    <tr>\n",
       "      <th>0</th>\n",
       "      <td>D</td>\n",
       "      <td>Debt consolidation</td>\n",
       "      <td>30.46</td>\n",
       "      <td>Fully Paid</td>\n",
       "    </tr>\n",
       "    <tr>\n",
       "      <th>1</th>\n",
       "      <td>C</td>\n",
       "      <td>Credit card refinancing</td>\n",
       "      <td>50.53</td>\n",
       "      <td>Fully Paid</td>\n",
       "    </tr>\n",
       "    <tr>\n",
       "      <th>2</th>\n",
       "      <td>A</td>\n",
       "      <td>Credit card refinancing</td>\n",
       "      <td>18.92</td>\n",
       "      <td>Fully Paid</td>\n",
       "    </tr>\n",
       "    <tr>\n",
       "      <th>3</th>\n",
       "      <td>B</td>\n",
       "      <td>Credit card refinancing</td>\n",
       "      <td>4.64</td>\n",
       "      <td>Fully Paid</td>\n",
       "    </tr>\n",
       "    <tr>\n",
       "      <th>4</th>\n",
       "      <td>E</td>\n",
       "      <td>Credit card refinancing</td>\n",
       "      <td>12.37</td>\n",
       "      <td>Fully Paid</td>\n",
       "    </tr>\n",
       "    <tr>\n",
       "      <th>5</th>\n",
       "      <td>D</td>\n",
       "      <td>Debt consolidation</td>\n",
       "      <td>22.18</td>\n",
       "      <td>Fully Paid</td>\n",
       "    </tr>\n",
       "  </tbody>\n",
       "</table>\n",
       "</div>"
      ],
      "text/plain": [
       "  grade                    title    dti loan_status\n",
       "0  D     Debt consolidation       30.46  Fully Paid\n",
       "1  C     Credit card refinancing  50.53  Fully Paid\n",
       "2  A     Credit card refinancing  18.92  Fully Paid\n",
       "3  B     Credit card refinancing  4.64   Fully Paid\n",
       "4  E     Credit card refinancing  12.37  Fully Paid\n",
       "5  D     Debt consolidation       22.18  Fully Paid"
      ]
     },
     "execution_count": 20,
     "metadata": {},
     "output_type": "execute_result"
    }
   ],
   "source": [
    "loans_payback.reset_index().loc[:5, ['grade', 'title', 'dti' , 'loan_status']]"
   ]
  },
  {
   "cell_type": "code",
   "execution_count": 21,
   "metadata": {},
   "outputs": [
    {
     "name": "stdout",
     "output_type": "stream",
     "text": [
      "2260668\n",
      "1303607\n"
     ]
    }
   ],
   "source": [
    "print(loans.shape[0])\n",
    "print(loans_payback.shape[0])"
   ]
  },
  {
   "cell_type": "markdown",
   "metadata": {},
   "source": [
    "This reduces the number of observations in rows from 2260668\n",
    "to 1303607."
   ]
  },
  {
   "cell_type": "code",
   "execution_count": 22,
   "metadata": {},
   "outputs": [
    {
     "name": "stdout",
     "output_type": "stream",
     "text": [
      "False\n",
      "True\n",
      "<class 'str'>\n"
     ]
    }
   ],
   "source": [
    "# Check the data type\n",
    "print(isinstance(loans_payback.loan_status, str))\n",
    "print(isinstance(loans_payback.loan_status.iloc[1], str))\n",
    "print(type(loans_payback.loan_status.iloc[1]))"
   ]
  },
  {
   "cell_type": "code",
   "execution_count": 23,
   "metadata": {},
   "outputs": [
    {
     "name": "stdout",
     "output_type": "stream",
     "text": [
      "1    1041952\n",
      "0    261655 \n",
      "Name: loan_status, dtype: int64\n",
      "Fully Paid     1041952\n",
      "Charged Off    261655 \n",
      "Name: loan_status, dtype: int64\n"
     ]
    }
   ],
   "source": [
    "loans_1 = loans_payback.copy()\n",
    "\n",
    "loans_1['loan_status'] =\\\n",
    "loans_1.loan_status.replace('Fully Paid', 1).replace('Charged Off', 0)\n",
    "\n",
    "compare_loan_status = \\\n",
    "pd.concat([loans_1['loan_status'], loans_payback['loan_status']], \n",
    "          axis=1)\n",
    "\n",
    "print(compare_loan_status.iloc[:, 0].value_counts())\n",
    "print(compare_loan_status.iloc[:, 1].value_counts())\n",
    "\n",
    "# Encoding from string to boolean 0 or 1 was succesful"
   ]
  },
  {
   "cell_type": "code",
   "execution_count": 24,
   "metadata": {},
   "outputs": [
    {
     "data": {
      "text/plain": [
       "<matplotlib.axes._subplots.AxesSubplot at 0x1510002aba8>"
      ]
     },
     "execution_count": 24,
     "metadata": {},
     "output_type": "execute_result"
    },
    {
     "data": {
      "image/png": "[encoded data removed]",
      "text/plain": [
       "<Figure size 432x288 with 1 Axes>"
      ]
     },
     "metadata": {
      "needs_background": "light"
     },
     "output_type": "display_data"
    }
   ],
   "source": [
    "loans_1.loan_status.value_counts().plot.bar \\\n",
    "(title=\"Paid versus charged off\", color=['azure', 'pink'], \n",
    " edgecolor=\"black\", linewidth=2)\n",
    "# Most borrowers pay their loans back. This supports the busines model\n",
    "# of Lending Club"
   ]
  },
  {
   "cell_type": "code",
   "execution_count": 25,
   "metadata": {},
   "outputs": [],
   "source": [
    "correlations_with_target=\\\n",
    "loans_1.corr()['loan_status'].dropna().\\\n",
    "reset_index().rename(columns={'index':'feature'}).sort_values(by=\"loan_status\", ascending=False).\\\n",
    "reset_index(drop=True)\n"
   ]
  },
  {
   "cell_type": "code",
   "execution_count": 26,
   "metadata": {},
   "outputs": [
    {
     "name": "stdout",
     "output_type": "stream",
     "text": [
      "(102, 2)\n",
      "           feature  loan_status\n",
      "0  loan_status      1.000000   \n",
      "1  total_rec_prncp  0.441239   \n",
      "2  last_pymnt_amnt  0.350640   \n",
      "3  total_pymnt      0.318482   \n",
      "4  total_pymnt_inv  0.318038   \n"
     ]
    }
   ],
   "source": [
    "print(correlations_with_target.shape)\n",
    "print(correlations_with_target.head())"
   ]
  },
  {
   "cell_type": "code",
   "execution_count": 27,
   "metadata": {},
   "outputs": [
    {
     "name": "stdout",
     "output_type": "stream",
     "text": [
      "(101, 2)\n"
     ]
    }
   ],
   "source": [
    "correlations_with_target = \\\n",
    "correlations_with_target[correlations_with_target.loan_status.notnull()]\n",
    "correlations_with_target=correlations_with_target[1:]\n",
    "print(correlations_with_target.shape)\n"
   ]
  },
  {
   "cell_type": "code",
   "execution_count": 28,
   "metadata": {},
   "outputs": [
    {
     "name": "stdout",
     "output_type": "stream",
     "text": [
      "<class 'pandas.core.frame.DataFrame'>\n",
      "                               feature  loan_status\n",
      "1  total_rec_prncp                      0.441239   \n",
      "2  last_pymnt_amnt                      0.350640   \n",
      "3  total_pymnt                          0.318482   \n",
      "4  total_pymnt_inv                      0.318038   \n",
      "5  sec_app_mths_since_last_major_derog  0.157888   \n",
      "6  sec_app_mort_acc                     0.140349   \n",
      "7  annual_inc_joint                     0.095953   \n",
      "8  bc_open_to_buy                       0.082703   \n",
      "9  avg_cur_bal                          0.079835   \n",
      "                                        feature  loan_status\n",
      "93   sec_app_revol_util                         -0.144072   \n",
      "94   sec_app_inq_last_6mths                     -0.153932   \n",
      "95   hardship_payoff_balance_amount             -0.162038   \n",
      "96   hardship_amount                            -0.171701   \n",
      "97   orig_projected_additional_accrued_interest -0.175271   \n",
      "98   hardship_dpd                               -0.240667   \n",
      "99   int_rate                                   -0.258412   \n",
      "100  collection_recovery_fee                    -0.472982   \n",
      "101  recoveries                                 -0.498981   \n"
     ]
    }
   ],
   "source": [
    "print(type(correlations_with_target))\n",
    "topten_1=correlations_with_target.iloc[0:9]\n",
    "print(topten_1)\n",
    "toplast_1=correlations_with_target.iloc[correlations_with_target.shape[0]-9:]\n",
    "print(toplast_1)"
   ]
  },
  {
   "cell_type": "code",
   "execution_count": 29,
   "metadata": {},
   "outputs": [
    {
     "data": {
      "image/png": "[encoded data removed]",
      "text/plain": [
       "<Figure size 648x288 with 2 Axes>"
      ]
     },
     "metadata": {
      "needs_background": "light"
     },
     "output_type": "display_data"
    }
   ],
   "source": [
    "fig, (ax1, ax2) = plt.subplots(1,2, figsize=(9,4))\n",
    "plt.tight_layout(pad=5)\n",
    "plt.suptitle(\"Top correlations of features target variable loan_status\")\n",
    "\n",
    "ax1.bar(x=topten_1.feature, height=topten_1.loan_status, edgecolor=\"yellow\", linewidth=3,\n",
    "        color=['black', \"gray\"])\n",
    "ax1.set_title(\"Top ten\", fontsize=12)\n",
    "ax1.set_xticklabels(topten_1.feature, rotation=90)\n",
    "\n",
    "ax2.bar(x=toplast_1.feature, height=toplast_1.loan_status, edgecolor=\"yellow\", linewidth=3,\n",
    "        color=['black', \"gray\"])\n",
    "ax2.set_title(\"Ten lowest negative \\n correlations\", fontsize=12)\n",
    "ax2.set_xticklabels(toplast_1.feature, rotation=90)\n",
    "\n",
    "plt.show()"
   ]
  },
  {
   "cell_type": "markdown",
   "metadata": {},
   "source": [
    "### Feature variables"
   ]
  },
  {
   "cell_type": "markdown",
   "metadata": {},
   "source": [
    "ID'variables have in general low predictive capabilities. Those are  here erased from the data set."
   ]
  },
  {
   "cell_type": "code",
   "execution_count": 30,
   "metadata": {},
   "outputs": [
    {
     "data": {
      "text/html": [
       "<div>\n",
       "<style scoped>\n",
       "    .dataframe tbody tr th:only-of-type {\n",
       "        vertical-align: middle;\n",
       "    }\n",
       "\n",
       "    .dataframe tbody tr th {\n",
       "        vertical-align: top;\n",
       "    }\n",
       "\n",
       "    .dataframe thead th {\n",
       "        text-align: right;\n",
       "    }\n",
       "</style>\n",
       "<table border=\"1\" class=\"dataframe\">\n",
       "  <thead>\n",
       "    <tr style=\"text-align: right;\">\n",
       "      <th></th>\n",
       "      <th>id</th>\n",
       "      <th>member_id</th>\n",
       "      <th>loan_amnt</th>\n",
       "    </tr>\n",
       "  </thead>\n",
       "  <tbody>\n",
       "    <tr>\n",
       "      <th>100</th>\n",
       "      <td>NaN</td>\n",
       "      <td>NaN</td>\n",
       "      <td>30000</td>\n",
       "    </tr>\n",
       "    <tr>\n",
       "      <th>152</th>\n",
       "      <td>NaN</td>\n",
       "      <td>NaN</td>\n",
       "      <td>40000</td>\n",
       "    </tr>\n",
       "    <tr>\n",
       "      <th>170</th>\n",
       "      <td>NaN</td>\n",
       "      <td>NaN</td>\n",
       "      <td>20000</td>\n",
       "    </tr>\n",
       "    <tr>\n",
       "      <th>186</th>\n",
       "      <td>NaN</td>\n",
       "      <td>NaN</td>\n",
       "      <td>4500</td>\n",
       "    </tr>\n",
       "    <tr>\n",
       "      <th>215</th>\n",
       "      <td>NaN</td>\n",
       "      <td>NaN</td>\n",
       "      <td>8425</td>\n",
       "    </tr>\n",
       "  </tbody>\n",
       "</table>\n",
       "</div>"
      ],
      "text/plain": [
       "     id  member_id  loan_amnt\n",
       "100 NaN NaN         30000    \n",
       "152 NaN NaN         40000    \n",
       "170 NaN NaN         20000    \n",
       "186 NaN NaN         4500     \n",
       "215 NaN NaN         8425     "
      ]
     },
     "execution_count": 30,
     "metadata": {},
     "output_type": "execute_result"
    }
   ],
   "source": [
    "loans_1.iloc[:, [0,1,2]].head()"
   ]
  },
  {
   "cell_type": "code",
   "execution_count": 31,
   "metadata": {},
   "outputs": [],
   "source": [
    "loans_1 = loans_1.drop(['id', 'member_id'], axis = 1)"
   ]
  },
  {
   "cell_type": "markdown",
   "metadata": {},
   "source": [
    "#### Null values in feature variables"
   ]
  },
  {
   "cell_type": "code",
   "execution_count": 32,
   "metadata": {},
   "outputs": [
    {
     "data": {
      "text/plain": [
       "pymnt_plan          0      \n",
       "url                 1303607\n",
       "desc                1180280\n",
       "purpose             0      \n",
       "title               15426  \n",
       "zip_code            1      \n",
       "addr_state          0      \n",
       "dti                 312    \n",
       "delinq_2yrs         0      \n",
       "earliest_cr_line    0      \n",
       "dtype: int64"
      ]
     },
     "execution_count": 32,
     "metadata": {},
     "output_type": "execute_result"
    }
   ],
   "source": [
    "loans_1.isnull().sum()[15:25]"
   ]
  },
  {
   "cell_type": "code",
   "execution_count": 33,
   "metadata": {},
   "outputs": [
    {
     "data": {
      "text/plain": [
       "1180280"
      ]
     },
     "execution_count": 33,
     "metadata": {},
     "output_type": "execute_result"
    }
   ],
   "source": [
    "loans_1.desc.isnull().sum()"
   ]
  },
  {
   "cell_type": "markdown",
   "metadata": {},
   "source": [
    "There are columns with a substantial number of null values. In some\n",
    "columns the sum of null values is greater than the sum of given values.\n",
    "Columns with values greater than half of total observations are erased below.\n"
   ]
  },
  {
   "cell_type": "code",
   "execution_count": 34,
   "metadata": {},
   "outputs": [
    {
     "data": {
      "text/plain": [
       "651803.5"
      ]
     },
     "execution_count": 34,
     "metadata": {},
     "output_type": "execute_result"
    }
   ],
   "source": [
    "# half of count of values\n",
    "loans_1.shape[0]/2"
   ]
  },
  {
   "cell_type": "code",
   "execution_count": 35,
   "metadata": {},
   "outputs": [
    {
     "data": {
      "text/plain": [
       "143"
      ]
     },
     "execution_count": 35,
     "metadata": {},
     "output_type": "execute_result"
    }
   ],
   "source": [
    "# number of columns before cleaning\n",
    "loans_1.shape[1]"
   ]
  },
  {
   "cell_type": "code",
   "execution_count": 36,
   "metadata": {},
   "outputs": [],
   "source": [
    "# erase columns where the number of null values is greater than\n",
    "# half of all observations\n",
    "\n",
    "for col in list(loans_1.columns):\n",
    "    if loans_1[col].isnull().sum() > loans_1.shape[0]/2:\n",
    "        loans_1 = loans_1.drop(col, axis=1)"
   ]
  },
  {
   "cell_type": "code",
   "execution_count": 37,
   "metadata": {},
   "outputs": [
    {
     "name": "stdout",
     "output_type": "stream",
     "text": [
      "87\n"
     ]
    }
   ],
   "source": [
    "print(loans_1.shape[1])\n",
    "# the number of columns after cleaning is 101"
   ]
  },
  {
   "cell_type": "code",
   "execution_count": 38,
   "metadata": {},
   "outputs": [
    {
     "data": {
      "text/plain": [
       "loan_amnt                     30000             \n",
       "funded_amnt                   30000             \n",
       "funded_amnt_inv               30000             \n",
       "term                           36 months        \n",
       "int_rate                      22.35             \n",
       "installment                   1151.16           \n",
       "grade                         D                 \n",
       "sub_grade                     D5                \n",
       "emp_title                     Supervisor        \n",
       "emp_length                    5 years           \n",
       "home_ownership                MORTGAGE          \n",
       "annual_inc                    100000            \n",
       "verification_status           Source Verified   \n",
       "issue_d                       Dec-2018          \n",
       "loan_status                   1                 \n",
       "pymnt_plan                    n                 \n",
       "purpose                       debt_consolidation\n",
       "title                         Debt consolidation\n",
       "zip_code                      917xx             \n",
       "addr_state                    CA                \n",
       "dti                           30.46             \n",
       "delinq_2yrs                   0                 \n",
       "earliest_cr_line              Jan-2012          \n",
       "inq_last_6mths                0                 \n",
       "open_acc                      11                \n",
       "pub_rec                       1                 \n",
       "revol_bal                     15603             \n",
       "revol_util                    37                \n",
       "total_acc                     19                \n",
       "initial_list_status           w                 \n",
       "                             ..                 \n",
       "mo_sin_rcnt_rev_tl_op         23                \n",
       "mo_sin_rcnt_tl                2                 \n",
       "mort_acc                      1                 \n",
       "mths_since_recent_bc          23                \n",
       "mths_since_recent_inq         8                 \n",
       "num_accts_ever_120_pd         0                 \n",
       "num_actv_bc_tl                3                 \n",
       "num_actv_rev_tl               4                 \n",
       "num_bc_sats                   3                 \n",
       "num_bc_tl                     5                 \n",
       "num_il_tl                     10                \n",
       "num_op_rev_tl                 6                 \n",
       "num_rev_accts                 8                 \n",
       "num_rev_tl_bal_gt_0           4                 \n",
       "num_sats                      11                \n",
       "num_tl_120dpd_2m              0                 \n",
       "num_tl_30dpd                  0                 \n",
       "num_tl_90g_dpd_24m            0                 \n",
       "num_tl_op_past_12m            2                 \n",
       "pct_tl_nvr_dlq                89.5              \n",
       "percent_bc_gt_75              33.3              \n",
       "pub_rec_bankruptcies          1                 \n",
       "tax_liens                     0                 \n",
       "tot_hi_cred_lim               527120            \n",
       "total_bal_ex_mort             98453             \n",
       "total_bc_limit                28600             \n",
       "total_il_high_credit_limit    101984            \n",
       "hardship_flag                 N                 \n",
       "disbursement_method           Cash              \n",
       "debt_settlement_flag          N                 \n",
       "Name: 100, Length: 87, dtype: object"
      ]
     },
     "execution_count": 38,
     "metadata": {},
     "output_type": "execute_result"
    }
   ],
   "source": [
    "# first row of data set after dropping columns\n",
    "loans_1.iloc[0,:]"
   ]
  },
  {
   "cell_type": "markdown",
   "metadata": {},
   "source": [
    "#### Erasing additional columns from the data frame?\n",
    "\n",
    "\n"
   ]
  },
  {
   "cell_type": "markdown",
   "metadata": {},
   "source": [
    "loan_amnt, funded_amnt"
   ]
  },
  {
   "cell_type": "markdown",
   "metadata": {},
   "source": [
    "Explanations of the first three variables of the revised \n",
    "data frame."
   ]
  },
  {
   "cell_type": "markdown",
   "metadata": {},
   "source": [
    " <table style=\"width:100%\">\n",
    "  <tr>\n",
    "    <th>Variable</th>\n",
    "    <th>Explanation</th>\n",
    "  </tr>\n",
    "  <tr>\n",
    "    <td>loan_amnt </td>\n",
    "    <td>\n",
    "The listed amount of the loan applied for by the borrower. If at some point in time, the credit department reduces the loan amount, then it will be reflected in this value.</td>\n",
    "\n",
    "  </tr>\n",
    "  <tr>\n",
    "    <td>funded_amnt</td>\n",
    "    <td>\n",
    "The total amount committed to that loan at that point in time.</td>\n",
    "  </tr> \n",
    "  <tr>\n",
    "    <td>funded_amnt_inv</td>\n",
    "    <td>\n",
    "The total amount committed by investors for that loan at that point in time.</td>\n",
    "  </tr>\n",
    "    \n",
    "</table> \n",
    "\n"
   ]
  },
  {
   "cell_type": "code",
   "execution_count": 39,
   "metadata": {},
   "outputs": [
    {
     "data": {
      "text/html": [
       "<div>\n",
       "<style scoped>\n",
       "    .dataframe tbody tr th:only-of-type {\n",
       "        vertical-align: middle;\n",
       "    }\n",
       "\n",
       "    .dataframe tbody tr th {\n",
       "        vertical-align: top;\n",
       "    }\n",
       "\n",
       "    .dataframe thead th {\n",
       "        text-align: right;\n",
       "    }\n",
       "</style>\n",
       "<table border=\"1\" class=\"dataframe\">\n",
       "  <thead>\n",
       "    <tr style=\"text-align: right;\">\n",
       "      <th></th>\n",
       "      <th>loan_amnt</th>\n",
       "      <th>funded_amnt</th>\n",
       "      <th>funded_amnt_inv</th>\n",
       "      <th>term</th>\n",
       "    </tr>\n",
       "  </thead>\n",
       "  <tbody>\n",
       "    <tr>\n",
       "      <th>100</th>\n",
       "      <td>30000</td>\n",
       "      <td>30000</td>\n",
       "      <td>30000.0</td>\n",
       "      <td>36 months</td>\n",
       "    </tr>\n",
       "    <tr>\n",
       "      <th>152</th>\n",
       "      <td>40000</td>\n",
       "      <td>40000</td>\n",
       "      <td>40000.0</td>\n",
       "      <td>60 months</td>\n",
       "    </tr>\n",
       "    <tr>\n",
       "      <th>170</th>\n",
       "      <td>20000</td>\n",
       "      <td>20000</td>\n",
       "      <td>20000.0</td>\n",
       "      <td>36 months</td>\n",
       "    </tr>\n",
       "  </tbody>\n",
       "</table>\n",
       "</div>"
      ],
      "text/plain": [
       "     loan_amnt  funded_amnt  funded_amnt_inv        term\n",
       "100  30000      30000        30000.0           36 months\n",
       "152  40000      40000        40000.0           60 months\n",
       "170  20000      20000        20000.0           36 months"
      ]
     },
     "execution_count": 39,
     "metadata": {},
     "output_type": "execute_result"
    }
   ],
   "source": [
    "loans_1.iloc[:3, [0,1,2,3]]"
   ]
  },
  {
   "cell_type": "code",
   "execution_count": 40,
   "metadata": {},
   "outputs": [
    {
     "data": {
      "image/png": "[encoded data removed]",
      "text/plain": [
       "<Figure size 576x504 with 3 Axes>"
      ]
     },
     "metadata": {
      "needs_background": "light"
     },
     "output_type": "display_data"
    }
   ],
   "source": [
    "fig, ax = plt.subplots(3, figsize=(8,7))\n",
    "plt.suptitle(\"Comparing distributions of the amount variables\")\n",
    "ax[0].hist(loans_1.loan_amnt, color=\"r\", edgecolor=\"black\", \n",
    "           linewidth=\"1.5\")\n",
    "ax[1].hist(loans_1.funded_amnt, color=\"b\", edgecolor=\"red\", linewidth=\"1.5\")\n",
    "ax[2].hist(loans_1.funded_amnt_inv, color=\"white\", edgecolor=\"black\",\n",
    "           linewidth=\"1.5\")\n",
    "plt.show()\n",
    "\n",
    "# The distributions look very similar. Does this mean the variables \n",
    "# contain the similar information?\n"
   ]
  },
  {
   "cell_type": "code",
   "execution_count": 41,
   "metadata": {},
   "outputs": [
    {
     "data": {
      "text/plain": [
       "1921"
      ]
     },
     "execution_count": 41,
     "metadata": {},
     "output_type": "execute_result"
    }
   ],
   "source": [
    "# Count of difference between loan_amount and funded amount\n",
    "loans_1.query('loan_amnt != funded_amnt').shape[0]"
   ]
  },
  {
   "cell_type": "markdown",
   "metadata": {},
   "source": [
    "These variables are highly correlated and are leaking information from\n",
    "the future. For this reason only loan amount is maintained."
   ]
  },
  {
   "cell_type": "code",
   "execution_count": 42,
   "metadata": {},
   "outputs": [],
   "source": [
    "loans_1.drop(['funded_amnt_inv', 'funded_amnt'], axis = 1, inplace=True)"
   ]
  },
  {
   "cell_type": "markdown",
   "metadata": {},
   "source": [
    "#### emp_title, emp_length"
   ]
  },
  {
   "cell_type": "markdown",
   "metadata": {},
   "source": [
    " <table style=\"width:100%\">\n",
    "  <tr>\n",
    "    <th>Variable</th>\n",
    "    <th>Explanation</th>\n",
    "  </tr>\n",
    "  <tr>\n",
    "    <td>emp_title</td>\n",
    "    <td>\n",
    "The job title supplied by the Borrower when applying for the loan.*\n",
    "  </tr>\n",
    "  <tr>\n",
    "    <td>emp_length</td>\n",
    "    <td>\n",
    "Employment length in years. Possible values are between 0 and 10 \n",
    "where 0 means less than one year and 10 \n",
    "means ten or more years. </td>\n",
    "  </tr> \n",
    "\n",
    "    \n",
    "</table> "
   ]
  },
  {
   "cell_type": "code",
   "execution_count": 43,
   "metadata": {},
   "outputs": [
    {
     "data": {
      "text/html": [
       "<div>\n",
       "<style scoped>\n",
       "    .dataframe tbody tr th:only-of-type {\n",
       "        vertical-align: middle;\n",
       "    }\n",
       "\n",
       "    .dataframe tbody tr th {\n",
       "        vertical-align: top;\n",
       "    }\n",
       "\n",
       "    .dataframe thead th {\n",
       "        text-align: right;\n",
       "    }\n",
       "</style>\n",
       "<table border=\"1\" class=\"dataframe\">\n",
       "  <thead>\n",
       "    <tr style=\"text-align: right;\">\n",
       "      <th></th>\n",
       "      <th>emp_title</th>\n",
       "      <th>emp_length</th>\n",
       "    </tr>\n",
       "  </thead>\n",
       "  <tbody>\n",
       "    <tr>\n",
       "      <th>0</th>\n",
       "      <td>Supervisor</td>\n",
       "      <td>5 years</td>\n",
       "    </tr>\n",
       "    <tr>\n",
       "      <th>1</th>\n",
       "      <td>Assistant to the Treasurer (Payroll)</td>\n",
       "      <td>&lt; 1 year</td>\n",
       "    </tr>\n",
       "    <tr>\n",
       "      <th>2</th>\n",
       "      <td>Teacher</td>\n",
       "      <td>10+ years</td>\n",
       "    </tr>\n",
       "    <tr>\n",
       "      <th>3</th>\n",
       "      <td>Accounts Examiner III</td>\n",
       "      <td>10+ years</td>\n",
       "    </tr>\n",
       "    <tr>\n",
       "      <th>4</th>\n",
       "      <td>Senior Director Risk Management</td>\n",
       "      <td>3 years</td>\n",
       "    </tr>\n",
       "    <tr>\n",
       "      <th>5</th>\n",
       "      <td>Front office Lead</td>\n",
       "      <td>4 years</td>\n",
       "    </tr>\n",
       "  </tbody>\n",
       "</table>\n",
       "</div>"
      ],
      "text/plain": [
       "                              emp_title emp_length\n",
       "0  Supervisor                            5 years  \n",
       "1  Assistant to the Treasurer (Payroll)  < 1 year \n",
       "2  Teacher                               10+ years\n",
       "3  Accounts Examiner III                 10+ years\n",
       "4  Senior Director Risk Management       3 years  \n",
       "5  Front office Lead                     4 years  "
      ]
     },
     "execution_count": 43,
     "metadata": {},
     "output_type": "execute_result"
    }
   ],
   "source": [
    "loans_1.reset_index().loc[:5, ['emp_title', 'emp_length']]                           "
   ]
  },
  {
   "cell_type": "code",
   "execution_count": 44,
   "metadata": {},
   "outputs": [
    {
     "data": {
      "text/plain": [
       "371435"
      ]
     },
     "execution_count": 44,
     "metadata": {},
     "output_type": "execute_result"
    }
   ],
   "source": [
    "pd.Series(pd.unique(loans_1['emp_title'])).count()\n",
    "# The number of unique job titles seems rather high"
   ]
  },
  {
   "cell_type": "code",
   "execution_count": 45,
   "metadata": {},
   "outputs": [
    {
     "name": "stdout",
     "output_type": "stream",
     "text": [
      "Teacher             20496\n",
      "Manager             18704\n",
      "Owner               9803 \n",
      "Registered Nurse    8477 \n",
      "RN                  8253 \n",
      "Supervisor          8012 \n",
      "Driver              7230 \n",
      "Sales               7213 \n",
      "Project Manager     6154 \n",
      "Office Manager      5345 \n",
      "Name: emp_title, dtype: int64\n",
      "371435\n",
      "Diagnostic imaging tech                  1\n",
      "Corp Quality Systems Mgr                 1\n",
      "EMCOR Government Services                1\n",
      "CSUCI                                    1\n",
      "Director of Child Welfare                1\n",
      "National Products and Systems Trainer    1\n",
      "Nava Counseling Services                 1\n",
      "Senior Corporate Account Executive       1\n",
      "Head Age Group Coach                     1\n",
      "VP communications                        1\n",
      "Name: emp_title, dtype: int64\n"
     ]
    }
   ],
   "source": [
    "emp_title_1 = loans_1.emp_title.value_counts()\n",
    "print(emp_title_1.head(10))\n",
    "print(emp_title_1.shape[0])\n",
    "print(emp_title_1.tail(10))\n",
    "# A categorization of the job titles is difficult and\n",
    "# it is not clear if there are different titles for the same task"
   ]
  },
  {
   "cell_type": "code",
   "execution_count": 46,
   "metadata": {},
   "outputs": [],
   "source": [
    "# The job title column is therefore dropped.\n",
    "loans_1 = loans_1.drop('emp_title', axis=1)"
   ]
  },
  {
   "cell_type": "markdown",
   "metadata": {},
   "source": [
    "Employment length is normally a factor for creditworthiness.\n",
    "However the values in the variable do not match the explanation.\n",
    "The values are not numerical."
   ]
  },
  {
   "cell_type": "code",
   "execution_count": 47,
   "metadata": {},
   "outputs": [
    {
     "data": {
      "text/plain": [
       "12"
      ]
     },
     "execution_count": 47,
     "metadata": {},
     "output_type": "execute_result"
    }
   ],
   "source": [
    "len(loans_1['emp_length'].unique())"
   ]
  },
  {
   "cell_type": "code",
   "execution_count": 48,
   "metadata": {},
   "outputs": [
    {
     "data": {
      "text/plain": [
       "10+ years    428547\n",
       "2 years      117820\n",
       "< 1 year     104550\n",
       "3 years      104200\n",
       "1 year       85677 \n",
       "5 years      81623 \n",
       "4 years      78029 \n",
       "6 years      60933 \n",
       "8 years      59125 \n",
       "7 years      58145 \n",
       "9 years      49504 \n",
       "Name: emp_length, dtype: int64"
      ]
     },
     "execution_count": 48,
     "metadata": {},
     "output_type": "execute_result"
    }
   ],
   "source": [
    "loans_1['emp_length'].value_counts()"
   ]
  },
  {
   "cell_type": "markdown",
   "metadata": {},
   "source": [
    "Removing string elements from the values."
   ]
  },
  {
   "cell_type": "code",
   "execution_count": 49,
   "metadata": {},
   "outputs": [
    {
     "name": "stdout",
     "output_type": "stream",
     "text": [
      "10    428547\n",
      "1     190227\n",
      "2     117820\n",
      "3     104200\n",
      "5     81623 \n",
      "4     78029 \n",
      "6     60933 \n",
      "8     59125 \n",
      "7     58145 \n",
      "9     49504 \n",
      "Name: emp_length, dtype: int64\n",
      "<class 'pandas.core.series.Series'>\n",
      "<class 'str'>\n"
     ]
    }
   ],
   "source": [
    "empl_1 = loans_1['emp_length']\n",
    "empl_1 = \\\n",
    "empl_1.str.replace('years', '').str.replace('<','')\n",
    "empl_1 = \\\n",
    "empl_1.str.replace('year','').str.replace('+','').str.strip()\n",
    "\n",
    "print(empl_1.value_counts())\n",
    "print(type(empl_1))\n",
    "print(type(empl_1.iloc[3]))"
   ]
  },
  {
   "cell_type": "code",
   "execution_count": 50,
   "metadata": {},
   "outputs": [
    {
     "name": "stdout",
     "output_type": "stream",
     "text": [
      "75454\n"
     ]
    }
   ],
   "source": [
    "print(empl_1.isnull().sum())"
   ]
  },
  {
   "cell_type": "code",
   "execution_count": 51,
   "metadata": {},
   "outputs": [
    {
     "name": "stdout",
     "output_type": "stream",
     "text": [
      "False\n",
      "int32\n",
      "<class 'numpy.int32'>\n"
     ]
    }
   ],
   "source": [
    "# replace nan values and change dtype to int\n",
    "\n",
    "empl_2 = empl_1.copy()\n",
    "\n",
    "empl_2  = empl_2 .fillna(0)\n",
    "empl_2  = empl_2 .astype('int32')\n",
    "\n",
    "print(isinstance(empl_2 , int))\n",
    "print(empl_2.dtype)\n",
    "print(type(empl_2.iloc[4]))"
   ]
  },
  {
   "cell_type": "code",
   "execution_count": 52,
   "metadata": {},
   "outputs": [
    {
     "name": "stdout",
     "output_type": "stream",
     "text": [
      "1000    1 \n",
      "1001    10\n",
      "1002    10\n",
      "1003    1 \n",
      "1004    2 \n",
      "1005    10\n",
      "Name: emp_length, dtype: int32\n"
     ]
    }
   ],
   "source": [
    "loans_1['emp_length'] = empl_2 \n",
    "print(loans_1.reset_index().loc[1000:1005,'emp_length'])"
   ]
  },
  {
   "cell_type": "code",
   "execution_count": 53,
   "metadata": {},
   "outputs": [
    {
     "data": {
      "image/png": "[encoded data removed]",
      "text/plain": [
       "<Figure size 576x360 with 1 Axes>"
      ]
     },
     "metadata": {
      "needs_background": "light"
     },
     "output_type": "display_data"
    }
   ],
   "source": [
    "fig, ax = plt.subplots(1, figsize=(8,5))\n",
    "plt.suptitle(\"Employment length frequency\")\n",
    "loans_1['emp_length'].value_counts().plot(kind='bar', ax=ax, \n",
    "                                          color=['red', 'green'],\n",
    "                                          edgecolor=\"b\", linewidth=\"2\")\n",
    "ax.set_xlabel(\"years\")\n",
    "ax.set_ylabel(\"frequency\")\n",
    "plt.show()\n",
    "\n",
    "# 10 years or more is the most common value"
   ]
  },
  {
   "cell_type": "markdown",
   "metadata": {},
   "source": [
    "#### verification_status, verified_status_joint\n"
   ]
  },
  {
   "cell_type": "markdown",
   "metadata": {},
   "source": [
    " <table style=\"width:100%\">\n",
    "  <tr>\n",
    "    <th>Variable</th>\n",
    "    <th>Explanation</th>\n",
    "  </tr>\n",
    "  <tr>\n",
    "    <td>verification_status</td>\n",
    "    <td>\n",
    "Indicates if the co-borrowers' joint income was verified by LC, not verified, or if the income source was verified\n",
    "</td>\n",
    "\n",
    "  </tr>\n",
    "  <tr>\n",
    "    <td> verified_status_joint</td>\n",
    "    <td>\n",
    "Indicates if income was verified by LC, not verified, or if the income source was verified</td>\n",
    "  </tr> \n",
    " \n",
    "    \n",
    "</table> \n"
   ]
  },
  {
   "cell_type": "code",
   "execution_count": 54,
   "metadata": {},
   "outputs": [
    {
     "data": {
      "text/plain": [
       "2144938"
      ]
     },
     "execution_count": 54,
     "metadata": {},
     "output_type": "execute_result"
    }
   ],
   "source": [
    "# the variable verification_status_joint was erased because of too\n",
    "# many null values\n",
    "loans.verification_status_joint.isnull().sum()"
   ]
  },
  {
   "cell_type": "code",
   "execution_count": 55,
   "metadata": {},
   "outputs": [],
   "source": [
    "loans_2 = loans_1.copy()"
   ]
  },
  {
   "cell_type": "code",
   "execution_count": 56,
   "metadata": {},
   "outputs": [
    {
     "name": "stdout",
     "output_type": "stream",
     "text": [
      "['Source Verified' 'Verified' 'Not Verified']\n",
      "Source Verified    503726\n",
      "Verified           407676\n",
      "Not Verified       392205\n",
      "Name: verification_status, dtype: int64\n"
     ]
    },
    {
     "data": {
      "text/plain": [
       "0"
      ]
     },
     "execution_count": 56,
     "metadata": {},
     "output_type": "execute_result"
    }
   ],
   "source": [
    "print(loans_2.verification_status.unique())\n",
    "print(loans_2.verification_status.value_counts())\n",
    "loans_2.verification_status.isnull().sum()"
   ]
  },
  {
   "cell_type": "code",
   "execution_count": 57,
   "metadata": {},
   "outputs": [
    {
     "data": {
      "image/png": "[encoded data removed]",
      "text/plain": [
       "<Figure size 432x288 with 1 Axes>"
      ]
     },
     "metadata": {
      "needs_background": "light"
     },
     "output_type": "display_data"
    }
   ],
   "source": [
    "fig, ax = plt.subplots(1)\n",
    "plt.suptitle(\"Frequency of verification_status\")\n",
    "ax.bar(x=loans_2.verification_status.unique(),\n",
    "       height=loans_2.verification_status.value_counts(),\n",
    "       color=['r',\"y\",'g'], edgecolor=\"black\", linewidth=2)\n",
    "plt.show()"
   ]
  },
  {
   "cell_type": "code",
   "execution_count": 58,
   "metadata": {},
   "outputs": [
    {
     "name": "stdout",
     "output_type": "stream",
     "text": [
      "<class 'str'>\n"
     ]
    },
    {
     "data": {
      "text/plain": [
       "True"
      ]
     },
     "execution_count": 58,
     "metadata": {},
     "output_type": "execute_result"
    }
   ],
   "source": [
    "loans_2.verification_status.dtype\n",
    "# 'O' (Python) objects\n",
    "print(type(loans_2.verification_status.iloc[4]))\n",
    "isinstance(loans_2.verification_status, object)"
   ]
  },
  {
   "cell_type": "markdown",
   "metadata": {},
   "source": [
    "This variable is categorical. Machine learning algorithms can only\n",
    "read numerical data. The attributes of this variable must be turned\n",
    "into numbers. This process is called \"encoding\" and belong\n",
    "to the data preprocessing step in the data science workflow."
   ]
  },
  {
   "cell_type": "markdown",
   "metadata": {},
   "source": [
    "#### Preprocessing: turning verification_status into a numerical variable using label & one hot encoder and pd. concat."
   ]
  },
  {
   "cell_type": "code",
   "execution_count": 59,
   "metadata": {},
   "outputs": [
    {
     "name": "stdout",
     "output_type": "stream",
     "text": [
      "<class 'list'>\n"
     ]
    }
   ],
   "source": [
    "veri_1 = list(loans_2.verification_status)\n",
    "print(type(veri_1))"
   ]
  },
  {
   "cell_type": "code",
   "execution_count": 60,
   "metadata": {},
   "outputs": [
    {
     "data": {
      "text/plain": [
       "array(['Not Verified', 'Source Verified', 'Verified'], dtype='<U15')"
      ]
     },
     "execution_count": 60,
     "metadata": {},
     "output_type": "execute_result"
    }
   ],
   "source": [
    "le = LabelEncoder()\n",
    "le.fit(veri_1)\n",
    "le.classes_"
   ]
  },
  {
   "cell_type": "code",
   "execution_count": 61,
   "metadata": {},
   "outputs": [
    {
     "name": "stdout",
     "output_type": "stream",
     "text": [
      "[0 1 2]\n",
      "1303607\n",
      "1303607\n",
      "<class 'numpy.int64'>\n"
     ]
    }
   ],
   "source": [
    "veri_2 = le.transform(veri_1)\n",
    "print(np.unique(veri_2))\n",
    "print(len(veri_2))\n",
    "print(len(veri_1))\n",
    "print(type(veri_2[2]))"
   ]
  },
  {
   "cell_type": "code",
   "execution_count": 62,
   "metadata": {},
   "outputs": [
    {
     "name": "stdout",
     "output_type": "stream",
     "text": [
      "5206    2\n",
      "5252    1\n",
      "5335    1\n",
      "5349    0\n",
      "5378    2\n",
      "5417    0\n",
      "5515    1\n",
      "5524    0\n",
      "5623    0\n",
      "5652    1\n",
      "Name: verification_status, dtype: int64\n",
      "<class 'numpy.int64'>\n"
     ]
    }
   ],
   "source": [
    "loans_2.verification_status = veri_2\n",
    "print(loans_2.verification_status[100:110])\n",
    "print(type(loans_2.verification_status.iloc[5]))"
   ]
  },
  {
   "cell_type": "code",
   "execution_count": 63,
   "metadata": {},
   "outputs": [
    {
     "data": {
      "text/plain": [
       "OneHotEncoder(categorical_features=None, categories=None,\n",
       "       dtype=<class 'numpy.float64'>, handle_unknown='error',\n",
       "       n_values=None, sparse=False)"
      ]
     },
     "execution_count": 63,
     "metadata": {},
     "output_type": "execute_result"
    }
   ],
   "source": [
    "ohe = OneHotEncoder(sparse=False ) \n",
    "ohe"
   ]
  },
  {
   "cell_type": "code",
   "execution_count": 64,
   "metadata": {},
   "outputs": [
    {
     "data": {
      "text/plain": [
       "<bound method BaseEstimator.get_params of OneHotEncoder(categorical_features=None, categories=None,\n",
       "       dtype=<class 'numpy.float64'>, handle_unknown='error',\n",
       "       n_values=None, sparse=False)>"
      ]
     },
     "execution_count": 64,
     "metadata": {},
     "output_type": "execute_result"
    }
   ],
   "source": [
    "ohe.get_params"
   ]
  },
  {
   "cell_type": "code",
   "execution_count": 65,
   "metadata": {},
   "outputs": [],
   "source": [
    "veri_ohe = ohe.fit_transform(np.asarray(veri_1).reshape(-1, 1))"
   ]
  },
  {
   "cell_type": "code",
   "execution_count": 66,
   "metadata": {},
   "outputs": [
    {
     "data": {
      "text/plain": [
       "array([[0., 1., 0.],\n",
       "       [0., 0., 1.],\n",
       "       [1., 0., 0.],\n",
       "       ...,\n",
       "       [0., 1., 0.],\n",
       "       [0., 0., 1.],\n",
       "       [1., 0., 0.]])"
      ]
     },
     "execution_count": 66,
     "metadata": {},
     "output_type": "execute_result"
    }
   ],
   "source": [
    "veri_ohe"
   ]
  },
  {
   "cell_type": "code",
   "execution_count": 67,
   "metadata": {},
   "outputs": [
    {
     "name": "stdout",
     "output_type": "stream",
     "text": [
      "(1303607, 3)\n",
      "(1303607, 84)\n"
     ]
    }
   ],
   "source": [
    "print(veri_ohe.shape)\n",
    "print(loans_2.shape)"
   ]
  },
  {
   "cell_type": "code",
   "execution_count": 68,
   "metadata": {},
   "outputs": [
    {
     "name": "stdout",
     "output_type": "stream",
     "text": [
      "   ohe_1  ohe_2  ohe_3\n",
      "0  0.0    1.0    0.0  \n",
      "1  0.0    0.0    1.0  \n",
      "2  1.0    0.0    0.0  \n",
      "3  1.0    0.0    0.0  \n",
      "4  0.0    0.0    1.0  \n"
     ]
    }
   ],
   "source": [
    "df_veri = pd.DataFrame({'ohe_1':veri_ohe[:,0],\n",
    "                        'ohe_2': veri_ohe[:,1],\n",
    "                        'ohe_3':veri_ohe[:,2]})\n",
    "\n",
    "print(df_veri.head(5))"
   ]
  },
  {
   "cell_type": "code",
   "execution_count": 69,
   "metadata": {},
   "outputs": [
    {
     "name": "stdout",
     "output_type": "stream",
     "text": [
      "(1303607, 89)\n"
     ]
    }
   ],
   "source": [
    "loans_3 = pd.concat([loans_2.reset_index(),\n",
    "                     df_veri.reset_index()], axis=1)\n",
    "print(loans_3.shape)\n"
   ]
  },
  {
   "cell_type": "code",
   "execution_count": 70,
   "metadata": {},
   "outputs": [
    {
     "name": "stdout",
     "output_type": "stream",
     "text": [
      "found verification_status\n",
      "found ohe_1\n",
      "found ohe_2\n",
      "found ohe_3\n"
     ]
    }
   ],
   "source": [
    "for name in ('verification_status', 'ohe_1', 'ohe_2', 'ohe_3'):\n",
    "    if name in loans_3.columns:\n",
    "        print(\"found\", name)"
   ]
  },
  {
   "cell_type": "code",
   "execution_count": 71,
   "metadata": {},
   "outputs": [
    {
     "data": {
      "text/html": [
       "<div>\n",
       "<style scoped>\n",
       "    .dataframe tbody tr th:only-of-type {\n",
       "        vertical-align: middle;\n",
       "    }\n",
       "\n",
       "    .dataframe tbody tr th {\n",
       "        vertical-align: top;\n",
       "    }\n",
       "\n",
       "    .dataframe thead th {\n",
       "        text-align: right;\n",
       "    }\n",
       "</style>\n",
       "<table border=\"1\" class=\"dataframe\">\n",
       "  <thead>\n",
       "    <tr style=\"text-align: right;\">\n",
       "      <th></th>\n",
       "      <th>verification_status</th>\n",
       "      <th>ohe_1</th>\n",
       "      <th>ohe_2</th>\n",
       "      <th>ohe_3</th>\n",
       "    </tr>\n",
       "  </thead>\n",
       "  <tbody>\n",
       "    <tr>\n",
       "      <th>0</th>\n",
       "      <td>1</td>\n",
       "      <td>0.0</td>\n",
       "      <td>1.0</td>\n",
       "      <td>0.0</td>\n",
       "    </tr>\n",
       "    <tr>\n",
       "      <th>1</th>\n",
       "      <td>2</td>\n",
       "      <td>0.0</td>\n",
       "      <td>0.0</td>\n",
       "      <td>1.0</td>\n",
       "    </tr>\n",
       "    <tr>\n",
       "      <th>2</th>\n",
       "      <td>0</td>\n",
       "      <td>1.0</td>\n",
       "      <td>0.0</td>\n",
       "      <td>0.0</td>\n",
       "    </tr>\n",
       "    <tr>\n",
       "      <th>3</th>\n",
       "      <td>0</td>\n",
       "      <td>1.0</td>\n",
       "      <td>0.0</td>\n",
       "      <td>0.0</td>\n",
       "    </tr>\n",
       "    <tr>\n",
       "      <th>4</th>\n",
       "      <td>2</td>\n",
       "      <td>0.0</td>\n",
       "      <td>0.0</td>\n",
       "      <td>1.0</td>\n",
       "    </tr>\n",
       "  </tbody>\n",
       "</table>\n",
       "</div>"
      ],
      "text/plain": [
       "   verification_status  ohe_1  ohe_2  ohe_3\n",
       "0  1                    0.0    1.0    0.0  \n",
       "1  2                    0.0    0.0    1.0  \n",
       "2  0                    1.0    0.0    0.0  \n",
       "3  0                    1.0    0.0    0.0  \n",
       "4  2                    0.0    0.0    1.0  "
      ]
     },
     "execution_count": 71,
     "metadata": {},
     "output_type": "execute_result"
    }
   ],
   "source": [
    "loans_ohe = \\\n",
    "loans_3.loc[:, ['verification_status', 'ohe_1', 'ohe_2', 'ohe_3']]\n",
    "loans_ohe.head()"
   ]
  },
  {
   "cell_type": "markdown",
   "metadata": {},
   "source": [
    "The one hot encoded array was successfully inserted back into\n",
    "the data frame. Checking the first lines the values match.\n",
    "In line 1 verification status is 2 and ohe_3 is 1, while ohe_1 and\n",
    "ohe_2 are 0."
   ]
  },
  {
   "cell_type": "code",
   "execution_count": 72,
   "metadata": {},
   "outputs": [],
   "source": [
    "loans_3=loans_3.drop('verification_status', axis=1)\n"
   ]
  },
  {
   "cell_type": "markdown",
   "metadata": {},
   "source": [
    "Multicolinearity and the dummy variable threat is avoided by deleting one of the three columns\n",
    "from the set."
   ]
  },
  {
   "cell_type": "code",
   "execution_count": 73,
   "metadata": {},
   "outputs": [],
   "source": [
    "loans_3 = loans_3.drop('ohe_3', axis=1)"
   ]
  },
  {
   "cell_type": "code",
   "execution_count": 74,
   "metadata": {},
   "outputs": [
    {
     "name": "stdout",
     "output_type": "stream",
     "text": [
      "not found\n"
     ]
    }
   ],
   "source": [
    "if \"verification_status\" in loans_3.columns:\n",
    "    print(\"found\")\n",
    "else:\n",
    "    print(\"not found\")"
   ]
  },
  {
   "cell_type": "code",
   "execution_count": 75,
   "metadata": {},
   "outputs": [
    {
     "data": {
      "text/html": [
       "<div>\n",
       "<style scoped>\n",
       "    .dataframe tbody tr th:only-of-type {\n",
       "        vertical-align: middle;\n",
       "    }\n",
       "\n",
       "    .dataframe tbody tr th {\n",
       "        vertical-align: top;\n",
       "    }\n",
       "\n",
       "    .dataframe thead th {\n",
       "        text-align: right;\n",
       "    }\n",
       "</style>\n",
       "<table border=\"1\" class=\"dataframe\">\n",
       "  <thead>\n",
       "    <tr style=\"text-align: right;\">\n",
       "      <th></th>\n",
       "      <th>loan_amnt</th>\n",
       "      <th>term</th>\n",
       "      <th>int_rate</th>\n",
       "      <th>installment</th>\n",
       "      <th>grade</th>\n",
       "      <th>sub_grade</th>\n",
       "      <th>emp_length</th>\n",
       "      <th>home_ownership</th>\n",
       "      <th>annual_inc</th>\n",
       "      <th>issue_d</th>\n",
       "      <th>...</th>\n",
       "      <th>tax_liens</th>\n",
       "      <th>tot_hi_cred_lim</th>\n",
       "      <th>total_bal_ex_mort</th>\n",
       "      <th>total_bc_limit</th>\n",
       "      <th>total_il_high_credit_limit</th>\n",
       "      <th>hardship_flag</th>\n",
       "      <th>disbursement_method</th>\n",
       "      <th>debt_settlement_flag</th>\n",
       "      <th>ohe_1</th>\n",
       "      <th>ohe_2</th>\n",
       "    </tr>\n",
       "  </thead>\n",
       "  <tbody>\n",
       "    <tr>\n",
       "      <th>0</th>\n",
       "      <td>30000</td>\n",
       "      <td>36 months</td>\n",
       "      <td>22.35</td>\n",
       "      <td>1151.16</td>\n",
       "      <td>D</td>\n",
       "      <td>D5</td>\n",
       "      <td>5</td>\n",
       "      <td>MORTGAGE</td>\n",
       "      <td>100000.0</td>\n",
       "      <td>Dec-2018</td>\n",
       "      <td>...</td>\n",
       "      <td>0.0</td>\n",
       "      <td>527120.0</td>\n",
       "      <td>98453.0</td>\n",
       "      <td>28600.0</td>\n",
       "      <td>101984.0</td>\n",
       "      <td>N</td>\n",
       "      <td>Cash</td>\n",
       "      <td>N</td>\n",
       "      <td>0.0</td>\n",
       "      <td>1.0</td>\n",
       "    </tr>\n",
       "    <tr>\n",
       "      <th>1</th>\n",
       "      <td>40000</td>\n",
       "      <td>60 months</td>\n",
       "      <td>16.14</td>\n",
       "      <td>975.71</td>\n",
       "      <td>C</td>\n",
       "      <td>C4</td>\n",
       "      <td>1</td>\n",
       "      <td>MORTGAGE</td>\n",
       "      <td>45000.0</td>\n",
       "      <td>Dec-2018</td>\n",
       "      <td>...</td>\n",
       "      <td>0.0</td>\n",
       "      <td>344802.0</td>\n",
       "      <td>161720.0</td>\n",
       "      <td>45700.0</td>\n",
       "      <td>167965.0</td>\n",
       "      <td>N</td>\n",
       "      <td>Cash</td>\n",
       "      <td>N</td>\n",
       "      <td>0.0</td>\n",
       "      <td>0.0</td>\n",
       "    </tr>\n",
       "  </tbody>\n",
       "</table>\n",
       "<p>2 rows × 85 columns</p>\n",
       "</div>"
      ],
      "text/plain": [
       "   loan_amnt        term  int_rate  installment grade sub_grade  emp_length  \\\n",
       "0  30000       36 months  22.35     1151.16      D     D5        5            \n",
       "1  40000       60 months  16.14     975.71       C     C4        1            \n",
       "\n",
       "  home_ownership  annual_inc   issue_d  ...  tax_liens tot_hi_cred_lim  \\\n",
       "0  MORTGAGE       100000.0    Dec-2018  ...  0.0        527120.0         \n",
       "1  MORTGAGE       45000.0     Dec-2018  ...  0.0        344802.0         \n",
       "\n",
       "  total_bal_ex_mort total_bc_limit total_il_high_credit_limit hardship_flag  \\\n",
       "0  98453.0           28600.0        101984.0                   N              \n",
       "1  161720.0          45700.0        167965.0                   N              \n",
       "\n",
       "   disbursement_method  debt_settlement_flag ohe_1  ohe_2  \n",
       "0  Cash                 N                     0.0   1.0    \n",
       "1  Cash                 N                     0.0   0.0    \n",
       "\n",
       "[2 rows x 85 columns]"
      ]
     },
     "execution_count": 75,
     "metadata": {},
     "output_type": "execute_result"
    }
   ],
   "source": [
    "loans_3 = loans_3.drop('index', axis=1)\n",
    "loans_3.head(2)\n"
   ]
  },
  {
   "cell_type": "markdown",
   "metadata": {},
   "source": [
    "\"verification_status\" was successfully removed from the data frame.\n",
    "Instead the ohe columns are kept."
   ]
  },
  {
   "cell_type": "code",
   "execution_count": 76,
   "metadata": {},
   "outputs": [
    {
     "data": {
      "text/plain": [
       "<bound method BaseEstimator.get_params of OneHotEncoder(categorical_features=None, categories=None,\n",
       "       dtype=<class 'numpy.float64'>, handle_unknown='error',\n",
       "       n_values=None, sparse=False)>"
      ]
     },
     "execution_count": 76,
     "metadata": {},
     "output_type": "execute_result"
    }
   ],
   "source": [
    "ohe.get_params"
   ]
  },
  {
   "cell_type": "code",
   "execution_count": 77,
   "metadata": {},
   "outputs": [
    {
     "data": {
      "text/plain": [
       "<bound method OneHotEncoder.get_feature_names of OneHotEncoder(categorical_features=None, categories=None,\n",
       "       dtype=<class 'numpy.float64'>, handle_unknown='error',\n",
       "       n_values=None, sparse=False)>"
      ]
     },
     "execution_count": 77,
     "metadata": {},
     "output_type": "execute_result"
    }
   ],
   "source": [
    "ohe.get_feature_names"
   ]
  },
  {
   "cell_type": "markdown",
   "metadata": {},
   "source": [
    "#### grade"
   ]
  },
  {
   "cell_type": "code",
   "execution_count": 78,
   "metadata": {},
   "outputs": [
    {
     "data": {
      "text/html": [
       "<div>\n",
       "<style scoped>\n",
       "    .dataframe tbody tr th:only-of-type {\n",
       "        vertical-align: middle;\n",
       "    }\n",
       "\n",
       "    .dataframe tbody tr th {\n",
       "        vertical-align: top;\n",
       "    }\n",
       "\n",
       "    .dataframe thead th {\n",
       "        text-align: right;\n",
       "    }\n",
       "</style>\n",
       "<table border=\"1\" class=\"dataframe\">\n",
       "  <thead>\n",
       "    <tr style=\"text-align: right;\">\n",
       "      <th></th>\n",
       "      <th>int_rate</th>\n",
       "      <th>installment</th>\n",
       "      <th>sub_grade</th>\n",
       "      <th>emp_length</th>\n",
       "      <th>annual_inc</th>\n",
       "    </tr>\n",
       "  </thead>\n",
       "  <tbody>\n",
       "    <tr>\n",
       "      <th>0</th>\n",
       "      <td>22.35</td>\n",
       "      <td>1151.16</td>\n",
       "      <td>D5</td>\n",
       "      <td>5</td>\n",
       "      <td>100000.0</td>\n",
       "    </tr>\n",
       "    <tr>\n",
       "      <th>1</th>\n",
       "      <td>16.14</td>\n",
       "      <td>975.71</td>\n",
       "      <td>C4</td>\n",
       "      <td>1</td>\n",
       "      <td>45000.0</td>\n",
       "    </tr>\n",
       "    <tr>\n",
       "      <th>2</th>\n",
       "      <td>7.56</td>\n",
       "      <td>622.68</td>\n",
       "      <td>A3</td>\n",
       "      <td>10</td>\n",
       "      <td>100000.0</td>\n",
       "    </tr>\n",
       "  </tbody>\n",
       "</table>\n",
       "</div>"
      ],
      "text/plain": [
       "   int_rate  installment sub_grade  emp_length  annual_inc\n",
       "0  22.35     1151.16      D5        5           100000.0  \n",
       "1  16.14     975.71       C4        1           45000.0   \n",
       "2  7.56      622.68       A3        10          100000.0  "
      ]
     },
     "execution_count": 78,
     "metadata": {},
     "output_type": "execute_result"
    }
   ],
   "source": [
    "loans_3.iloc[:3, [2,3, 5,6,8]]"
   ]
  },
  {
   "cell_type": "code",
   "execution_count": 79,
   "metadata": {},
   "outputs": [
    {
     "data": {
      "text/html": [
       "<div>\n",
       "<style scoped>\n",
       "    .dataframe tbody tr th:only-of-type {\n",
       "        vertical-align: middle;\n",
       "    }\n",
       "\n",
       "    .dataframe tbody tr th {\n",
       "        vertical-align: top;\n",
       "    }\n",
       "\n",
       "    .dataframe thead th {\n",
       "        text-align: right;\n",
       "    }\n",
       "</style>\n",
       "<table border=\"1\" class=\"dataframe\">\n",
       "  <thead>\n",
       "    <tr style=\"text-align: right;\">\n",
       "      <th></th>\n",
       "      <th>variable</th>\n",
       "      <th>dtypes</th>\n",
       "      <th>first value</th>\n",
       "      <th>explanation</th>\n",
       "    </tr>\n",
       "  </thead>\n",
       "  <tbody>\n",
       "    <tr>\n",
       "      <th>6</th>\n",
       "      <td>int_rate</td>\n",
       "      <td>float64</td>\n",
       "      <td>13.56</td>\n",
       "      <td>Interest Rate on the loan</td>\n",
       "    </tr>\n",
       "    <tr>\n",
       "      <th>8</th>\n",
       "      <td>grade</td>\n",
       "      <td>object</td>\n",
       "      <td>C</td>\n",
       "      <td>LC assigned loan grade</td>\n",
       "    </tr>\n",
       "    <tr>\n",
       "      <th>9</th>\n",
       "      <td>sub_grade</td>\n",
       "      <td>object</td>\n",
       "      <td>C1</td>\n",
       "      <td>LC assigned loan subgrade</td>\n",
       "    </tr>\n",
       "  </tbody>\n",
       "</table>\n",
       "</div>"
      ],
      "text/plain": [
       "    variable   dtypes first value                explanation\n",
       "6  int_rate   float64  13.56       Interest Rate on the loan\n",
       "8  grade      object   C           LC assigned loan grade   \n",
       "9  sub_grade  object   C1          LC assigned loan subgrade"
      ]
     },
     "execution_count": 79,
     "metadata": {},
     "output_type": "execute_result"
    }
   ],
   "source": [
    "loans_dtypes_explained[(loans_dtypes_explained.variable == \"grade\") | \n",
    "                       (loans_dtypes_explained.variable == \"sub_grade\") |\n",
    "                       (loans_dtypes_explained.variable == \"int_rate\")]\n",
    "\n",
    "# All values are dependent on each other but grade incorporates all.\n",
    "# Grade is kept, all others are erased"
   ]
  },
  {
   "cell_type": "code",
   "execution_count": 80,
   "metadata": {},
   "outputs": [
    {
     "name": "stdout",
     "output_type": "stream",
     "text": [
      "G    8951  \n",
      "F    31483 \n",
      "E    91570 \n",
      "D    195280\n",
      "A    226243\n",
      "C    369928\n",
      "B    380152\n",
      "Name: grade, dtype: int64\n",
      "['G', 'F', 'E', 'D', 'A', 'C', 'B']\n"
     ]
    }
   ],
   "source": [
    "grade_1  = loans_3.grade.value_counts().sort_values()\n",
    "grade_1_index=grade_1.index.to_list()\n",
    "print(grade_1)\n",
    "print(grade_1_index)"
   ]
  },
  {
   "cell_type": "code",
   "execution_count": 81,
   "metadata": {},
   "outputs": [
    {
     "data": {
      "text/plain": [
       "G    8951   \n",
       "F    40434  \n",
       "E    132004 \n",
       "D    327284 \n",
       "A    553527 \n",
       "C    923455 \n",
       "B    1303607\n",
       "Name: grade, dtype: int64"
      ]
     },
     "execution_count": 81,
     "metadata": {},
     "output_type": "execute_result"
    }
   ],
   "source": [
    "grade_cumsum = np.cumsum(grade_1)\n",
    "grade_cumsum "
   ]
  },
  {
   "cell_type": "code",
   "execution_count": 82,
   "metadata": {},
   "outputs": [
    {
     "data": {
      "image/png": "[encoded data removed]",
      "text/plain": [
       "<Figure size 864x576 with 2 Axes>"
      ]
     },
     "metadata": {
      "needs_background": "light"
     },
     "output_type": "display_data"
    }
   ],
   "source": [
    "fig, (ax1, ax2) = plt.subplots(1,2, figsize=(12,8), sharex=True)\n",
    "plt.subplots_adjust(right=1.5, wspace=None, hspace=None)\n",
    "plt.suptitle(\"Grades\", horizontalalignment=\"center\", fontsize=25,\n",
    "             x=0.8, y=1.1)\n",
    "ax1.bar(height=grade_1 , x=grade_1_index, color=['red', 'gold'],\n",
    "       edgecolor=\"blue\", linewidth=2)\n",
    "ax1.set_title(\"Frequencies\")\n",
    "ax2.plot(grade_1_index, grade_cumsum, color='green', linewidth=2)\n",
    "ax2.set_title(\"Cumulative\")\n",
    "plt.show()"
   ]
  },
  {
   "cell_type": "code",
   "execution_count": 83,
   "metadata": {},
   "outputs": [],
   "source": [
    "# drop redundant variables\n",
    "loans_3 = loans_3.drop(['int_rate' , 'sub_grade'], axis=1)"
   ]
  },
  {
   "cell_type": "code",
   "execution_count": 84,
   "metadata": {},
   "outputs": [
    {
     "data": {
      "text/html": [
       "<div>\n",
       "<style scoped>\n",
       "    .dataframe tbody tr th:only-of-type {\n",
       "        vertical-align: middle;\n",
       "    }\n",
       "\n",
       "    .dataframe tbody tr th {\n",
       "        vertical-align: top;\n",
       "    }\n",
       "\n",
       "    .dataframe thead th {\n",
       "        text-align: right;\n",
       "    }\n",
       "</style>\n",
       "<table border=\"1\" class=\"dataframe\">\n",
       "  <thead>\n",
       "    <tr style=\"text-align: right;\">\n",
       "      <th></th>\n",
       "      <th>variable</th>\n",
       "      <th>dtypes</th>\n",
       "      <th>first value</th>\n",
       "      <th>explanation</th>\n",
       "    </tr>\n",
       "  </thead>\n",
       "  <tbody>\n",
       "    <tr>\n",
       "      <th>19</th>\n",
       "      <td>desc</td>\n",
       "      <td>object</td>\n",
       "      <td>NaN</td>\n",
       "      <td>Loan description provided by the borrower</td>\n",
       "    </tr>\n",
       "    <tr>\n",
       "      <th>20</th>\n",
       "      <td>purpose</td>\n",
       "      <td>object</td>\n",
       "      <td>debt_consolidation</td>\n",
       "      <td>A category provided by the borrower for the loan request.</td>\n",
       "    </tr>\n",
       "    <tr>\n",
       "      <th>21</th>\n",
       "      <td>title</td>\n",
       "      <td>object</td>\n",
       "      <td>Debt consolidation</td>\n",
       "      <td>The loan title provided by the borrower</td>\n",
       "    </tr>\n",
       "    <tr>\n",
       "      <th>22</th>\n",
       "      <td>zip_code</td>\n",
       "      <td>object</td>\n",
       "      <td>109xx</td>\n",
       "      <td>The first 3 numbers of the zip code provided by the borrower in the loan application.</td>\n",
       "    </tr>\n",
       "    <tr>\n",
       "      <th>23</th>\n",
       "      <td>addr_state</td>\n",
       "      <td>object</td>\n",
       "      <td>NY</td>\n",
       "      <td>The state provided by the borrower in the loan application</td>\n",
       "    </tr>\n",
       "    <tr>\n",
       "      <th>24</th>\n",
       "      <td>dti</td>\n",
       "      <td>float64</td>\n",
       "      <td>18.24</td>\n",
       "      <td>A ratio calculated using the borrower’s total monthly debt payments on the total debt obligations, excluding mortgage and the requested LC loan, divided by the borrower’s self-reported monthly income.</td>\n",
       "    </tr>\n",
       "    <tr>\n",
       "      <th>25</th>\n",
       "      <td>delinq_2yrs</td>\n",
       "      <td>float64</td>\n",
       "      <td>0</td>\n",
       "      <td>The number of 30+ days past-due incidences of delinquency in the borrower's credit file for the past 2 years</td>\n",
       "    </tr>\n",
       "    <tr>\n",
       "      <th>26</th>\n",
       "      <td>earliest_cr_line</td>\n",
       "      <td>object</td>\n",
       "      <td>Apr-2001</td>\n",
       "      <td>The month the borrower's earliest reported credit line was opened</td>\n",
       "    </tr>\n",
       "    <tr>\n",
       "      <th>27</th>\n",
       "      <td>inq_last_6mths</td>\n",
       "      <td>float64</td>\n",
       "      <td>1</td>\n",
       "      <td>The number of inquiries in past 6 months (excluding auto and mortgage inquiries)</td>\n",
       "    </tr>\n",
       "    <tr>\n",
       "      <th>28</th>\n",
       "      <td>mths_since_last_delinq</td>\n",
       "      <td>float64</td>\n",
       "      <td>NaN</td>\n",
       "      <td>The number of months since the borrower's last delinquency.</td>\n",
       "    </tr>\n",
       "    <tr>\n",
       "      <th>29</th>\n",
       "      <td>mths_since_last_record</td>\n",
       "      <td>float64</td>\n",
       "      <td>45</td>\n",
       "      <td>The number of months since the last public record.</td>\n",
       "    </tr>\n",
       "    <tr>\n",
       "      <th>30</th>\n",
       "      <td>open_acc</td>\n",
       "      <td>float64</td>\n",
       "      <td>9</td>\n",
       "      <td>The number of open credit lines in the borrower's credit file.</td>\n",
       "    </tr>\n",
       "    <tr>\n",
       "      <th>31</th>\n",
       "      <td>pub_rec</td>\n",
       "      <td>float64</td>\n",
       "      <td>1</td>\n",
       "      <td>Number of derogatory public records</td>\n",
       "    </tr>\n",
       "    <tr>\n",
       "      <th>32</th>\n",
       "      <td>revol_bal</td>\n",
       "      <td>int64</td>\n",
       "      <td>4341</td>\n",
       "      <td>Total credit revolving balance</td>\n",
       "    </tr>\n",
       "    <tr>\n",
       "      <th>33</th>\n",
       "      <td>revol_util</td>\n",
       "      <td>float64</td>\n",
       "      <td>10.3</td>\n",
       "      <td>Revolving line utilization rate, or the amount of credit the borrower is using relative to all available revolving credit.</td>\n",
       "    </tr>\n",
       "    <tr>\n",
       "      <th>34</th>\n",
       "      <td>total_acc</td>\n",
       "      <td>float64</td>\n",
       "      <td>34</td>\n",
       "      <td>The total number of credit lines currently in the borrower's credit file</td>\n",
       "    </tr>\n",
       "    <tr>\n",
       "      <th>35</th>\n",
       "      <td>initial_list_status</td>\n",
       "      <td>object</td>\n",
       "      <td>w</td>\n",
       "      <td>The initial listing status of the loan. Possible values are – W, F</td>\n",
       "    </tr>\n",
       "    <tr>\n",
       "      <th>36</th>\n",
       "      <td>out_prncp</td>\n",
       "      <td>float64</td>\n",
       "      <td>2386.02</td>\n",
       "      <td>Remaining outstanding principal for total amount funded</td>\n",
       "    </tr>\n",
       "    <tr>\n",
       "      <th>37</th>\n",
       "      <td>out_prncp_inv</td>\n",
       "      <td>float64</td>\n",
       "      <td>2386.02</td>\n",
       "      <td>Remaining outstanding principal for portion of total amount funded by investors</td>\n",
       "    </tr>\n",
       "    <tr>\n",
       "      <th>38</th>\n",
       "      <td>total_pymnt</td>\n",
       "      <td>float64</td>\n",
       "      <td>167.02</td>\n",
       "      <td>Payments received to date for total amount funded</td>\n",
       "    </tr>\n",
       "    <tr>\n",
       "      <th>39</th>\n",
       "      <td>total_pymnt_inv</td>\n",
       "      <td>float64</td>\n",
       "      <td>167.02</td>\n",
       "      <td>Payments received to date for portion of total amount funded by investors</td>\n",
       "    </tr>\n",
       "    <tr>\n",
       "      <th>40</th>\n",
       "      <td>total_rec_prncp</td>\n",
       "      <td>float64</td>\n",
       "      <td>113.98</td>\n",
       "      <td>Principal received to date</td>\n",
       "    </tr>\n",
       "    <tr>\n",
       "      <th>41</th>\n",
       "      <td>total_rec_int</td>\n",
       "      <td>float64</td>\n",
       "      <td>53.04</td>\n",
       "      <td>Interest received to date</td>\n",
       "    </tr>\n",
       "  </tbody>\n",
       "</table>\n",
       "</div>"
      ],
      "text/plain": [
       "                  variable   dtypes         first value  \\\n",
       "19  desc                    object   NaN                  \n",
       "20  purpose                 object   debt_consolidation   \n",
       "21  title                   object   Debt consolidation   \n",
       "22  zip_code                object   109xx                \n",
       "23  addr_state              object   NY                   \n",
       "24  dti                     float64  18.24                \n",
       "25  delinq_2yrs             float64  0                    \n",
       "26  earliest_cr_line        object   Apr-2001             \n",
       "27  inq_last_6mths          float64  1                    \n",
       "28  mths_since_last_delinq  float64  NaN                  \n",
       "29  mths_since_last_record  float64  45                   \n",
       "30  open_acc                float64  9                    \n",
       "31  pub_rec                 float64  1                    \n",
       "32  revol_bal               int64    4341                 \n",
       "33  revol_util              float64  10.3                 \n",
       "34  total_acc               float64  34                   \n",
       "35  initial_list_status     object   w                    \n",
       "36  out_prncp               float64  2386.02              \n",
       "37  out_prncp_inv           float64  2386.02              \n",
       "38  total_pymnt             float64  167.02               \n",
       "39  total_pymnt_inv         float64  167.02               \n",
       "40  total_rec_prncp         float64  113.98               \n",
       "41  total_rec_int           float64  53.04                \n",
       "\n",
       "                                                                                                                                                                                                 explanation  \n",
       "19  Loan description provided by the borrower                                                                                                                                                                 \n",
       "20  A category provided by the borrower for the loan request.                                                                                                                                                 \n",
       "21  The loan title provided by the borrower                                                                                                                                                                   \n",
       "22  The first 3 numbers of the zip code provided by the borrower in the loan application.                                                                                                                     \n",
       "23  The state provided by the borrower in the loan application                                                                                                                                                \n",
       "24  A ratio calculated using the borrower’s total monthly debt payments on the total debt obligations, excluding mortgage and the requested LC loan, divided by the borrower’s self-reported monthly income.  \n",
       "25  The number of 30+ days past-due incidences of delinquency in the borrower's credit file for the past 2 years                                                                                              \n",
       "26  The month the borrower's earliest reported credit line was opened                                                                                                                                         \n",
       "27  The number of inquiries in past 6 months (excluding auto and mortgage inquiries)                                                                                                                          \n",
       "28  The number of months since the borrower's last delinquency.                                                                                                                                               \n",
       "29  The number of months since the last public record.                                                                                                                                                        \n",
       "30  The number of open credit lines in the borrower's credit file.                                                                                                                                            \n",
       "31  Number of derogatory public records                                                                                                                                                                       \n",
       "32  Total credit revolving balance                                                                                                                                                                            \n",
       "33  Revolving line utilization rate, or the amount of credit the borrower is using relative to all available revolving credit.                                                                                \n",
       "34  The total number of credit lines currently in the borrower's credit file                                                                                                                                  \n",
       "35  The initial listing status of the loan. Possible values are – W, F                                                                                                                                        \n",
       "36  Remaining outstanding principal for total amount funded                                                                                                                                                   \n",
       "37  Remaining outstanding principal for portion of total amount funded by investors                                                                                                                           \n",
       "38  Payments received to date for total amount funded                                                                                                                                                         \n",
       "39  Payments received to date for portion of total amount funded by investors                                                                                                                                 \n",
       "40  Principal received to date                                                                                                                                                                                \n",
       "41  Interest received to date                                                                                                                                                                                 "
      ]
     },
     "execution_count": 84,
     "metadata": {},
     "output_type": "execute_result"
    }
   ],
   "source": [
    "loans_dtypes_explained[19:42]"
   ]
  },
  {
   "cell_type": "code",
   "execution_count": 85,
   "metadata": {},
   "outputs": [],
   "source": [
    "# Redundant and data leacking columns\n",
    "loans_4 = loans_3.copy()\n",
    "drop_list_1 = ['zip_code' , 'out_prncp', 'out_prncp_inv', 'total_pymnt', 'total_pymnt_inv']\n",
    "loans_4 = loans_4.drop(drop_list_1, axis=1)"
   ]
  },
  {
   "cell_type": "code",
   "execution_count": 86,
   "metadata": {},
   "outputs": [
    {
     "data": {
      "text/html": [
       "<div>\n",
       "<style scoped>\n",
       "    .dataframe tbody tr th:only-of-type {\n",
       "        vertical-align: middle;\n",
       "    }\n",
       "\n",
       "    .dataframe tbody tr th {\n",
       "        vertical-align: top;\n",
       "    }\n",
       "\n",
       "    .dataframe thead th {\n",
       "        text-align: right;\n",
       "    }\n",
       "</style>\n",
       "<table border=\"1\" class=\"dataframe\">\n",
       "  <thead>\n",
       "    <tr style=\"text-align: right;\">\n",
       "      <th></th>\n",
       "      <th>variable</th>\n",
       "      <th>dtypes</th>\n",
       "      <th>first value</th>\n",
       "      <th>explanation</th>\n",
       "    </tr>\n",
       "  </thead>\n",
       "  <tbody>\n",
       "    <tr>\n",
       "      <th>42</th>\n",
       "      <td>total_rec_late_fee</td>\n",
       "      <td>float64</td>\n",
       "      <td>0</td>\n",
       "      <td>Late fees received to date</td>\n",
       "    </tr>\n",
       "    <tr>\n",
       "      <th>43</th>\n",
       "      <td>recoveries</td>\n",
       "      <td>float64</td>\n",
       "      <td>0</td>\n",
       "      <td>post charge off gross recovery</td>\n",
       "    </tr>\n",
       "    <tr>\n",
       "      <th>44</th>\n",
       "      <td>collection_recovery_fee</td>\n",
       "      <td>float64</td>\n",
       "      <td>0</td>\n",
       "      <td>post charge off collection fee</td>\n",
       "    </tr>\n",
       "    <tr>\n",
       "      <th>45</th>\n",
       "      <td>last_pymnt_d</td>\n",
       "      <td>object</td>\n",
       "      <td>Feb-2019</td>\n",
       "      <td>Last month payment was received</td>\n",
       "    </tr>\n",
       "    <tr>\n",
       "      <th>46</th>\n",
       "      <td>last_pymnt_amnt</td>\n",
       "      <td>float64</td>\n",
       "      <td>84.92</td>\n",
       "      <td>Last total payment amount received</td>\n",
       "    </tr>\n",
       "    <tr>\n",
       "      <th>47</th>\n",
       "      <td>next_pymnt_d</td>\n",
       "      <td>object</td>\n",
       "      <td>Mar-2019</td>\n",
       "      <td>Next scheduled payment date</td>\n",
       "    </tr>\n",
       "    <tr>\n",
       "      <th>48</th>\n",
       "      <td>last_credit_pull_d</td>\n",
       "      <td>object</td>\n",
       "      <td>Feb-2019</td>\n",
       "      <td>The most recent month LC pulled credit for this loan</td>\n",
       "    </tr>\n",
       "    <tr>\n",
       "      <th>49</th>\n",
       "      <td>collections_12_mths_ex_med</td>\n",
       "      <td>float64</td>\n",
       "      <td>0</td>\n",
       "      <td>Number of collections in 12 months excluding medical collections</td>\n",
       "    </tr>\n",
       "    <tr>\n",
       "      <th>50</th>\n",
       "      <td>mths_since_last_major_derog</td>\n",
       "      <td>float64</td>\n",
       "      <td>NaN</td>\n",
       "      <td>Months since most recent 90-day or worse rating</td>\n",
       "    </tr>\n",
       "    <tr>\n",
       "      <th>51</th>\n",
       "      <td>policy_code</td>\n",
       "      <td>int64</td>\n",
       "      <td>1</td>\n",
       "      <td>publicly available policy_code=1\\nnew products not publicly available policy_code=2</td>\n",
       "    </tr>\n",
       "    <tr>\n",
       "      <th>52</th>\n",
       "      <td>application_type</td>\n",
       "      <td>object</td>\n",
       "      <td>Individual</td>\n",
       "      <td>Indicates whether the loan is an individual application or a joint application with two co-borrowers</td>\n",
       "    </tr>\n",
       "    <tr>\n",
       "      <th>53</th>\n",
       "      <td>annual_inc_joint</td>\n",
       "      <td>float64</td>\n",
       "      <td>NaN</td>\n",
       "      <td>The combined self-reported annual income provided by the co-borrowers during registration</td>\n",
       "    </tr>\n",
       "    <tr>\n",
       "      <th>54</th>\n",
       "      <td>dti_joint</td>\n",
       "      <td>float64</td>\n",
       "      <td>NaN</td>\n",
       "      <td>A ratio calculated using the co-borrowers' total monthly payments on the total debt obligations, excluding mortgages and the requested LC loan, divided by the co-borrowers' combined self-reported monthly income</td>\n",
       "    </tr>\n",
       "    <tr>\n",
       "      <th>55</th>\n",
       "      <td>verification_status_joint</td>\n",
       "      <td>object</td>\n",
       "      <td>NaN</td>\n",
       "      <td>NaN</td>\n",
       "    </tr>\n",
       "  </tbody>\n",
       "</table>\n",
       "</div>"
      ],
      "text/plain": [
       "                       variable   dtypes first value  \\\n",
       "42  total_rec_late_fee           float64  0            \n",
       "43  recoveries                   float64  0            \n",
       "44  collection_recovery_fee      float64  0            \n",
       "45  last_pymnt_d                 object   Feb-2019     \n",
       "46  last_pymnt_amnt              float64  84.92        \n",
       "47  next_pymnt_d                 object   Mar-2019     \n",
       "48  last_credit_pull_d           object   Feb-2019     \n",
       "49  collections_12_mths_ex_med   float64  0            \n",
       "50  mths_since_last_major_derog  float64  NaN          \n",
       "51  policy_code                  int64    1            \n",
       "52  application_type             object   Individual   \n",
       "53  annual_inc_joint             float64  NaN          \n",
       "54  dti_joint                    float64  NaN          \n",
       "55  verification_status_joint    object   NaN          \n",
       "\n",
       "                                                                                                                                                                                                           explanation  \n",
       "42  Late fees received to date                                                                                                                                                                                          \n",
       "43  post charge off gross recovery                                                                                                                                                                                      \n",
       "44  post charge off collection fee                                                                                                                                                                                      \n",
       "45  Last month payment was received                                                                                                                                                                                     \n",
       "46  Last total payment amount received                                                                                                                                                                                  \n",
       "47  Next scheduled payment date                                                                                                                                                                                         \n",
       "48  The most recent month LC pulled credit for this loan                                                                                                                                                                \n",
       "49  Number of collections in 12 months excluding medical collections                                                                                                                                                    \n",
       "50  Months since most recent 90-day or worse rating                                                                                                                                                                     \n",
       "51  publicly available policy_code=1\\nnew products not publicly available policy_code=2                                                                                                                                 \n",
       "52  Indicates whether the loan is an individual application or a joint application with two co-borrowers                                                                                                                \n",
       "53  The combined self-reported annual income provided by the co-borrowers during registration                                                                                                                           \n",
       "54  A ratio calculated using the co-borrowers' total monthly payments on the total debt obligations, excluding mortgages and the requested LC loan, divided by the co-borrowers' combined self-reported monthly income  \n",
       "55  NaN                                                                                                                                                                                                                 "
      ]
     },
     "execution_count": 86,
     "metadata": {},
     "output_type": "execute_result"
    }
   ],
   "source": [
    "loans_dtypes_explained[42:56]"
   ]
  },
  {
   "cell_type": "code",
   "execution_count": 87,
   "metadata": {},
   "outputs": [
    {
     "name": "stdout",
     "output_type": "stream",
     "text": [
      "(1303607, 71)\n"
     ]
    }
   ],
   "source": [
    "drop_list_2 = \\\n",
    "['total_rec_prncp','total_rec_int', 'total_rec_late_fee','recoveries',\n",
    " 'collection_recovery_fee', 'last_pymnt_d', 'last_pymnt_amnt']\n",
    "\n",
    "loans_4 = loans_4.drop(drop_list_2, axis=1)\n",
    "print(loans_4.shape)"
   ]
  },
  {
   "cell_type": "code",
   "execution_count": 88,
   "metadata": {},
   "outputs": [
    {
     "data": {
      "text/plain": [
       "['acc_now_delinq',\n",
       " 'acc_open_past_24mths',\n",
       " 'addr_state',\n",
       " 'annual_inc',\n",
       " 'application_type',\n",
       " 'avg_cur_bal',\n",
       " 'bc_open_to_buy',\n",
       " 'bc_util',\n",
       " 'chargeoff_within_12_mths',\n",
       " 'collections_12_mths_ex_med',\n",
       " 'debt_settlement_flag',\n",
       " 'delinq_2yrs',\n",
       " 'delinq_amnt',\n",
       " 'disbursement_method',\n",
       " 'dti']"
      ]
     },
     "execution_count": 88,
     "metadata": {},
     "output_type": "execute_result"
    }
   ],
   "source": [
    "loans_4_cols = loans_4.columns.to_list()\n",
    "loans_4_cols_sorted = sorted(loans_4_cols)\n",
    "loans_4_cols_sorted[:15]"
   ]
  },
  {
   "cell_type": "markdown",
   "metadata": {},
   "source": [
    "#### hardship_flag"
   ]
  },
  {
   "cell_type": "code",
   "execution_count": 89,
   "metadata": {},
   "outputs": [
    {
     "name": "stdout",
     "output_type": "stream",
     "text": [
      "['N' 'Y']\n",
      "N    1303606\n",
      "Y    1      \n",
      "Name: hardship_flag, dtype: int64\n"
     ]
    }
   ],
   "source": [
    "print(loans_4.loc[:,'hardship_flag'].unique())\n",
    "print(loans_4.loc[:, 'hardship_flag'].value_counts())"
   ]
  },
  {
   "cell_type": "markdown",
   "metadata": {},
   "source": [
    "Only one plan where \"whether or not the borrower is on a hardship plan\".\n",
    "This makes the variable redundant."
   ]
  },
  {
   "cell_type": "code",
   "execution_count": 90,
   "metadata": {},
   "outputs": [],
   "source": [
    "loans_4=loans_4.drop('hardship_flag', axis=1)"
   ]
  },
  {
   "cell_type": "markdown",
   "metadata": {},
   "source": [
    "Are there similar columns with even only one value?"
   ]
  },
  {
   "cell_type": "code",
   "execution_count": 91,
   "metadata": {},
   "outputs": [],
   "source": [
    "loans_4_unique = loans_4.apply(pd.Series.nunique).reset_index()\n"
   ]
  },
  {
   "cell_type": "code",
   "execution_count": 92,
   "metadata": {},
   "outputs": [],
   "source": [
    "loans_4_unique = \\\n",
    "loans_4_unique.rename(columns={'index':'feature', 0:'n_unique'})"
   ]
  },
  {
   "cell_type": "code",
   "execution_count": 93,
   "metadata": {},
   "outputs": [
    {
     "name": "stdout",
     "output_type": "stream",
     "text": [
      "<class 'pandas.core.frame.DataFrame'>\n",
      "       feature  n_unique\n",
      "0  loan_amnt    1553    \n",
      "1  term         2       \n",
      "2  installment  82574   \n",
      "3  grade        7       \n",
      "4  emp_length   11      \n"
     ]
    },
    {
     "data": {
      "text/html": [
       "<div>\n",
       "<style scoped>\n",
       "    .dataframe tbody tr th:only-of-type {\n",
       "        vertical-align: middle;\n",
       "    }\n",
       "\n",
       "    .dataframe tbody tr th {\n",
       "        vertical-align: top;\n",
       "    }\n",
       "\n",
       "    .dataframe thead th {\n",
       "        text-align: right;\n",
       "    }\n",
       "</style>\n",
       "<table border=\"1\" class=\"dataframe\">\n",
       "  <thead>\n",
       "    <tr style=\"text-align: right;\">\n",
       "      <th></th>\n",
       "      <th>feature</th>\n",
       "      <th>n_unique</th>\n",
       "    </tr>\n",
       "  </thead>\n",
       "  <tbody>\n",
       "    <tr>\n",
       "      <th>9</th>\n",
       "      <td>pymnt_plan</td>\n",
       "      <td>1</td>\n",
       "    </tr>\n",
       "    <tr>\n",
       "      <th>25</th>\n",
       "      <td>policy_code</td>\n",
       "      <td>1</td>\n",
       "    </tr>\n",
       "  </tbody>\n",
       "</table>\n",
       "</div>"
      ],
      "text/plain": [
       "        feature  n_unique\n",
       "9   pymnt_plan   1       \n",
       "25  policy_code  1       "
      ]
     },
     "execution_count": 93,
     "metadata": {},
     "output_type": "execute_result"
    }
   ],
   "source": [
    "print(type(loans_4_unique))\n",
    "print(loans_4_unique.head())\n",
    "loans_4_unique[loans_4_unique.n_unique == 1]"
   ]
  },
  {
   "cell_type": "code",
   "execution_count": 94,
   "metadata": {},
   "outputs": [],
   "source": [
    "loans_4=loans_4.drop(['pymnt_plan', 'policy_code'], axis=1)"
   ]
  },
  {
   "cell_type": "markdown",
   "metadata": {},
   "source": [
    "Look at the value counts of variables with unique values lower than 4.\n",
    "If the frequencies of the unique values are extremly differ like in\n",
    "hardship_flag variable, those variables maybe deleted."
   ]
  },
  {
   "cell_type": "code",
   "execution_count": 95,
   "metadata": {},
   "outputs": [
    {
     "name": "stdout",
     "output_type": "stream",
     "text": [
      " 36 months    988754\n",
      " 60 months    314853\n",
      "Name: term, dtype: int64\n",
      "B    380152\n",
      "C    369928\n",
      "A    226243\n",
      "D    195280\n",
      "E    91570 \n",
      "F    31483 \n",
      "G    8951  \n",
      "Name: grade, dtype: int64\n",
      "MORTGAGE    645496\n",
      "RENT        517808\n",
      "OWN         139844\n",
      "ANY         267   \n",
      "OTHER       144   \n",
      "NONE        48    \n",
      "Name: home_ownership, dtype: int64\n",
      "1    1041952\n",
      "0    261655 \n",
      "Name: loan_status, dtype: int64\n",
      "0.0    744274\n",
      "1.0    355862\n",
      "2.0    133400\n",
      "3.0    50612 \n",
      "4.0    13642 \n",
      "5.0    4807  \n",
      "6.0    939   \n",
      "7.0    48    \n",
      "8.0    22    \n",
      "Name: inq_last_6mths, dtype: int64\n",
      "w    751214\n",
      "f    552393\n",
      "Name: initial_list_status, dtype: int64\n",
      "Individual    1280370\n",
      "Joint App     23237  \n",
      "Name: application_type, dtype: int64\n",
      "0.0     1297441\n",
      "1.0     5809   \n",
      "2.0     301    \n",
      "3.0     41     \n",
      "4.0     10     \n",
      "5.0     3      \n",
      "14.0    1      \n",
      "6.0     1      \n",
      "Name: acc_now_delinq, dtype: int64\n",
      "0.0    1187105\n",
      "1.0    893    \n",
      "2.0    33     \n",
      "3.0    4      \n",
      "6.0    1      \n",
      "4.0    1      \n",
      "Name: num_tl_120dpd_2m, dtype: int64\n",
      "0.0    1232089\n",
      "1.0    3774   \n",
      "2.0    185    \n",
      "3.0    25     \n",
      "4.0    7      \n",
      "Name: num_tl_30dpd, dtype: int64\n",
      "Cash         1297794\n",
      "DirectPay    5813   \n",
      "Name: disbursement_method, dtype: int64\n",
      "N    1271618\n",
      "Y    31989  \n",
      "Name: debt_settlement_flag, dtype: int64\n",
      "0.0    911402\n",
      "1.0    392205\n",
      "Name: ohe_1, dtype: int64\n",
      "0.0    799881\n",
      "1.0    503726\n",
      "Name: ohe_2, dtype: int64\n"
     ]
    }
   ],
   "source": [
    "for col in loans_4.columns:\n",
    "    u=loans_4[col].unique()\n",
    "    if len(u) < 11:\n",
    "        print(loans_4[col].value_counts())\n",
    "    "
   ]
  },
  {
   "cell_type": "markdown",
   "metadata": {},
   "source": [
    "Extreme differences in the occurences of the unique values are not appearing.\n",
    "No variables are therefore deleted."
   ]
  },
  {
   "cell_type": "markdown",
   "metadata": {},
   "source": [
    "#### mo_sin_rcnt_rev_tl_op, mo_sin_rcnt_tl\n"
   ]
  },
  {
   "cell_type": "code",
   "execution_count": 96,
   "metadata": {},
   "outputs": [],
   "source": [
    "# redundant\n",
    "loans_4=loans_4.drop(['mo_sin_rcnt_rev_tl_op', 'mo_sin_rcnt_tl'], axis=1)"
   ]
  },
  {
   "cell_type": "markdown",
   "metadata": {},
   "source": [
    "#### chargeoff_within_12_mths"
   ]
  },
  {
   "cell_type": "code",
   "execution_count": 97,
   "metadata": {},
   "outputs": [
    {
     "data": {
      "text/plain": [
       "array([ 0.,  1.,  4.,  5.,  2.,  3.,  9.,  6.,  7., 10.,  8., nan])"
      ]
     },
     "execution_count": 97,
     "metadata": {},
     "output_type": "execute_result"
    }
   ],
   "source": [
    "loans_4['chargeoff_within_12_mths'].unique()"
   ]
  },
  {
   "cell_type": "code",
   "execution_count": 98,
   "metadata": {},
   "outputs": [
    {
     "data": {
      "text/html": [
       "<div>\n",
       "<style scoped>\n",
       "    .dataframe tbody tr th:only-of-type {\n",
       "        vertical-align: middle;\n",
       "    }\n",
       "\n",
       "    .dataframe tbody tr th {\n",
       "        vertical-align: top;\n",
       "    }\n",
       "\n",
       "    .dataframe thead th {\n",
       "        text-align: right;\n",
       "    }\n",
       "</style>\n",
       "<table border=\"1\" class=\"dataframe\">\n",
       "  <thead>\n",
       "    <tr style=\"text-align: right;\">\n",
       "      <th></th>\n",
       "      <th>n_months</th>\n",
       "      <th>chargeoff_within_12_mths</th>\n",
       "    </tr>\n",
       "  </thead>\n",
       "  <tbody>\n",
       "    <tr>\n",
       "      <th>0</th>\n",
       "      <td>0.0</td>\n",
       "      <td>1293038</td>\n",
       "    </tr>\n",
       "    <tr>\n",
       "      <th>1</th>\n",
       "      <td>1.0</td>\n",
       "      <td>9562</td>\n",
       "    </tr>\n",
       "    <tr>\n",
       "      <th>2</th>\n",
       "      <td>2.0</td>\n",
       "      <td>742</td>\n",
       "    </tr>\n",
       "    <tr>\n",
       "      <th>3</th>\n",
       "      <td>3.0</td>\n",
       "      <td>126</td>\n",
       "    </tr>\n",
       "    <tr>\n",
       "      <th>4</th>\n",
       "      <td>4.0</td>\n",
       "      <td>46</td>\n",
       "    </tr>\n",
       "    <tr>\n",
       "      <th>5</th>\n",
       "      <td>5.0</td>\n",
       "      <td>18</td>\n",
       "    </tr>\n",
       "    <tr>\n",
       "      <th>6</th>\n",
       "      <td>6.0</td>\n",
       "      <td>7</td>\n",
       "    </tr>\n",
       "    <tr>\n",
       "      <th>7</th>\n",
       "      <td>7.0</td>\n",
       "      <td>6</td>\n",
       "    </tr>\n",
       "    <tr>\n",
       "      <th>8</th>\n",
       "      <td>9.0</td>\n",
       "      <td>3</td>\n",
       "    </tr>\n",
       "    <tr>\n",
       "      <th>9</th>\n",
       "      <td>8.0</td>\n",
       "      <td>2</td>\n",
       "    </tr>\n",
       "    <tr>\n",
       "      <th>10</th>\n",
       "      <td>10.0</td>\n",
       "      <td>1</td>\n",
       "    </tr>\n",
       "  </tbody>\n",
       "</table>\n",
       "</div>"
      ],
      "text/plain": [
       "    n_months  chargeoff_within_12_mths\n",
       "0   0.0       1293038                 \n",
       "1   1.0       9562                    \n",
       "2   2.0       742                     \n",
       "3   3.0       126                     \n",
       "4   4.0       46                      \n",
       "5   5.0       18                      \n",
       "6   6.0       7                       \n",
       "7   7.0       6                       \n",
       "8   9.0       3                       \n",
       "9   8.0       2                       \n",
       "10  10.0      1                       "
      ]
     },
     "execution_count": 98,
     "metadata": {},
     "output_type": "execute_result"
    }
   ],
   "source": [
    "charge_4_1 = \\\n",
    "loans_4['chargeoff_within_12_mths'].dropna().value_counts().reset_index()\n",
    "charge_4_1=charge_4_1.rename(columns={'index':'n_months'})\n",
    "charge_4_1"
   ]
  },
  {
   "cell_type": "code",
   "execution_count": 99,
   "metadata": {},
   "outputs": [
    {
     "data": {
      "text/plain": [
       "0     1293038\n",
       "1     1302600\n",
       "2     1303342\n",
       "3     1303468\n",
       "4     1303514\n",
       "5     1303532\n",
       "6     1303539\n",
       "7     1303545\n",
       "8     1303548\n",
       "9     1303550\n",
       "10    1303551\n",
       "Name: chargeoff_within_12_mths, dtype: int64"
      ]
     },
     "execution_count": 99,
     "metadata": {},
     "output_type": "execute_result"
    }
   ],
   "source": [
    "charge_cumsum = np.cumsum(charge_4_1.iloc[:,1])\n",
    "charge_cumsum "
   ]
  },
  {
   "cell_type": "code",
   "execution_count": 100,
   "metadata": {},
   "outputs": [
    {
     "data": {
      "image/png": "[encoded data removed]",
      "text/plain": [
       "<Figure size 1080x576 with 4 Axes>"
      ]
     },
     "metadata": {
      "needs_background": "light"
     },
     "output_type": "display_data"
    }
   ],
   "source": [
    "fig, ((ax1, ax2), (ax3, ax4)) = plt.subplots(2,2, figsize=(15,8), sharex=True)\n",
    "\n",
    "plt.subplots_adjust(right=1, wspace=None, hspace=None)\n",
    "plt.suptitle(\"chargeoff_within_12_mths\", horizontalalignment=\"center\", fontsize=15,\n",
    "             x=0.5, y=1)\n",
    "\n",
    "ax1.bar(x=charge_4_1.iloc[:,0], height=charge_4_1.iloc[:,1], color=['b', 'r'])\n",
    "ax1.set_title('Frequency')\n",
    "ax1.set_xlabel(\"Months\")\n",
    "\n",
    "ax2.plot(charge_4_1.iloc[:,0], charge_cumsum, linewidth=3, color='green' )\n",
    "ax2.set_title('Cumulative')\n",
    "ax2.set_xlabel(\"Months\")\n",
    "\n",
    "ax3.bar(x=charge_4_1.iloc[:,0], height=charge_4_1.iloc[:,1], \n",
    "        color=['b', 'r'])\n",
    "ax3.set_title('Frequency - log')\n",
    "ax3.set_xlabel(\"Months\")\n",
    "ax3.set_yscale('log')\n",
    "\n",
    "ax4.axis('off')\n",
    "\n",
    "plt.show()"
   ]
  },
  {
   "cell_type": "markdown",
   "metadata": {},
   "source": [
    "Assuming \"chargeoff_within_12_mths\" refers to past behavior this variable is kept,\n",
    "while ca. 99 percent had no charge off at all."
   ]
  },
  {
   "cell_type": "markdown",
   "metadata": {},
   "source": [
    "Store the manipulated data set in a csv file."
   ]
  },
  {
   "cell_type": "code",
   "execution_count": 101,
   "metadata": {},
   "outputs": [],
   "source": [
    "loans_4.to_csv(\"loans_j1_cleaned.csv\",index=False)"
   ]
  },
  {
   "cell_type": "markdown",
   "metadata": {},
   "source": [
    "### Missing values / Null values\n",
    "\n",
    "<p>\n",
    "Columns (features) with more than 50 percent of missing values\n",
    "were allready deleted. However the data sets contains still\n",
    "missing values in the rows (observations). As most of the machine\n",
    "learning algorithms in sklearn does not process null values, these values\n",
    "are now removed.\n",
    "</p> "
   ]
  },
  {
   "cell_type": "code",
   "execution_count": 102,
   "metadata": {},
   "outputs": [
    {
     "data": {
      "text/plain": [
       "(1303607, 66)"
      ]
     },
     "execution_count": 102,
     "metadata": {},
     "output_type": "execute_result"
    }
   ],
   "source": [
    "loans_4.shape"
   ]
  },
  {
   "cell_type": "code",
   "execution_count": 103,
   "metadata": {},
   "outputs": [],
   "source": [
    "loans_4_null = \\\n",
    "loans_4.isnull().sum().reset_index(). \\\n",
    "rename(columns= {'index': 'feature', 0:'frequency'}).\\\n",
    "sort_values('frequency', ascending=False)"
   ]
  },
  {
   "cell_type": "code",
   "execution_count": 104,
   "metadata": {},
   "outputs": [
    {
     "name": "stdout",
     "output_type": "stream",
     "text": [
      "(41, 2)\n",
      "                  feature  frequency\n",
      "39  mths_since_recent_inq  169549   \n",
      "50  num_tl_120dpd_2m       115570   \n",
      "35  mo_sin_old_il_acct     104295   \n",
      "54  pct_tl_nvr_dlq         67681    \n",
      "30  avg_cur_bal            67548    \n"
     ]
    }
   ],
   "source": [
    "loans_4_not_null=loans_4_null[loans_4_null.frequency!=0]\n",
    "print(loans_4_not_null.shape)\n",
    "print(loans_4_not_null.head())"
   ]
  },
  {
   "cell_type": "code",
   "execution_count": 105,
   "metadata": {},
   "outputs": [],
   "source": [
    "loans_4_not_null_cols = \\\n",
    "loans_4_not_null.feature.to_list()"
   ]
  },
  {
   "cell_type": "code",
   "execution_count": 106,
   "metadata": {},
   "outputs": [
    {
     "name": "stdout",
     "output_type": "stream",
     "text": [
      "<class 'pandas.core.series.Series'>\n",
      "<class 'pandas.core.series.Series'>\n",
      "41\n",
      "41\n",
      "                 feature  frequency\n",
      "0  mths_since_recent_inq  0.130061 \n",
      "1  num_tl_120dpd_2m       0.088654 \n",
      "2  mo_sin_old_il_acct     0.080005 \n",
      "3  pct_tl_nvr_dlq         0.051918 \n",
      "4  avg_cur_bal            0.051816 \n"
     ]
    }
   ],
   "source": [
    "loans_4_not_null_cols = loans_4_not_null.feature.to_list()\n",
    "\n",
    "# features with 0 values in percent of all observations\n",
    "not_null_percent = \\\n",
    "(loans_4_not_null.frequency / loans_4.shape[0]).reset_index(drop=True)\n",
    "\n",
    "print(type(not_null_percent))\n",
    "print(type(loans_4_not_null.feature))\n",
    "\n",
    "print(len(loans_4_not_null.feature))\n",
    "print(len(not_null_percent))\n",
    "\n",
    "notnull_1 = \\\n",
    "pd.concat([loans_4_not_null.feature.reset_index(drop=True), \n",
    "           not_null_percent.reset_index(drop=True)], axis=1)\n",
    "\n",
    "print(notnull_1.head())"
   ]
  },
  {
   "cell_type": "code",
   "execution_count": 107,
   "metadata": {},
   "outputs": [
    {
     "data": {
      "image/png": "[encoded data removed]",
      "text/plain": [
       "<Figure size 720x576 with 2 Axes>"
      ]
     },
     "metadata": {
      "needs_background": "light"
     },
     "output_type": "display_data"
    }
   ],
   "source": [
    "fig, (ax1,ax2) = plt.subplots(2,1, figsize=(10,8), sharex=True)\n",
    "\n",
    "plt.suptitle('Features with null values', y=1.08)\n",
    "plt.tight_layout()\n",
    "\n",
    "# pyplot\n",
    "ax1.bar(height=loans_4_not_null.frequency, x=loans_4_not_null.feature,\n",
    "      color=['blue', 'green', 'red', 'orange', 'pink'],\n",
    "      edgecolor=\"black\", linewidth=2)\n",
    "ax1.set_xticklabels(loans_4_not_null.feature, rotation=90)\n",
    "ax1.set_title('Frequencies of 0-values')\n",
    "ax1.set_xlabel('Features')\n",
    "ax1.set_ylabel('Frequency')\n",
    "\n",
    "# pandas plot - the ax argument is helpful\n",
    "notnull_1.plot(kind='bar', ax=ax2, \n",
    "               x= 'feature',\n",
    "               y= 'frequency',\n",
    "               edgecolor=\"black\", linewidth=2,\n",
    "               legend=False,\n",
    "               title=\"Percentage of 0-values of all observations\")\n",
    "ax2.set_xlabel('Features')\n",
    "ax2.set_ylabel('Frequency')\n",
    "\n",
    "\n",
    "plt.show()"
   ]
  },
  {
   "cell_type": "markdown",
   "metadata": {},
   "source": [
    "Most null values are in mths_since_recent. None of the variables have\n",
    "a frequency of null-values greater than 1 percent."
   ]
  },
  {
   "cell_type": "markdown",
   "metadata": {},
   "source": [
    "#### Strategies for handling missing values"
   ]
  },
  {
   "cell_type": "code",
   "execution_count": 108,
   "metadata": {},
   "outputs": [],
   "source": [
    "loans_5 = loans_4.copy()"
   ]
  },
  {
   "cell_type": "code",
   "execution_count": 109,
   "metadata": {},
   "outputs": [
    {
     "name": "stdout",
     "output_type": "stream",
     "text": [
      "float64\n",
      "[0.0, 1.0, 2.0, 3.0, 4.0, 5.0, 6.0, 7.0, 8.0, 9.0, 10.0, 11.0, 12.0, 13.0, 14.0, 17.0, nan, 15.0, 16.0, 18.0, 19.0, 20.0, 21.0, 22.0, 23.0, 24.0, 25.0]\n",
      "12.5\n"
     ]
    }
   ],
   "source": [
    "print(loans_5['mths_since_recent_inq'].dtype)\n",
    "unique_22 = loans_5['mths_since_recent_inq'].\\\n",
    "unique()\n",
    "unique_22_sorted = sorted(unique_22)\n",
    "print(unique_22_sorted)\n",
    "print(np.nanmedian(unique_22))\n"
   ]
  },
  {
   "cell_type": "code",
   "execution_count": 110,
   "metadata": {},
   "outputs": [
    {
     "name": "stdout",
     "output_type": "stream",
     "text": [
      "NaN     169549\n",
      "1.0     131388\n",
      "0.0     104688\n",
      "2.0     104388\n",
      "3.0     94007 \n",
      "4.0     84443 \n",
      "5.0     74711 \n",
      "6.0     66415 \n",
      "7.0     63057 \n",
      "8.0     55275 \n",
      "9.0     48142 \n",
      "10.0    42032 \n",
      "Name: mths_since_recent_inq, dtype: int64\n"
     ]
    }
   ],
   "source": [
    "print(loans_5['mths_since_recent_inq'].value_counts(dropna=False)[:10])"
   ]
  },
  {
   "cell_type": "code",
   "execution_count": 111,
   "metadata": {},
   "outputs": [
    {
     "name": "stdout",
     "output_type": "stream",
     "text": [
      "169549\n"
     ]
    }
   ],
   "source": [
    "print(loans_5['mths_since_recent_inq'].isnull().sum())"
   ]
  },
  {
   "cell_type": "code",
   "execution_count": 112,
   "metadata": {},
   "outputs": [
    {
     "name": "stdout",
     "output_type": "stream",
     "text": [
      "169549\n",
      "[6, 27, 37, 60, 80, 99, 104, 135, 150, 183]\n",
      "1303607\n"
     ]
    }
   ],
   "source": [
    "# Determine index of null values\n",
    "index_01 = \\\n",
    "loans_5['mths_since_recent_inq'].index \\\n",
    "[loans_5['mths_since_recent_inq'].apply(np.isnan)].tolist()\n",
    "print(len(index_01))\n",
    "print(index_01[:10])\n",
    "print(loans_5['mths_since_recent_inq'].shape[0])"
   ]
  },
  {
   "cell_type": "markdown",
   "metadata": {},
   "source": [
    "Given the explanation of the variable and the sequence of\n",
    "unique values it seems plausible that the data points\n",
    "are \"missing completely at random\". As it is a\n",
    "continuous numerical variable the values are here\n",
    "imputed with the median."
   ]
  },
  {
   "cell_type": "code",
   "execution_count": 113,
   "metadata": {},
   "outputs": [
    {
     "name": "stdout",
     "output_type": "stream",
     "text": [
      "<class 'pandas.core.series.Series'>\n",
      "0\n"
     ]
    }
   ],
   "source": [
    "median_impute_1 = \\\n",
    "loans_5['mths_since_recent_inq'].\\\n",
    "fillna(loans_5['mths_since_recent_inq'].median())\n",
    "print(type(median_impute_1))\n",
    "print(median_impute_1.isnull().sum())"
   ]
  },
  {
   "cell_type": "code",
   "execution_count": 114,
   "metadata": {},
   "outputs": [],
   "source": [
    "loans_5.mths_since_recent_inq = median_impute_1 "
   ]
  },
  {
   "cell_type": "markdown",
   "metadata": {},
   "source": [
    "#### Other columns with null values"
   ]
  },
  {
   "cell_type": "code",
   "execution_count": 115,
   "metadata": {},
   "outputs": [
    {
     "data": {
      "text/plain": [
       "mths_since_recent_inq    float64\n",
       "num_tl_120dpd_2m         float64\n",
       "mo_sin_old_il_acct       float64\n",
       "pct_tl_nvr_dlq           float64\n",
       "avg_cur_bal              float64\n",
       "num_rev_accts            float64\n",
       "mo_sin_old_rev_tl_op     float64\n",
       "num_tl_op_past_12m       float64\n",
       "num_il_tl                float64\n",
       "num_op_rev_tl            float64\n",
       "dtype: object"
      ]
     },
     "execution_count": 115,
     "metadata": {},
     "output_type": "execute_result"
    }
   ],
   "source": [
    "loans_4[loans_4_not_null_cols].dtypes[:10]"
   ]
  },
  {
   "cell_type": "code",
   "execution_count": 116,
   "metadata": {},
   "outputs": [
    {
     "data": {
      "text/plain": [
       "mths_since_recent_inq    169549\n",
       "num_tl_120dpd_2m         115570\n",
       "mo_sin_old_il_acct       104295\n",
       "pct_tl_nvr_dlq           67681 \n",
       "avg_cur_bal              67548 \n",
       "num_rev_accts            67528 \n",
       "mo_sin_old_rev_tl_op     67528 \n",
       "num_tl_op_past_12m       67527 \n",
       "num_il_tl                67527 \n",
       "num_op_rev_tl            67527 \n",
       "dtype: int64"
      ]
     },
     "execution_count": 116,
     "metadata": {},
     "output_type": "execute_result"
    }
   ],
   "source": [
    "loans_4[loans_4_not_null_cols].isnull().sum()[:10]"
   ]
  },
  {
   "cell_type": "code",
   "execution_count": 117,
   "metadata": {},
   "outputs": [],
   "source": [
    "loans_6 = loans_5.copy() "
   ]
  },
  {
   "cell_type": "markdown",
   "metadata": {},
   "source": [
    "Replace the null values with randomly generated values selected from\n",
    "unique values of the series."
   ]
  },
  {
   "cell_type": "code",
   "execution_count": 118,
   "metadata": {},
   "outputs": [
    {
     "data": {
      "text/plain": [
       "[0.0, 1.0, 4.0, 2.0, 3.0, 6.0]"
      ]
     },
     "execution_count": 118,
     "metadata": {},
     "output_type": "execute_result"
    }
   ],
   "source": [
    "unique_777 = loans_6.num_tl_120dpd_2m.dropna().unique().tolist()\n",
    "unique_777 "
   ]
  },
  {
   "cell_type": "code",
   "execution_count": 119,
   "metadata": {},
   "outputs": [
    {
     "data": {
      "text/plain": [
       "0.0    1187105\n",
       "NaN    115570 \n",
       "1.0    893    \n",
       "2.0    33     \n",
       "3.0    4      \n",
       "6.0    1      \n",
       "4.0    1      \n",
       "Name: num_tl_120dpd_2m, dtype: int64"
      ]
     },
     "execution_count": 119,
     "metadata": {},
     "output_type": "execute_result"
    }
   ],
   "source": [
    "loans_6.num_tl_120dpd_2m.value_counts(dropna=False)"
   ]
  },
  {
   "cell_type": "markdown",
   "metadata": {},
   "source": [
    "Get the index."
   ]
  },
  {
   "cell_type": "code",
   "execution_count": 120,
   "metadata": {},
   "outputs": [
    {
     "name": "stdout",
     "output_type": "stream",
     "text": [
      "115570\n"
     ]
    }
   ],
   "source": [
    "index_02 = \\\n",
    "loans_6.num_tl_120dpd_2m.index[loans_6.num_tl_120dpd_2m.apply(np.isnan)].tolist()\n",
    "print(len(index_02))"
   ]
  },
  {
   "cell_type": "code",
   "execution_count": 121,
   "metadata": {},
   "outputs": [
    {
     "data": {
      "text/plain": [
       "array([0., 1., 4., 2., 3., 6.])"
      ]
     },
     "execution_count": 121,
     "metadata": {},
     "output_type": "execute_result"
    }
   ],
   "source": [
    "np.asarray(unique_777)"
   ]
  },
  {
   "cell_type": "code",
   "execution_count": 122,
   "metadata": {},
   "outputs": [
    {
     "data": {
      "text/plain": [
       "array([3.])"
      ]
     },
     "execution_count": 122,
     "metadata": {},
     "output_type": "execute_result"
    }
   ],
   "source": [
    "np.random.choice(np.asarray(unique_777), 1)"
   ]
  },
  {
   "cell_type": "code",
   "execution_count": 123,
   "metadata": {},
   "outputs": [],
   "source": [
    "# numpy.random.choice(a, size=None, replace=True, p=None)\n",
    "# creating a list of randomly selected values\n",
    "\n",
    "substitute_1 = []\n",
    "for i in range(0, len(index_02)):\n",
    "    sub = np.random.choice(unique_777, 1)\n",
    "    sub_2 = sub.tolist()\n",
    "    substitute_1.append(sub_2)\n",
    "    "
   ]
  },
  {
   "cell_type": "code",
   "execution_count": 124,
   "metadata": {},
   "outputs": [],
   "source": [
    "# flatten the list of lists\n",
    "substitute_2 = np.concatenate(substitute_1).ravel().tolist()"
   ]
  },
  {
   "cell_type": "code",
   "execution_count": 125,
   "metadata": {},
   "outputs": [
    {
     "name": "stdout",
     "output_type": "stream",
     "text": [
      "115570\n",
      "[6.0, 1.0, 4.0, 1.0, 1.0]\n",
      "<class 'float'>\n"
     ]
    }
   ],
   "source": [
    "print(len(substitute_2))\n",
    "print(substitute_2[10000:10005])\n",
    "print(type(substitute_2[10000]))"
   ]
  },
  {
   "cell_type": "code",
   "execution_count": 126,
   "metadata": {},
   "outputs": [
    {
     "name": "stdout",
     "output_type": "stream",
     "text": [
      "<class 'pandas.core.series.Series'>\n",
      "[nan, nan, nan, nan]\n",
      "[nan]\n"
     ]
    }
   ],
   "source": [
    "nan_23 = loans_6.loc[index_02, 'num_tl_120dpd_2m']\n",
    "print(type(nan_23))\n",
    "print([nan_23.iloc[i] for i in [900, 4300, 80000, 91000]])\n",
    "print(nan_23.unique())"
   ]
  },
  {
   "cell_type": "code",
   "execution_count": 127,
   "metadata": {},
   "outputs": [],
   "source": [
    "# substitute null values with random values placed by the index\n",
    "loans_6.loc[index_02, 'num_tl_120dpd_2m'] = substitute_2"
   ]
  },
  {
   "cell_type": "code",
   "execution_count": 128,
   "metadata": {},
   "outputs": [
    {
     "name": "stdout",
     "output_type": "stream",
     "text": [
      "115570\n",
      "0\n"
     ]
    }
   ],
   "source": [
    "print(len(loans_6.loc[index_02, 'num_tl_120dpd_2m']))\n",
    "print(loans_6.loc[:, 'num_tl_120dpd_2m'].isnull().sum())"
   ]
  },
  {
   "cell_type": "code",
   "execution_count": 129,
   "metadata": {},
   "outputs": [
    {
     "data": {
      "text/plain": [
       "0.0    1206504\n",
       "1.0    20128  \n",
       "2.0    19540  \n",
       "4.0    19205  \n",
       "6.0    19133  \n",
       "3.0    19097  \n",
       "Name: num_tl_120dpd_2m, dtype: int64"
      ]
     },
     "execution_count": 129,
     "metadata": {},
     "output_type": "execute_result"
    }
   ],
   "source": [
    "loans_6.num_tl_120dpd_2m.value_counts(dropna=False)"
   ]
  },
  {
   "cell_type": "markdown",
   "metadata": {},
   "source": [
    "The replacement of null values with random values was successful for this\n",
    "varible. However there are numerous columns of type float with null values.\n",
    "This step by step approach would be to cumbersome. Instead a boolean \n",
    "mask can help to distinguish between null and non-null values.\n"
   ]
  },
  {
   "cell_type": "code",
   "execution_count": 130,
   "metadata": {},
   "outputs": [
    {
     "data": {
      "text/plain": [
       "mths_since_recent_inq    float64\n",
       "num_tl_120dpd_2m         float64\n",
       "mo_sin_old_il_acct       float64\n",
       "pct_tl_nvr_dlq           float64\n",
       "avg_cur_bal              float64\n",
       "dtype: object"
      ]
     },
     "execution_count": 130,
     "metadata": {},
     "output_type": "execute_result"
    }
   ],
   "source": [
    "only_floats_1=loans_6[loans_4_not_null_cols].select_dtypes(include='float').dtypes\n",
    "only_floats_1[:5]"
   ]
  },
  {
   "cell_type": "code",
   "execution_count": 131,
   "metadata": {},
   "outputs": [
    {
     "name": "stdout",
     "output_type": "stream",
     "text": [
      "<class 'pandas.core.series.Series'>\n",
      "<class 'list'>\n",
      "1303607\n",
      "104295\n",
      "521\n"
     ]
    }
   ],
   "source": [
    "feature_66 = loans_6.mo_sin_old_il_acct\n",
    "unique_66 = feature_66.unique().tolist()\n",
    "print(type(feature_66))\n",
    "print(type(unique_66))\n",
    "print(len(feature_66))\n",
    "print(feature_66.isnull().sum())\n",
    "print(len(feature_66.unique()))\n"
   ]
  },
  {
   "cell_type": "markdown",
   "metadata": {},
   "source": [
    "Understanding the boolean mask to distinguish between null and non-null\n",
    "values."
   ]
  },
  {
   "cell_type": "code",
   "execution_count": 132,
   "metadata": {},
   "outputs": [
    {
     "name": "stdout",
     "output_type": "stream",
     "text": [
      "Number of all observations:  1303607\n",
      "Number of true or false values in mask:  1303607\n",
      "Number of null values:  104295\n"
     ]
    }
   ],
   "source": [
    "feature_77 = feature_66.copy()\n",
    "mask_77 = feature_77.isnull()\n",
    "\n",
    "print(\"Number of all observations: \", len(feature_77))\n",
    "print(\"Number of true or false values in mask: \", len(mask_77))\n",
    "print(\"Number of null values: \", mask_77.sum())"
   ]
  },
  {
   "cell_type": "code",
   "execution_count": 133,
   "metadata": {},
   "outputs": [
    {
     "name": "stdout",
     "output_type": "stream",
     "text": [
      "[ 83. 114. 171. 180. 254.  78. 116. 177.  57. 130.]\n",
      "Number of non null values:  1199312\n",
      "Type of object:  <class 'numpy.ndarray'>\n",
      "Null values in non null:  0\n",
      "[nan nan nan nan nan nan nan nan nan nan]\n",
      "Number of null values:  104295\n",
      "Type of object <class 'numpy.ndarray'>\n",
      "Null values in null values:  104295\n"
     ]
    }
   ],
   "source": [
    "# invert with tilde gives the non null values,\n",
    "# where isnull is False\n",
    "# https://stackoverflow.com/questions/8305199/the-tilde-operator-in-python\n",
    "\n",
    "non_null_1 = feature_77[~mask_77].values\n",
    "print(non_null_1[:10])\n",
    "print(\"Number of non null values: \", len(non_null_1))\n",
    "print(\"Type of object: \", type(non_null_1))\n",
    "# np.isnan can be applied to NumPy arrays of native dtype (such as np.float64):\n",
    "# but raises TypeError when applied to object arrays.\n",
    "# https://stackoverflow.com/questions/36000993/numpy-isnan-fails-on-an-array-of-floats-from-pandas-dataframe-apply\n",
    "print(\"Null values in non null: \", pd.isnull(non_null_1).sum())\n",
    "\n",
    "null_values_1 = feature_77[mask_77].values\n",
    "print(null_values_1[:10])\n",
    "print(\"Number of null values: \", len(null_values_1))\n",
    "print(\"Type of object\", type(null_values_1))\n",
    "print(\"Null values in null values: \", pd.isnull(null_values_1).sum())"
   ]
  },
  {
   "cell_type": "markdown",
   "metadata": {},
   "source": [
    "The boolean mask works and can give null and non-null values."
   ]
  },
  {
   "cell_type": "markdown",
   "metadata": {},
   "source": [
    "#### Replacing null values in a pandas series by selecting random item from a list of unique values.\n",
    "\n",
    "<p> \n",
    "The essential function here is random choices:\n",
    "</p>\n",
    "<p> \n",
    "random.choices(population, weights=None, *, cum_weights=None, k=1)\n",
    "Return a k sized list of elements chosen from the population with replacement. \n",
    "If the population is empty, raises IndexError.\n",
    "</p> \n",
    "\n",
    "<a href=\"https://docs.python.org/3/library/random.html\">Doc</a> "
   ]
  },
  {
   "cell_type": "code",
   "execution_count": 134,
   "metadata": {},
   "outputs": [],
   "source": [
    "def null_replace_random(series):\n",
    "    s = series.copy()\n",
    "    \n",
    "    # Creating a boolean mask, which checks if the value\n",
    "    # is null or not and returns True and False\n",
    "    # same as: feature_66.isnull()\n",
    "    \n",
    "    mask = s.isnull()\n",
    "    \n",
    "    # s[~mask] gives the non-null-values\n",
    "    # s[~mask].values returns a numpy representation of the series\n",
    "    # mask.sum() is equivalent to feature_66.isnull().sum()\n",
    "    # and give the number of null values, which is here 104295\n",
    "    # random.choices(population, weights=None, *, cum_weights=None, k=1)\n",
    "    # Return a k sized list of elements chosen from the population with replacement.\n",
    "    # population: s[~mask].values: here: 1199312 / k = 104295\n",
    "    \n",
    "    selection = choices( s[~mask].values , k = mask.sum() )\n",
    "    \n",
    "    # now the randomly generated selections from the population\n",
    "    # are replacing the null values, where mask = True\n",
    "    s[mask] = selection\n",
    "    \n",
    "    # returns a series, where every null value is replaced with a randomly choosen\n",
    "    # value from the unique values of the population\n",
    "    \n",
    "    return s"
   ]
  },
  {
   "cell_type": "code",
   "execution_count": 135,
   "metadata": {},
   "outputs": [
    {
     "name": "stdout",
     "output_type": "stream",
     "text": [
      "0\n"
     ]
    }
   ],
   "source": [
    "null_replaced_1 = null_replace_random(feature_66)\n",
    "print(null_replaced_1.isnull().sum())"
   ]
  },
  {
   "cell_type": "code",
   "execution_count": 136,
   "metadata": {},
   "outputs": [
    {
     "name": "stdout",
     "output_type": "stream",
     "text": [
      "1303607\n",
      "1303607\n",
      "0\n"
     ]
    }
   ],
   "source": [
    "loans_7 = loans_6.copy()\n",
    "# replacing the column loans_6.mo_sin_old_il_acct with null_replaced_1\n",
    "\n",
    "print(len(null_replaced_1))\n",
    "print(len(loans_6.mo_sin_old_il_acct))\n",
    "# works because the number of observations is the same\n",
    "\n",
    "loans_6.mo_sin_old_il_acct = null_replaced_1\n",
    "print(loans_6.mo_sin_old_il_acct.isnull().sum())"
   ]
  },
  {
   "cell_type": "markdown",
   "metadata": {},
   "source": [
    "This has worked out. There are no null values in the column.\n",
    "Boolean masks are a valuable tool. The next step is now\n",
    "to adapt the function to replacing null values in columns of\n",
    "a data frame by looping over the columns."
   ]
  },
  {
   "cell_type": "code",
   "execution_count": 137,
   "metadata": {},
   "outputs": [],
   "source": [
    "def null_replace_random_df(dataframe):\n",
    "    df = dataframe.copy()\n",
    "    \n",
    "    # do like above for every column using a for loop\n",
    "    # how does this turn out for non-numeric columns\n",
    "    for col in df.columns.tolist():\n",
    "        mask = df[col].isnull()\n",
    "        # set copy, otherwise warning\n",
    "        feature = df[col]\n",
    "        selection = choices( feature[~mask].values , k = mask.sum() )\n",
    "        feature[mask] = selection\n",
    "    \n",
    "    # returns a data frame, where every null value is replaced with a randomly choosen\n",
    "    # value from the unique values of the population\n",
    "    \n",
    "    return df"
   ]
  },
  {
   "cell_type": "code",
   "execution_count": 138,
   "metadata": {},
   "outputs": [],
   "source": [
    "loans_8 = loans_6.copy()\n",
    "\n",
    "def fxn():\n",
    "    warnings.warn(\"deprecated\", DeprecationWarning)\n",
    "\n",
    "with warnings.catch_warnings():\n",
    "    warnings.simplefilter(\"ignore\")\n",
    "    null_replaced_df_1 = null_replace_random_df(loans_8)\n",
    "    fxn()\n",
    "\n",
    "\n",
    "    "
   ]
  },
  {
   "cell_type": "code",
   "execution_count": 139,
   "metadata": {},
   "outputs": [
    {
     "data": {
      "text/plain": [
       "loan_amnt      0\n",
       "term           0\n",
       "installment    0\n",
       "grade          0\n",
       "emp_length     0\n",
       "dtype: int64"
      ]
     },
     "execution_count": 139,
     "metadata": {},
     "output_type": "execute_result"
    }
   ],
   "source": [
    "null_replaced_df_1.isnull().sum()[:5]"
   ]
  },
  {
   "cell_type": "markdown",
   "metadata": {},
   "source": [
    "Was the replacement of null values with random values successful?"
   ]
  },
  {
   "cell_type": "code",
   "execution_count": 140,
   "metadata": {},
   "outputs": [],
   "source": [
    "s_555 = loans_5.isnull().sum().reset_index().rename(columns={0:'null_value'})\n",
    "s_666 = null_replaced_df_1.isnull().sum().reset_index().rename(columns={0:'null_value'})\n",
    "s_merged_1 = s_555.merge(s_666, how=\"left\", on='index')\n"
   ]
  },
  {
   "cell_type": "code",
   "execution_count": 141,
   "metadata": {},
   "outputs": [
    {
     "data": {
      "text/html": [
       "<div>\n",
       "<style scoped>\n",
       "    .dataframe tbody tr th:only-of-type {\n",
       "        vertical-align: middle;\n",
       "    }\n",
       "\n",
       "    .dataframe tbody tr th {\n",
       "        vertical-align: top;\n",
       "    }\n",
       "\n",
       "    .dataframe thead th {\n",
       "        text-align: right;\n",
       "    }\n",
       "</style>\n",
       "<table border=\"1\" class=\"dataframe\">\n",
       "  <thead>\n",
       "    <tr style=\"text-align: right;\">\n",
       "      <th></th>\n",
       "      <th>index</th>\n",
       "      <th>null_value_x</th>\n",
       "      <th>null_value_y</th>\n",
       "    </tr>\n",
       "  </thead>\n",
       "  <tbody>\n",
       "    <tr>\n",
       "      <th>0</th>\n",
       "      <td>loan_amnt</td>\n",
       "      <td>0</td>\n",
       "      <td>0</td>\n",
       "    </tr>\n",
       "    <tr>\n",
       "      <th>1</th>\n",
       "      <td>term</td>\n",
       "      <td>0</td>\n",
       "      <td>0</td>\n",
       "    </tr>\n",
       "    <tr>\n",
       "      <th>2</th>\n",
       "      <td>installment</td>\n",
       "      <td>0</td>\n",
       "      <td>0</td>\n",
       "    </tr>\n",
       "    <tr>\n",
       "      <th>3</th>\n",
       "      <td>grade</td>\n",
       "      <td>0</td>\n",
       "      <td>0</td>\n",
       "    </tr>\n",
       "    <tr>\n",
       "      <th>4</th>\n",
       "      <td>emp_length</td>\n",
       "      <td>0</td>\n",
       "      <td>0</td>\n",
       "    </tr>\n",
       "  </tbody>\n",
       "</table>\n",
       "</div>"
      ],
      "text/plain": [
       "         index  null_value_x  null_value_y\n",
       "0  loan_amnt    0             0           \n",
       "1  term         0             0           \n",
       "2  installment  0             0           \n",
       "3  grade        0             0           \n",
       "4  emp_length   0             0           "
      ]
     },
     "execution_count": 141,
     "metadata": {},
     "output_type": "execute_result"
    }
   ],
   "source": [
    "s_merged_1.head()"
   ]
  },
  {
   "cell_type": "code",
   "execution_count": 142,
   "metadata": {},
   "outputs": [
    {
     "name": "stdout",
     "output_type": "stream",
     "text": [
      "(40, 3)\n",
      "                 index  null_value_x  null_value_y\n",
      "10  title               15426         0           \n",
      "12  dti                 312           0           \n",
      "15  inq_last_6mths      1             0           \n",
      "19  revol_util          810           0           \n",
      "22  last_credit_pull_d  54            0           \n",
      "                         index  null_value_x  null_value_y\n",
      "57  tax_liens                   39            0           \n",
      "58  tot_hi_cred_lim             67527         0           \n",
      "59  total_bal_ex_mort           47281         0           \n",
      "60  total_bc_limit              47281         0           \n",
      "61  total_il_high_credit_limit  67527         0           \n",
      "Empty DataFrame\n",
      "Columns: [index, null_value_x, null_value_y]\n",
      "Index: []\n"
     ]
    }
   ],
   "source": [
    "mask_2 = s_merged_1.null_value_x == s_merged_1.null_value_y\n",
    "replace_success = s_merged_1[~mask_2]\n",
    "print(replace_success.shape)\n",
    "print(replace_success.head())\n",
    "print(replace_success.tail())\n",
    "print(replace_success[replace_success.null_value_y!=0])"
   ]
  },
  {
   "cell_type": "markdown",
   "metadata": {},
   "source": [
    "The replacement was successful."
   ]
  },
  {
   "cell_type": "code",
   "execution_count": 143,
   "metadata": {},
   "outputs": [],
   "source": [
    "loans_9 = null_replaced_df_1"
   ]
  },
  {
   "cell_type": "code",
   "execution_count": 144,
   "metadata": {},
   "outputs": [
    {
     "data": {
      "image/png": "[encoded data removed]",
      "text/plain": [
       "<Figure size 648x360 with 49 Axes>"
      ]
     },
     "metadata": {},
     "output_type": "display_data"
    }
   ],
   "source": [
    "# quick overview of the numerical variables of type float\n",
    "l9_num_1 = loans_9.select_dtypes(include=['float'])\n",
    "\n",
    "\n",
    "fig = plt.figure(figsize=(9,5))\n",
    "fig.subplots_adjust(hspace=0.4, wspace=0.4)\n",
    "plt.suptitle(\"Distributions of numerical variables\")\n",
    "\n",
    "for i,d in zip(range(1, 50), range(0,49)):\n",
    "    plt.subplot(10, 5, i)\n",
    "    plt.hist(l9_num_1.iloc[:,d], edgecolor=\"red\")\n",
    "    plt.xticks([], [])\n",
    "    plt.yticks([], [])\n"
   ]
  },
  {
   "cell_type": "markdown",
   "metadata": {},
   "source": [
    "#### Categorical or other none-numerical variables."
   ]
  },
  {
   "cell_type": "code",
   "execution_count": 145,
   "metadata": {},
   "outputs": [
    {
     "name": "stdout",
     "output_type": "stream",
     "text": [
      "Number of data types:\n",
      "float64    49\n",
      "object     13\n",
      "int64      3 \n",
      "int32      1 \n",
      "dtype: int64\n"
     ]
    }
   ],
   "source": [
    "# loans_9.select_dtypes(include=\"object\")\n",
    "print(\"Number of data types:\\n{}\".format(loans_9.dtypes.value_counts()))"
   ]
  },
  {
   "cell_type": "code",
   "execution_count": 146,
   "metadata": {},
   "outputs": [
    {
     "data": {
      "image/png": "[encoded data removed]",
      "text/plain": [
       "<Figure size 648x288 with 2 Axes>"
      ]
     },
     "metadata": {
      "needs_background": "light"
     },
     "output_type": "display_data"
    }
   ],
   "source": [
    "fig, (ax1, ax2) = plt.subplots(1,2)\n",
    "loans_9.dtypes.value_counts().plot(kind=\"pie\", ax=ax1, figsize=(10, 5))\n",
    "loans_9.dtypes.value_counts().plot(kind=\"bar\", ax=ax2, figsize=(9, 4), \n",
    "                                   edgecolor=\"black\", linewidth=2, color=['r', 'g'])\n",
    "plt.show()"
   ]
  },
  {
   "cell_type": "code",
   "execution_count": 147,
   "metadata": {},
   "outputs": [
    {
     "name": "stdout",
     "output_type": "stream",
     "text": [
      "(1303607, 13)\n"
     ]
    }
   ],
   "source": [
    "l9_objects = loans_9.select_dtypes(include=['object'])\n",
    "print(l9_objects.shape)\n",
    "# loans_9.columns.tolist()"
   ]
  },
  {
   "cell_type": "code",
   "execution_count": 148,
   "metadata": {},
   "outputs": [
    {
     "data": {
      "text/plain": [
       "['term',\n",
       " 'grade',\n",
       " 'home_ownership',\n",
       " 'issue_d',\n",
       " 'purpose',\n",
       " 'title',\n",
       " 'addr_state',\n",
       " 'earliest_cr_line',\n",
       " 'initial_list_status',\n",
       " 'last_credit_pull_d',\n",
       " 'application_type',\n",
       " 'disbursement_method',\n",
       " 'debt_settlement_flag']"
      ]
     },
     "execution_count": 148,
     "metadata": {},
     "output_type": "execute_result"
    }
   ],
   "source": [
    "l9_objects.columns.tolist()"
   ]
  },
  {
   "cell_type": "code",
   "execution_count": 149,
   "metadata": {},
   "outputs": [
    {
     "name": "stdout",
     "output_type": "stream",
     "text": [
      "term : <class 'str'>\n",
      "grade : <class 'str'>\n",
      "home_ownership : <class 'str'>\n",
      "issue_d : <class 'str'>\n",
      "purpose : <class 'str'>\n",
      "title : <class 'str'>\n",
      "addr_state : <class 'str'>\n",
      "earliest_cr_line : <class 'str'>\n",
      "initial_list_status : <class 'str'>\n",
      "last_credit_pull_d : <class 'str'>\n",
      "application_type : <class 'str'>\n",
      "disbursement_method : <class 'str'>\n",
      "debt_settlement_flag : <class 'str'>\n"
     ]
    }
   ],
   "source": [
    "for i in l9_objects:\n",
    "    print(i, ':', type(l9_objects.loc[1,i]))"
   ]
  },
  {
   "cell_type": "code",
   "execution_count": 150,
   "metadata": {},
   "outputs": [
    {
     "name": "stdout",
     "output_type": "stream",
     "text": [
      "term : [' 36 months' ' 60 months']\n",
      "grade : ['D' 'C' 'A']\n",
      "home_ownership : ['MORTGAGE' 'RENT' 'OWN']\n",
      "issue_d : ['Dec-2018' 'Nov-2018' 'Oct-2018']\n",
      "purpose : ['debt_consolidation' 'credit_card' 'other']\n",
      "title : ['Debt consolidation' 'Credit card refinancing' 'Other']\n",
      "addr_state : ['CA' 'OH' 'WA']\n",
      "earliest_cr_line : ['Jan-2012' 'Jun-2009' 'Feb-1999']\n",
      "initial_list_status : ['w' 'f']\n",
      "last_credit_pull_d : ['Jan-2019' 'Feb-2019' 'Dec-2018']\n",
      "application_type : ['Joint App' 'Individual']\n",
      "disbursement_method : ['Cash' 'DirectPay']\n",
      "debt_settlement_flag : ['N' 'Y']\n"
     ]
    }
   ],
   "source": [
    "for i in l9_objects:\n",
    "    print(i, ':', l9_objects[i].unique()[:3])"
   ]
  },
  {
   "cell_type": "code",
   "execution_count": 151,
   "metadata": {},
   "outputs": [
    {
     "name": "stdout",
     "output_type": "stream",
     "text": [
      "term : 2\n",
      "grade : 7\n",
      "home_ownership : 6\n",
      "issue_d : 139\n",
      "purpose : 14\n",
      "title : 61678\n",
      "addr_state : 51\n",
      "earliest_cr_line : 738\n",
      "initial_list_status : 2\n",
      "last_credit_pull_d : 139\n",
      "application_type : 2\n",
      "disbursement_method : 2\n",
      "debt_settlement_flag : 2\n"
     ]
    }
   ],
   "source": [
    "for i in l9_objects:\n",
    "    print(i, \":\" , len(l9_objects[i].unique()))"
   ]
  },
  {
   "cell_type": "markdown",
   "metadata": {},
   "source": [
    "Some features are of type categorical and some look like type datetime-objects, while\n",
    "the data encoding might not be of this type."
   ]
  },
  {
   "cell_type": "markdown",
   "metadata": {},
   "source": [
    "#### How to deal with date time features?"
   ]
  },
  {
   "cell_type": "code",
   "execution_count": 152,
   "metadata": {},
   "outputs": [
    {
     "data": {
      "text/html": [
       "<div>\n",
       "<style scoped>\n",
       "    .dataframe tbody tr th:only-of-type {\n",
       "        vertical-align: middle;\n",
       "    }\n",
       "\n",
       "    .dataframe tbody tr th {\n",
       "        vertical-align: top;\n",
       "    }\n",
       "\n",
       "    .dataframe thead th {\n",
       "        text-align: right;\n",
       "    }\n",
       "</style>\n",
       "<table border=\"1\" class=\"dataframe\">\n",
       "  <thead>\n",
       "    <tr style=\"text-align: right;\">\n",
       "      <th></th>\n",
       "      <th>variable</th>\n",
       "      <th>dtypes</th>\n",
       "      <th>first value</th>\n",
       "      <th>explanation</th>\n",
       "    </tr>\n",
       "  </thead>\n",
       "  <tbody>\n",
       "    <tr>\n",
       "      <th>15</th>\n",
       "      <td>issue_d</td>\n",
       "      <td>object</td>\n",
       "      <td>Dec-2018</td>\n",
       "      <td>The month which the loan was funded</td>\n",
       "    </tr>\n",
       "    <tr>\n",
       "      <th>26</th>\n",
       "      <td>earliest_cr_line</td>\n",
       "      <td>object</td>\n",
       "      <td>Apr-2001</td>\n",
       "      <td>The month the borrower's earliest reported credit line was opened</td>\n",
       "    </tr>\n",
       "    <tr>\n",
       "      <th>48</th>\n",
       "      <td>last_credit_pull_d</td>\n",
       "      <td>object</td>\n",
       "      <td>Feb-2019</td>\n",
       "      <td>The most recent month LC pulled credit for this loan</td>\n",
       "    </tr>\n",
       "  </tbody>\n",
       "</table>\n",
       "</div>"
      ],
      "text/plain": [
       "              variable  dtypes first value  \\\n",
       "15  issue_d             object  Dec-2018     \n",
       "26  earliest_cr_line    object  Apr-2001     \n",
       "48  last_credit_pull_d  object  Feb-2019     \n",
       "\n",
       "                                                          explanation  \n",
       "15  The month which the loan was funded                                \n",
       "26  The month the borrower's earliest reported credit line was opened  \n",
       "48  The most recent month LC pulled credit for this loan               "
      ]
     },
     "execution_count": 152,
     "metadata": {},
     "output_type": "execute_result"
    }
   ],
   "source": [
    "loans_dtypes_explained[(loans_dtypes_explained.variable=='earliest_cr_line') |\n",
    "                       (loans_dtypes_explained.variable=='last_credit_pull_d')  |\n",
    "                       (loans_dtypes_explained.variable=='issue_d')]\n"
   ]
  },
  {
   "cell_type": "code",
   "execution_count": 153,
   "metadata": {},
   "outputs": [
    {
     "name": "stdout",
     "output_type": "stream",
     "text": [
      "5    Apr-1995\n",
      "6    Apr-2009\n",
      "7    Mar-2004\n",
      "8    Jun-2007\n",
      "9    Oct-2002\n",
      "Name: earliest_cr_line, dtype: object\n",
      "object\n",
      "<class 'str'>\n",
      "738\n"
     ]
    }
   ],
   "source": [
    "# What is the current format of the object?\n",
    "\n",
    "print(loans_9.loc[5:9,'earliest_cr_line'])\n",
    "# looks like date\n",
    "print(loans_9['earliest_cr_line'].dtype)\n",
    "print(type(loans_9.loc[3,'earliest_cr_line']))\n",
    "# coded as string\n",
    "print(len(loans_9['earliest_cr_line'].unique()))\n",
    "# 738 unique dates"
   ]
  },
  {
   "cell_type": "markdown",
   "metadata": {},
   "source": [
    "Machine learning algorithms can (in general) only process numeric values.\n",
    "Neither datetime nor string formats suffice this criteria, but datetime objects\n",
    "in Python \n",
    "(<a href=\"https://www.w3schools.com\">doc</a>) \n",
    "and Pandas offer suffcient functionality to \"wrangle\" with datetime\n",
    "in a lot of ways. "
   ]
  },
  {
   "cell_type": "code",
   "execution_count": 154,
   "metadata": {},
   "outputs": [
    {
     "name": "stdout",
     "output_type": "stream",
     "text": [
      "<class 'pandas.core.series.Series'>\n",
      "datetime64[ns]\n",
      "2009-06-01 00:00:00\n",
      "2009-06-01 00:00:00\n",
      "<class 'NoneType'>\n"
     ]
    }
   ],
   "source": [
    "# Converting from string format to datetime format using pandas.to_datetime\n",
    "early_1 = pd.to_datetime(arg=loans_9.earliest_cr_line, format='%b-%Y')\n",
    "\n",
    "print(type(early_1))\n",
    "print(early_1.dtype)\n",
    "print(early_1.iloc[1])\n",
    "print(type(print(early_1.iloc[1])))\n"
   ]
  },
  {
   "cell_type": "code",
   "execution_count": 155,
   "metadata": {},
   "outputs": [
    {
     "name": "stdout",
     "output_type": "stream",
     "text": [
      "0    1 \n",
      "1    6 \n",
      "2    2 \n",
      "3    12\n",
      "4    10\n",
      "Name: earliest_cr_line, dtype: int64\n",
      "int64\n",
      "0    2012\n",
      "1    2009\n",
      "2    1999\n",
      "3    2003\n",
      "4    1997\n",
      "Name: earliest_cr_line, dtype: int64\n",
      "int64\n"
     ]
    }
   ],
   "source": [
    "month_1 = early_1.dt.month\n",
    "print(month_1.iloc[:5] )\n",
    "print(month_1.dtype)\n",
    "\n",
    "year_1 = early_1.dt.year\n",
    "print(year_1.iloc[:5])\n",
    "print(year_1.dtype)"
   ]
  },
  {
   "cell_type": "markdown",
   "metadata": {},
   "source": [
    "There are many possibilities to reassign the datetime.\n",
    "A short overview is given on\n",
    "<a href=\"https://brohrer.github.io/datetime_tricks.html\">How to use datetime</a>.\n",
    "Especially important is the timedelta option. Here the 'earliest_cr_line' feature\n",
    "was converted into a datetime-object and is now reassigned as numeric columns."
   ]
  },
  {
   "cell_type": "code",
   "execution_count": 156,
   "metadata": {},
   "outputs": [
    {
     "name": "stdout",
     "output_type": "stream",
     "text": [
      "['acc_now_delinq', 'acc_open_past_24mths', 'addr_state', 'annual_inc', 'application_type', 'avg_cur_bal', 'bc_open_to_buy', 'bc_util', 'chargeoff_within_12_mths', 'collections_12_mths_ex_med', 'debt_settlement_flag', 'delinq_2yrs', 'delinq_amnt', 'disbursement_method', 'dti', 'early_month', 'early_year', 'emp_length', 'grade', 'home_ownership', 'initial_list_status', 'inq_last_6mths', 'installment', 'issue_d', 'last_credit_pull_d']\n"
     ]
    }
   ],
   "source": [
    "loans_10 = loans_9.copy()\n",
    "loans_10['early_month'] = month_1\n",
    "loans_10['early_year'] = year_1\n",
    "# The column earliest_cr_line is not longer needed\n",
    "loans_10 = loans_10.drop('earliest_cr_line', axis=1)\n",
    "print(sorted(loans_10.columns.tolist())[:25])"
   ]
  },
  {
   "cell_type": "code",
   "execution_count": 157,
   "metadata": {},
   "outputs": [
    {
     "data": {
      "text/plain": [
       "True"
      ]
     },
     "execution_count": 157,
     "metadata": {},
     "output_type": "execute_result"
    }
   ],
   "source": [
    "\"\".join(['early_month', 'early_year']) in \"\".join(loans_10.columns)"
   ]
  },
  {
   "cell_type": "markdown",
   "metadata": {},
   "source": [
    "The other datetime columns coded as strings."
   ]
  },
  {
   "cell_type": "code",
   "execution_count": 158,
   "metadata": {},
   "outputs": [
    {
     "name": "stdout",
     "output_type": "stream",
     "text": [
      "0    Dec-2018\n",
      "1    Dec-2018\n",
      "2    Dec-2018\n",
      "3    Dec-2018\n",
      "4    Dec-2018\n",
      "5    Dec-2018\n",
      "Name: issue_d, dtype: object\n",
      "0    Jan-2019\n",
      "1    Feb-2019\n",
      "2    Feb-2019\n",
      "3    Feb-2019\n",
      "4    Feb-2019\n",
      "5    Jan-2019\n",
      "Name: last_credit_pull_d, dtype: object\n"
     ]
    }
   ],
   "source": [
    "print(loans_10.loc[:5, 'issue_d'])\n",
    "print(loans_10.loc[:5, 'last_credit_pull_d'])"
   ]
  },
  {
   "cell_type": "code",
   "execution_count": 159,
   "metadata": {},
   "outputs": [],
   "source": [
    "loans_11 = loans_10.copy()"
   ]
  },
  {
   "cell_type": "code",
   "execution_count": 160,
   "metadata": {},
   "outputs": [],
   "source": [
    "# this functions convert the string column into a datetime object\n",
    "# then extracts month and years and insert those as columns into the data frame\n",
    "# it then drops the initial feature column and returns the data frame \n",
    "\n",
    "def extract_datetime(df, feature, format_code):\n",
    "    \n",
    "    date_obj = pd.to_datetime(arg=df[feature], format=format_code)\n",
    "    df[feature + \"_\" + 'month'] = date_obj.dt.month\n",
    "    df[feature + \"_\" + 'year'] = date_obj.dt.year\n",
    "    \n",
    "    df = df.drop(feature, axis=1)\n",
    "    \n",
    "    return df"
   ]
  },
  {
   "cell_type": "code",
   "execution_count": 161,
   "metadata": {},
   "outputs": [],
   "source": [
    "loans_12 = \\\n",
    "extract_datetime(df=loans_11, feature='issue_d', format_code='%b-%Y')\n"
   ]
  },
  {
   "cell_type": "code",
   "execution_count": 162,
   "metadata": {},
   "outputs": [
    {
     "name": "stdout",
     "output_type": "stream",
     "text": [
      "(1303607, 68)\n",
      "   loan_amnt        term  installment grade  emp_length home_ownership\n",
      "0  30000       36 months  1151.16      D     5           MORTGAGE     \n",
      "1  40000       60 months  975.71       C     1           MORTGAGE     \n",
      "   issue_d_month  issue_d_year\n",
      "0  12             2018        \n",
      "1  12             2018        \n",
      "2  12             2018        \n"
     ]
    }
   ],
   "source": [
    "print(loans_12.shape)\n",
    "print(loans_12.iloc[:2,:6])\n",
    "print(loans_12.loc[:2, ['issue_d_month', 'issue_d_year']])"
   ]
  },
  {
   "cell_type": "code",
   "execution_count": 163,
   "metadata": {},
   "outputs": [],
   "source": [
    "loans_13 = \\\n",
    "extract_datetime(df=loans_12, feature='last_credit_pull_d', format_code='%b-%Y')"
   ]
  },
  {
   "cell_type": "code",
   "execution_count": 164,
   "metadata": {},
   "outputs": [
    {
     "name": "stdout",
     "output_type": "stream",
     "text": [
      "(1303607, 69)\n",
      "   loan_amnt        term  installment grade  emp_length home_ownership\n",
      "0  30000       36 months  1151.16      D     5           MORTGAGE     \n",
      "1  40000       60 months  975.71       C     1           MORTGAGE     \n",
      "   last_credit_pull_d_month  last_credit_pull_d_year\n",
      "0  1                         2019                   \n",
      "1  2                         2019                   \n",
      "2  2                         2019                   \n"
     ]
    }
   ],
   "source": [
    "print(loans_13.shape)\n",
    "# two new columns are added\n",
    "print(loans_13.iloc[:2,:6])\n",
    "print(loans_13.loc[:2, ['last_credit_pull_d_month', 'last_credit_pull_d_year']])"
   ]
  },
  {
   "cell_type": "code",
   "execution_count": 165,
   "metadata": {},
   "outputs": [
    {
     "name": "stdout",
     "output_type": "stream",
     "text": [
      "(1303607, 10)\n",
      "<class 'pandas.core.frame.DataFrame'>\n",
      "RangeIndex: 1303607 entries, 0 to 1303606\n",
      "Data columns (total 10 columns):\n",
      "term                    1303607 non-null object\n",
      "grade                   1303607 non-null object\n",
      "home_ownership          1303607 non-null object\n",
      "purpose                 1303607 non-null object\n",
      "title                   1303607 non-null object\n",
      "addr_state              1303607 non-null object\n",
      "initial_list_status     1303607 non-null object\n",
      "application_type        1303607 non-null object\n",
      "disbursement_method     1303607 non-null object\n",
      "debt_settlement_flag    1303607 non-null object\n",
      "dtypes: object(10)\n",
      "memory usage: 99.5+ MB\n",
      "None\n"
     ]
    }
   ],
   "source": [
    "l13_objects = loans_13.select_dtypes(include=['object'])\n",
    "print(l13_objects.shape)\n",
    "print(l13_objects.info() )"
   ]
  },
  {
   "cell_type": "markdown",
   "metadata": {},
   "source": [
    "The datetime columns like last_credit_pull_d are gone."
   ]
  },
  {
   "cell_type": "code",
   "execution_count": 166,
   "metadata": {},
   "outputs": [
    {
     "name": "stdout",
     "output_type": "stream",
     "text": [
      "term : [' 36 months' ' 60 months']\n",
      "grade : ['D' 'C' 'A' 'B' 'E' 'G' 'F']\n",
      "home_ownership : ['MORTGAGE' 'RENT' 'OWN' 'ANY' 'NONE' 'OTHER']\n",
      "purpose : ['debt_consolidation' 'credit_card' 'other' 'house' 'car'\n",
      " 'home_improvement' 'moving' 'small_business' 'vacation' 'medical'\n",
      " 'major_purchase' 'renewable_energy' 'wedding' 'educational']\n",
      "title : ['Debt consolidation' 'Credit card refinancing' 'Other' 'Home buying'\n",
      " 'Car financing' 'Home improvement' 'Moving and relocation' 'Business'\n",
      " 'Vacation' 'Medical expenses' 'Major purchase' 'Green loan'\n",
      " 'Debt Consolidation' 'Barclaycard, Discover and Springleaf '\n",
      " 'House Renovation-2011']\n",
      "addr_state : ['CA' 'OH' 'WA' 'TX' 'MA' 'PA' 'MI' 'ID' 'AZ' 'NY' 'LA' 'RI' 'IL' 'TN'\n",
      " 'NV']\n",
      "initial_list_status : ['w' 'f']\n",
      "application_type : ['Joint App' 'Individual']\n",
      "disbursement_method : ['Cash' 'DirectPay']\n",
      "debt_settlement_flag : ['N' 'Y']\n"
     ]
    }
   ],
   "source": [
    "for i in l13_objects:\n",
    "    print(i, ':', l13_objects[i].unique()[:15])"
   ]
  },
  {
   "cell_type": "code",
   "execution_count": 167,
   "metadata": {},
   "outputs": [
    {
     "name": "stdout",
     "output_type": "stream",
     "text": [
      "term : 2\n",
      "grade : 7\n",
      "home_ownership : 6\n",
      "purpose : 14\n",
      "title : 61678\n",
      "addr_state : 51\n",
      "initial_list_status : 2\n",
      "application_type : 2\n",
      "disbursement_method : 2\n",
      "debt_settlement_flag : 2\n"
     ]
    }
   ],
   "source": [
    "for i in l13_objects:\n",
    "    print(i, ':', len(l13_objects[i].unique()))"
   ]
  },
  {
   "cell_type": "markdown",
   "metadata": {},
   "source": [
    "#### adress_state\n",
    "\n",
    "<p>\n",
    "The remaining columns are all of categorical type. \n",
    "However the feature address_state has 51 columns. \n",
    "This is a problem as 51 -1 columns would be necessary to do one-hot-encoding or \n",
    "create dummy variables. This is possible but prone to distortions and increases\n",
    "the need for computing power. It is tempting to drop the feature, but\n",
    "geographic data is in general a good predictor for binary target variables like\n",
    "default or not on a credit.\n",
    "</p> \n",
    "<p>\n",
    "Before getting on it is necessary to take a closer look at the address_state data.\n",
    "</p>\n"
   ]
  },
  {
   "cell_type": "code",
   "execution_count": 168,
   "metadata": {},
   "outputs": [
    {
     "name": "stdout",
     "output_type": "stream",
     "text": [
      "  state  frequency  percentile_rank\n",
      "0  CA    191032     51.0           \n",
      "1  TX    106673     50.0           \n",
      "2  NY    106384     49.0           \n",
      "3  FL    92619      48.0           \n",
      "4  IL    50027      47.0           \n",
      "5  NJ    46884      46.0           \n",
      "6  PA    44117      45.0           \n",
      "7  OH    42436      44.0           \n",
      "8  GA    42031      43.0           \n",
      "9  VA    36852      42.0           \n",
      "<class 'pandas.core.frame.DataFrame'>\n"
     ]
    }
   ],
   "source": [
    "# value counts of address_state gives the frequencies of every state in the column\n",
    "adress_1 = loans_13.addr_state.value_counts().sort_values(ascending=False)\n",
    "adress_1 = \\\n",
    "adress_1.reset_index().rename(columns={'index':'state', 'addr_state':'frequency'})\n",
    "\n",
    "adress_1['percentile_rank']= adress_1['frequency'].rank()\n",
    "\n",
    "\n",
    "print(adress_1.head(10))\n",
    "print(type(adress_1))\n",
    "# California, Texas and New York are above 100.000 borrowings. The other\n",
    "# states are below. Florida is with 92619 closer to the first three than the\n",
    "# next state Illinois."
   ]
  },
  {
   "cell_type": "code",
   "execution_count": 169,
   "metadata": {},
   "outputs": [
    {
     "data": {
      "text/plain": [
       "-46.0"
      ]
     },
     "execution_count": 169,
     "metadata": {},
     "output_type": "execute_result"
    }
   ],
   "source": [
    "top_4_quantile = 1 - adress_1.loc[4, 'percentile_rank']\n",
    "top_4_quantile\n",
    "# The top 4 percentile with the highest values is \n",
    "# only made of 0.078 percent of the data"
   ]
  },
  {
   "cell_type": "code",
   "execution_count": 170,
   "metadata": {},
   "outputs": [
    {
     "name": "stdout",
     "output_type": "stream",
     "text": [
      "496708\n",
      "806899\n"
     ]
    },
    {
     "data": {
      "image/png": "[encoded data removed]",
      "text/plain": [
       "<Figure size 432x288 with 1 Axes>"
      ]
     },
     "metadata": {
      "needs_background": "light"
     },
     "output_type": "display_data"
    }
   ],
   "source": [
    "above_90 = adress_1.loc[adress_1.frequency >= 90000, 'frequency'].sum()\n",
    "below_90 = adress_1.loc[adress_1.frequency < 90000, 'frequency'].sum()\n",
    "print(above_90)\n",
    "print(below_90)\n",
    "\n",
    "seperation = pd.Series([above_90, below_90])\n",
    "\n",
    "fig, ax = plt.subplots(1)\n",
    "ax.bar(x=['above', 'below'], height=seperation, edgecolor=\"red\", linewidth=5,\n",
    "       color=\"gold\")\n",
    "ax.set_title(\"Below and above 100000 borrowings by state\")\n",
    "plt.show()"
   ]
  },
  {
   "cell_type": "markdown",
   "metadata": {},
   "source": [
    "One options is to decrease the number of levels of the categorical variable\n",
    "adress state by using only a subset like above 100.000. \n",
    "As the amount of states with borrowers below 100.000 is substantial,\n",
    "this is not a good option."
   ]
  },
  {
   "cell_type": "code",
   "execution_count": 171,
   "metadata": {},
   "outputs": [
    {
     "data": {
      "image/png": "[encoded data removed]",
      "text/plain": [
       "<Figure size 864x360 with 2 Axes>"
      ]
     },
     "metadata": {
      "needs_background": "light"
     },
     "output_type": "display_data"
    }
   ],
   "source": [
    "fig, (ax1, ax2) = plt.subplots(2,1, sharex=True)\n",
    "plt.tight_layout(pad=1)\n",
    "\n",
    "loans_13.addr_state.value_counts().plot(kind=\"bar\", ax=ax1, figsize=(12,5),\n",
    "                                        title=\"Frequency of adress state absolute\",\n",
    "                                        edgecolor=\"black\", linewidth=3, \n",
    "                                        color=['r', 'b'])\n",
    "\n",
    "loans_13.addr_state.value_counts().plot(kind=\"bar\", ax=ax2, figsize=(12,5), \n",
    "                                        title=\"Frequency of adress state log\",\n",
    "                                        edgecolor=\"black\", linewidth=3, \n",
    "                                        color=['r', 'b'])\n",
    "ax2.set_yscale('log')\n",
    "\n",
    "plt.show()"
   ]
  },
  {
   "cell_type": "markdown",
   "metadata": {},
   "source": [
    "<p>\n",
    "The \"distribution\" is sharply right skewed. Pure label encoding is problematic as there is not a ordinal relationship between the states. California is not more important than New Jersey. However the frequency distribution offers a solution:\n",
    "</p> \n",
    "<p>\n",
    "Frequency encoding: It is a way to utilize the frequency of the categories as labels. In the cases where the frequency is related somewhat with the target variable, it helps the model to understand and assign the weight in direct and inverse proportion, depending on the nature of the data.\n",
    "</p> \n",
    "\n",
    "<a href=\"https://www.datacamp.com/community/tutorials/encoding-methodologies\">Datacamp</a>\n",
    "\n",
    "<p>\n",
    "Obviously the frequency is related with the target variable here.\n",
    "</p> "
   ]
  },
  {
   "cell_type": "code",
   "execution_count": 172,
   "metadata": {},
   "outputs": [],
   "source": [
    "# Instead of immediate frequencies proportions are used to avoid \n",
    "# overweighting of the feature\n",
    "adress_3 = adress_1.copy()\n",
    "adress_3['proportions']=round(adress_1['frequency']/sum(adress_1['frequency']),4)"
   ]
  },
  {
   "cell_type": "code",
   "execution_count": 173,
   "metadata": {},
   "outputs": [
    {
     "name": "stdout",
     "output_type": "stream",
     "text": [
      "<class 'pandas.core.frame.DataFrame'>\n"
     ]
    },
    {
     "data": {
      "text/html": [
       "<div>\n",
       "<style scoped>\n",
       "    .dataframe tbody tr th:only-of-type {\n",
       "        vertical-align: middle;\n",
       "    }\n",
       "\n",
       "    .dataframe tbody tr th {\n",
       "        vertical-align: top;\n",
       "    }\n",
       "\n",
       "    .dataframe thead th {\n",
       "        text-align: right;\n",
       "    }\n",
       "</style>\n",
       "<table border=\"1\" class=\"dataframe\">\n",
       "  <thead>\n",
       "    <tr style=\"text-align: right;\">\n",
       "      <th></th>\n",
       "      <th>state</th>\n",
       "      <th>frequency</th>\n",
       "      <th>percentile_rank</th>\n",
       "      <th>proportions</th>\n",
       "    </tr>\n",
       "  </thead>\n",
       "  <tbody>\n",
       "    <tr>\n",
       "      <th>0</th>\n",
       "      <td>CA</td>\n",
       "      <td>191032</td>\n",
       "      <td>51.0</td>\n",
       "      <td>0.1465</td>\n",
       "    </tr>\n",
       "    <tr>\n",
       "      <th>1</th>\n",
       "      <td>TX</td>\n",
       "      <td>106673</td>\n",
       "      <td>50.0</td>\n",
       "      <td>0.0818</td>\n",
       "    </tr>\n",
       "    <tr>\n",
       "      <th>2</th>\n",
       "      <td>NY</td>\n",
       "      <td>106384</td>\n",
       "      <td>49.0</td>\n",
       "      <td>0.0816</td>\n",
       "    </tr>\n",
       "    <tr>\n",
       "      <th>3</th>\n",
       "      <td>FL</td>\n",
       "      <td>92619</td>\n",
       "      <td>48.0</td>\n",
       "      <td>0.0710</td>\n",
       "    </tr>\n",
       "    <tr>\n",
       "      <th>4</th>\n",
       "      <td>IL</td>\n",
       "      <td>50027</td>\n",
       "      <td>47.0</td>\n",
       "      <td>0.0384</td>\n",
       "    </tr>\n",
       "    <tr>\n",
       "      <th>5</th>\n",
       "      <td>NJ</td>\n",
       "      <td>46884</td>\n",
       "      <td>46.0</td>\n",
       "      <td>0.0360</td>\n",
       "    </tr>\n",
       "  </tbody>\n",
       "</table>\n",
       "</div>"
      ],
      "text/plain": [
       "  state  frequency  percentile_rank  proportions\n",
       "0  CA    191032     51.0             0.1465     \n",
       "1  TX    106673     50.0             0.0818     \n",
       "2  NY    106384     49.0             0.0816     \n",
       "3  FL    92619      48.0             0.0710     \n",
       "4  IL    50027      47.0             0.0384     \n",
       "5  NJ    46884      46.0             0.0360     "
      ]
     },
     "execution_count": 173,
     "metadata": {},
     "output_type": "execute_result"
    }
   ],
   "source": [
    "print(type(adress_3))\n",
    "adress_3.head(6)"
   ]
  },
  {
   "cell_type": "code",
   "execution_count": 174,
   "metadata": {},
   "outputs": [],
   "source": [
    "loans_14=loans_13.copy()"
   ]
  },
  {
   "cell_type": "markdown",
   "metadata": {},
   "source": [
    "The string levels in the adress state column are replaced with\n",
    "the proportions using a mapper."
   ]
  },
  {
   "cell_type": "code",
   "execution_count": 175,
   "metadata": {},
   "outputs": [
    {
     "data": {
      "text/html": [
       "<div>\n",
       "<style scoped>\n",
       "    .dataframe tbody tr th:only-of-type {\n",
       "        vertical-align: middle;\n",
       "    }\n",
       "\n",
       "    .dataframe tbody tr th {\n",
       "        vertical-align: top;\n",
       "    }\n",
       "\n",
       "    .dataframe thead th {\n",
       "        text-align: right;\n",
       "    }\n",
       "</style>\n",
       "<table border=\"1\" class=\"dataframe\">\n",
       "  <thead>\n",
       "    <tr style=\"text-align: right;\">\n",
       "      <th></th>\n",
       "      <th>0</th>\n",
       "    </tr>\n",
       "  </thead>\n",
       "  <tbody>\n",
       "    <tr>\n",
       "      <th>CA</th>\n",
       "      <td>0.1465</td>\n",
       "    </tr>\n",
       "    <tr>\n",
       "      <th>TX</th>\n",
       "      <td>0.0818</td>\n",
       "    </tr>\n",
       "    <tr>\n",
       "      <th>NY</th>\n",
       "      <td>0.0816</td>\n",
       "    </tr>\n",
       "    <tr>\n",
       "      <th>FL</th>\n",
       "      <td>0.0710</td>\n",
       "    </tr>\n",
       "    <tr>\n",
       "      <th>IL</th>\n",
       "      <td>0.0384</td>\n",
       "    </tr>\n",
       "  </tbody>\n",
       "</table>\n",
       "</div>"
      ],
      "text/plain": [
       "         0\n",
       "CA  0.1465\n",
       "TX  0.0818\n",
       "NY  0.0816\n",
       "FL  0.0710\n",
       "IL  0.0384"
      ]
     },
     "execution_count": 175,
     "metadata": {},
     "output_type": "execute_result"
    }
   ],
   "source": [
    "# Create dictionary from a df\n",
    "# This dictionary is used as a mapper\n",
    "dict_adress=pd.DataFrame(adress_3.proportions.values, index=adress_3.state).to_dict()\n",
    "dict_adress=dict_adress[0]\n",
    "dict_df = pd.DataFrame.from_dict(dict_adress,  orient='index').head(5)\n",
    "dict_df"
   ]
  },
  {
   "cell_type": "code",
   "execution_count": 176,
   "metadata": {},
   "outputs": [],
   "source": [
    "mapper_1 =loans_14['addr_state'].map(dict_adress)"
   ]
  },
  {
   "cell_type": "code",
   "execution_count": 177,
   "metadata": {},
   "outputs": [
    {
     "name": "stdout",
     "output_type": "stream",
     "text": [
      "<class 'pandas.core.series.Series'>\n",
      "0    0.1465\n",
      "1    0.0326\n",
      "2    0.0218\n",
      "3    0.0818\n",
      "4    0.0230\n",
      "Name: addr_state, dtype: float64\n"
     ]
    }
   ],
   "source": [
    "print(type(mapper_1))\n",
    "print(mapper_1.iloc[:5])"
   ]
  },
  {
   "cell_type": "code",
   "execution_count": 178,
   "metadata": {},
   "outputs": [],
   "source": [
    "loans_14['addr_state'] = mapper_1"
   ]
  },
  {
   "cell_type": "code",
   "execution_count": 179,
   "metadata": {},
   "outputs": [
    {
     "name": "stdout",
     "output_type": "stream",
     "text": [
      "0    0.1465\n",
      "1    0.0326\n",
      "2    0.0218\n",
      "3    0.0818\n",
      "4    0.0230\n",
      "Name: addr_state, dtype: float64\n",
      "float64\n",
      "['annual_inc', 'emp_length', 'grade', 'home_ownership', 'installment', 'loan_amnt', 'loan_status', 'purpose', 'term', 'title']\n"
     ]
    }
   ],
   "source": [
    "print(loans_14['addr_state'].head())\n",
    "print(loans_14['addr_state'].dtype)\n",
    "print(sorted(loans_14.columns.tolist()[:10]))"
   ]
  },
  {
   "cell_type": "markdown",
   "metadata": {},
   "source": [
    "The replacement was successful."
   ]
  },
  {
   "cell_type": "markdown",
   "metadata": {},
   "source": [
    "#### purpose and title"
   ]
  },
  {
   "cell_type": "code",
   "execution_count": 180,
   "metadata": {},
   "outputs": [
    {
     "data": {
      "text/html": [
       "<div>\n",
       "<style scoped>\n",
       "    .dataframe tbody tr th:only-of-type {\n",
       "        vertical-align: middle;\n",
       "    }\n",
       "\n",
       "    .dataframe tbody tr th {\n",
       "        vertical-align: top;\n",
       "    }\n",
       "\n",
       "    .dataframe thead th {\n",
       "        text-align: right;\n",
       "    }\n",
       "</style>\n",
       "<table border=\"1\" class=\"dataframe\">\n",
       "  <thead>\n",
       "    <tr style=\"text-align: right;\">\n",
       "      <th></th>\n",
       "      <th>variable</th>\n",
       "      <th>dtypes</th>\n",
       "      <th>first value</th>\n",
       "      <th>explanation</th>\n",
       "    </tr>\n",
       "  </thead>\n",
       "  <tbody>\n",
       "    <tr>\n",
       "      <th>20</th>\n",
       "      <td>purpose</td>\n",
       "      <td>object</td>\n",
       "      <td>debt_consolidation</td>\n",
       "      <td>A category provided by the borrower for the loan request.</td>\n",
       "    </tr>\n",
       "    <tr>\n",
       "      <th>21</th>\n",
       "      <td>title</td>\n",
       "      <td>object</td>\n",
       "      <td>Debt consolidation</td>\n",
       "      <td>The loan title provided by the borrower</td>\n",
       "    </tr>\n",
       "  </tbody>\n",
       "</table>\n",
       "</div>"
      ],
      "text/plain": [
       "   variable  dtypes         first value  \\\n",
       "20  purpose  object  debt_consolidation   \n",
       "21  title    object  Debt consolidation   \n",
       "\n",
       "                                                   explanation  \n",
       "20  A category provided by the borrower for the loan request.   \n",
       "21  The loan title provided by the borrower                     "
      ]
     },
     "execution_count": 180,
     "metadata": {},
     "output_type": "execute_result"
    }
   ],
   "source": [
    "loans_dtypes_explained[(loans_dtypes_explained.variable=='purpose') |\n",
    "                       (loans_dtypes_explained.variable=='title')]\n"
   ]
  },
  {
   "cell_type": "code",
   "execution_count": 181,
   "metadata": {},
   "outputs": [
    {
     "name": "stdout",
     "output_type": "stream",
     "text": [
      "purpose :  ['debt_consolidation' 'credit_card' 'other' 'house' 'car'\n",
      " 'home_improvement' 'moving' 'small_business' 'vacation' 'medical'\n",
      " 'major_purchase' 'renewable_energy' 'wedding' 'educational']\n",
      "purpose :  14\n",
      "title :  ['Debt consolidation' 'Credit card refinancing' 'Other' ...\n",
      " 'Retiring credit card debt' 'MBA Loan Consolidation' 'JAL Loan']\n",
      "title :  61678\n"
     ]
    }
   ],
   "source": [
    "for i in ['purpose', 'title']:\n",
    "    print(i, \": \", loans_14.loc[:, i].unique())\n",
    "    print(i, \": \", len(loans_14.loc[:, i].unique()))"
   ]
  },
  {
   "cell_type": "markdown",
   "metadata": {},
   "source": [
    "The purpose and title column are similar. Multicollinearity is given. The titles given \n",
    "by the borrowers are more diverse and confusing. For this reason this one is\n",
    "dropped."
   ]
  },
  {
   "cell_type": "code",
   "execution_count": 182,
   "metadata": {},
   "outputs": [],
   "source": [
    "loans_14 = loans_14.drop('title', axis=1)"
   ]
  },
  {
   "cell_type": "markdown",
   "metadata": {},
   "source": [
    "#### Final encoding of the categorical variables\n",
    "\n",
    "Some variables were allready encoded in context of the feature selection \n",
    "and other operations above. Now the final encoding of the remaining\n",
    "categorical variables are conducted."
   ]
  },
  {
   "cell_type": "code",
   "execution_count": 183,
   "metadata": {},
   "outputs": [
    {
     "name": "stdout",
     "output_type": "stream",
     "text": [
      "(1303607, 8)\n",
      "<class 'pandas.core.frame.DataFrame'>\n",
      "RangeIndex: 1303607 entries, 0 to 1303606\n",
      "Data columns (total 8 columns):\n",
      "term                    1303607 non-null object\n",
      "grade                   1303607 non-null object\n",
      "home_ownership          1303607 non-null object\n",
      "purpose                 1303607 non-null object\n",
      "initial_list_status     1303607 non-null object\n",
      "application_type        1303607 non-null object\n",
      "disbursement_method     1303607 non-null object\n",
      "debt_settlement_flag    1303607 non-null object\n",
      "dtypes: object(8)\n",
      "memory usage: 79.6+ MB\n",
      "None\n"
     ]
    }
   ],
   "source": [
    "l14_objects = loans_14.select_dtypes(include=['object'])\n",
    "print(l14_objects.shape)\n",
    "print(l14_objects.info())"
   ]
  },
  {
   "cell_type": "code",
   "execution_count": 184,
   "metadata": {},
   "outputs": [
    {
     "name": "stdout",
     "output_type": "stream",
     "text": [
      "term : [' 36 months' ' 60 months']\n",
      "grade : ['D' 'C' 'A' 'B' 'E' 'G' 'F']\n",
      "home_ownership : ['MORTGAGE' 'RENT' 'OWN' 'ANY' 'NONE' 'OTHER']\n",
      "purpose : ['debt_consolidation' 'credit_card' 'other' 'house' 'car'\n",
      " 'home_improvement' 'moving' 'small_business' 'vacation' 'medical'\n",
      " 'major_purchase' 'renewable_energy' 'wedding' 'educational']\n",
      "initial_list_status : ['w' 'f']\n",
      "application_type : ['Joint App' 'Individual']\n",
      "disbursement_method : ['Cash' 'DirectPay']\n",
      "debt_settlement_flag : ['N' 'Y']\n"
     ]
    }
   ],
   "source": [
    "for i in l14_objects:\n",
    "    print(i, ':', l14_objects[i].unique()[:15])"
   ]
  },
  {
   "cell_type": "markdown",
   "metadata": {},
   "source": [
    "<p>Ordinal or nominal level of measurement?</p> \n",
    "<p>\n",
    "In case of an ordinal level the label communicate a rank. In\n",
    "case of a nominal level the opposite is true and the levels \n",
    "are only descriptive. Ordinal variables can encoded with labels in one\n",
    "column as done for example with the address_state feature.\n",
    "Nominal variables would send to much information to the algorithm with\n",
    "label encoding. In this case dummy variables are created, where each\n",
    "columns code an attribute as 0 or 1.\n",
    "</p> "
   ]
  },
  {
   "cell_type": "markdown",
   "metadata": {},
   "source": [
    "#### term"
   ]
  },
  {
   "cell_type": "code",
   "execution_count": 185,
   "metadata": {},
   "outputs": [
    {
     "name": "stdout",
     "output_type": "stream",
     "text": [
      "36    988754\n",
      "60    314853\n",
      "Name: term, dtype: int64\n",
      "<class 'pandas.core.series.Series'>\n",
      "1303607\n",
      "0    36\n",
      "1    60\n",
      "2    36\n",
      "Name: term, dtype: int64\n"
     ]
    }
   ],
   "source": [
    "# The assumption here is that it makes a difference for the target\n",
    "# variable if the term is 36 or 60 months.\n",
    "# 60 months may have lower default rate\n",
    "# There might be a correlation with interest rate, which is not\n",
    "# followed up here.\n",
    "\n",
    "term_1 = loans_14['term']\n",
    "term_1 = \\\n",
    "term_1.str.replace('months', '').str.strip()\n",
    "\n",
    "term_2 = term_1.apply(int)\n",
    "\n",
    "print(term_2.value_counts())\n",
    "print(type(term_2))\n",
    "print(len(term_2))\n",
    "print(term_2.iloc[:3])"
   ]
  },
  {
   "cell_type": "code",
   "execution_count": 186,
   "metadata": {},
   "outputs": [
    {
     "name": "stdout",
     "output_type": "stream",
     "text": [
      "int64\n"
     ]
    }
   ],
   "source": [
    "loans_14['term'] = term_2\n",
    "print(loans_14['term'].dtype)"
   ]
  },
  {
   "cell_type": "code",
   "execution_count": 187,
   "metadata": {},
   "outputs": [
    {
     "data": {
      "text/html": [
       "<div>\n",
       "<style scoped>\n",
       "    .dataframe tbody tr th:only-of-type {\n",
       "        vertical-align: middle;\n",
       "    }\n",
       "\n",
       "    .dataframe tbody tr th {\n",
       "        vertical-align: top;\n",
       "    }\n",
       "\n",
       "    .dataframe thead th {\n",
       "        text-align: right;\n",
       "    }\n",
       "</style>\n",
       "<table border=\"1\" class=\"dataframe\">\n",
       "  <thead>\n",
       "    <tr style=\"text-align: right;\">\n",
       "      <th></th>\n",
       "      <th>variable</th>\n",
       "      <th>dtypes</th>\n",
       "      <th>first value</th>\n",
       "      <th>explanation</th>\n",
       "    </tr>\n",
       "  </thead>\n",
       "  <tbody>\n",
       "    <tr>\n",
       "      <th>8</th>\n",
       "      <td>grade</td>\n",
       "      <td>object</td>\n",
       "      <td>C</td>\n",
       "      <td>LC assigned loan grade</td>\n",
       "    </tr>\n",
       "    <tr>\n",
       "      <th>12</th>\n",
       "      <td>home_ownership</td>\n",
       "      <td>object</td>\n",
       "      <td>RENT</td>\n",
       "      <td>The home ownership status provided by the borrower during registration or obtained from the credit report. Our values are: RENT, OWN, MORTGAGE, OTHER</td>\n",
       "    </tr>\n",
       "  </tbody>\n",
       "</table>\n",
       "</div>"
      ],
      "text/plain": [
       "          variable  dtypes first value  \\\n",
       "8   grade           object  C            \n",
       "12  home_ownership  object  RENT         \n",
       "\n",
       "                                                                                                                                              explanation  \n",
       "8   LC assigned loan grade                                                                                                                                 \n",
       "12  The home ownership status provided by the borrower during registration or obtained from the credit report. Our values are: RENT, OWN, MORTGAGE, OTHER  "
      ]
     },
     "execution_count": 187,
     "metadata": {},
     "output_type": "execute_result"
    }
   ],
   "source": [
    "loans_dtypes_explained[(loans_dtypes_explained.variable=='grade')|\n",
    "                       (loans_dtypes_explained.variable=='home_ownership')]"
   ]
  },
  {
   "cell_type": "markdown",
   "metadata": {},
   "source": [
    "Grade is obviously a ordinal variable with an inherent ranking.\n",
    "Home ownership is more tricky. Own is better than rent and rent better\n",
    "than mortage as additional debt all things equal. This assumption is taken here. Problem, a research did not reveal the meaning of any or none.\n"
   ]
  },
  {
   "cell_type": "code",
   "execution_count": 188,
   "metadata": {},
   "outputs": [
    {
     "data": {
      "text/plain": [
       "array(['MORTGAGE', 'RENT', 'OWN', 'ANY', 'NONE', 'OTHER'], dtype=object)"
      ]
     },
     "execution_count": 188,
     "metadata": {},
     "output_type": "execute_result"
    }
   ],
   "source": [
    "loans_14['home_ownership'].unique()"
   ]
  },
  {
   "cell_type": "code",
   "execution_count": 189,
   "metadata": {},
   "outputs": [
    {
     "data": {
      "text/plain": [
       "MORTGAGE    645496\n",
       "RENT        517808\n",
       "OWN         139844\n",
       "ANY         267   \n",
       "OTHER       144   \n",
       "NONE        48    \n",
       "Name: home_ownership, dtype: int64"
      ]
     },
     "execution_count": 189,
     "metadata": {},
     "output_type": "execute_result"
    }
   ],
   "source": [
    "loans_14['home_ownership'].value_counts()"
   ]
  },
  {
   "cell_type": "code",
   "execution_count": 190,
   "metadata": {},
   "outputs": [
    {
     "data": {
      "text/plain": [
       "{'grade': {'A': 7, 'B': 6, 'C': 5, 'D': 4, 'E': 3, 'F': 2, 'G': 1},\n",
       " 'home_ownership': {'OWN': 6,\n",
       "  'RENT': 5,\n",
       "  'NONE': 4,\n",
       "  'MORTGAGE': 3,\n",
       "  'ANY': 2,\n",
       "  'OTHER': 2}}"
      ]
     },
     "execution_count": 190,
     "metadata": {},
     "output_type": "execute_result"
    }
   ],
   "source": [
    "mapping_2 = {\n",
    "\"grade\":{ 'A':7,'B':6, 'C':5, 'D':4, 'E':3 ,'F':2, 'G':1 },\n",
    "\"home_ownership\":{'OWN':6, 'RENT':5, 'NONE':4, 'MORTGAGE':3, 'ANY':2, 'OTHER':2}\n",
    "}\n",
    "mapping_2"
   ]
  },
  {
   "cell_type": "code",
   "execution_count": 191,
   "metadata": {},
   "outputs": [
    {
     "data": {
      "text/html": [
       "<div>\n",
       "<style scoped>\n",
       "    .dataframe tbody tr th:only-of-type {\n",
       "        vertical-align: middle;\n",
       "    }\n",
       "\n",
       "    .dataframe tbody tr th {\n",
       "        vertical-align: top;\n",
       "    }\n",
       "\n",
       "    .dataframe thead th {\n",
       "        text-align: right;\n",
       "    }\n",
       "</style>\n",
       "<table border=\"1\" class=\"dataframe\">\n",
       "  <thead>\n",
       "    <tr style=\"text-align: right;\">\n",
       "      <th></th>\n",
       "      <th>grade</th>\n",
       "      <th>home_ownership</th>\n",
       "    </tr>\n",
       "  </thead>\n",
       "  <tbody>\n",
       "    <tr>\n",
       "      <th>0</th>\n",
       "      <td>4</td>\n",
       "      <td>3</td>\n",
       "    </tr>\n",
       "    <tr>\n",
       "      <th>1</th>\n",
       "      <td>5</td>\n",
       "      <td>3</td>\n",
       "    </tr>\n",
       "    <tr>\n",
       "      <th>2</th>\n",
       "      <td>7</td>\n",
       "      <td>3</td>\n",
       "    </tr>\n",
       "    <tr>\n",
       "      <th>3</th>\n",
       "      <td>6</td>\n",
       "      <td>5</td>\n",
       "    </tr>\n",
       "    <tr>\n",
       "      <th>4</th>\n",
       "      <td>3</td>\n",
       "      <td>3</td>\n",
       "    </tr>\n",
       "  </tbody>\n",
       "</table>\n",
       "</div>"
      ],
      "text/plain": [
       "   grade  home_ownership\n",
       "0  4      3             \n",
       "1  5      3             \n",
       "2  7      3             \n",
       "3  6      5             \n",
       "4  3      3             "
      ]
     },
     "execution_count": 191,
     "metadata": {},
     "output_type": "execute_result"
    }
   ],
   "source": [
    "loans_15 = loans_14.copy()\n",
    "loans_15 = loans_15.replace(mapping_2)\n",
    "loans_15[['grade', 'home_ownership']].head()"
   ]
  },
  {
   "cell_type": "code",
   "execution_count": 192,
   "metadata": {},
   "outputs": [
    {
     "name": "stdout",
     "output_type": "stream",
     "text": [
      "purpose : ['debt_consolidation' 'credit_card' 'other' 'house' 'car'\n",
      " 'home_improvement' 'moving' 'small_business' 'vacation' 'medical'\n",
      " 'major_purchase' 'renewable_energy' 'wedding' 'educational']\n",
      "initial_list_status : ['w' 'f']\n",
      "application_type : ['Joint App' 'Individual']\n",
      "disbursement_method : ['Cash' 'DirectPay']\n",
      "debt_settlement_flag : ['N' 'Y']\n"
     ]
    }
   ],
   "source": [
    "l15_objects = loans_15.select_dtypes(include=['object'])\n",
    "for i in l15_objects:\n",
    "    print(i, ':', l15_objects[i].unique()[:15])"
   ]
  },
  {
   "cell_type": "code",
   "execution_count": 193,
   "metadata": {},
   "outputs": [],
   "source": [
    "loans_16=loans_15.copy()\n",
    "final_cat_features = loans_16.select_dtypes(include=['object']).columns.to_list()"
   ]
  },
  {
   "cell_type": "code",
   "execution_count": 194,
   "metadata": {},
   "outputs": [],
   "source": [
    "dummy_df = pd.get_dummies(loans_16[final_cat_features])\n",
    "loans_16 = pd.concat([loans_16, dummy_df], axis=1)\n",
    "loans_16 = loans_16.drop(final_cat_features, axis=1)"
   ]
  },
  {
   "cell_type": "code",
   "execution_count": 195,
   "metadata": {},
   "outputs": [
    {
     "data": {
      "text/html": [
       "<div>\n",
       "<style scoped>\n",
       "    .dataframe tbody tr th:only-of-type {\n",
       "        vertical-align: middle;\n",
       "    }\n",
       "\n",
       "    .dataframe tbody tr th {\n",
       "        vertical-align: top;\n",
       "    }\n",
       "\n",
       "    .dataframe thead th {\n",
       "        text-align: right;\n",
       "    }\n",
       "</style>\n",
       "<table border=\"1\" class=\"dataframe\">\n",
       "  <thead>\n",
       "    <tr style=\"text-align: right;\">\n",
       "      <th></th>\n",
       "      <th>loan_amnt</th>\n",
       "      <th>term</th>\n",
       "      <th>installment</th>\n",
       "      <th>grade</th>\n",
       "      <th>emp_length</th>\n",
       "      <th>home_ownership</th>\n",
       "      <th>annual_inc</th>\n",
       "      <th>loan_status</th>\n",
       "      <th>addr_state</th>\n",
       "      <th>dti</th>\n",
       "      <th>...</th>\n",
       "      <th>purpose_vacation</th>\n",
       "      <th>purpose_wedding</th>\n",
       "      <th>initial_list_status_f</th>\n",
       "      <th>initial_list_status_w</th>\n",
       "      <th>application_type_Individual</th>\n",
       "      <th>application_type_Joint App</th>\n",
       "      <th>disbursement_method_Cash</th>\n",
       "      <th>disbursement_method_DirectPay</th>\n",
       "      <th>debt_settlement_flag_N</th>\n",
       "      <th>debt_settlement_flag_Y</th>\n",
       "    </tr>\n",
       "  </thead>\n",
       "  <tbody>\n",
       "    <tr>\n",
       "      <th>0</th>\n",
       "      <td>30000</td>\n",
       "      <td>36</td>\n",
       "      <td>1151.16</td>\n",
       "      <td>4</td>\n",
       "      <td>5</td>\n",
       "      <td>3</td>\n",
       "      <td>100000.0</td>\n",
       "      <td>1</td>\n",
       "      <td>0.1465</td>\n",
       "      <td>30.46</td>\n",
       "      <td>...</td>\n",
       "      <td>0</td>\n",
       "      <td>0</td>\n",
       "      <td>0</td>\n",
       "      <td>1</td>\n",
       "      <td>0</td>\n",
       "      <td>1</td>\n",
       "      <td>1</td>\n",
       "      <td>0</td>\n",
       "      <td>1</td>\n",
       "      <td>0</td>\n",
       "    </tr>\n",
       "    <tr>\n",
       "      <th>1</th>\n",
       "      <td>40000</td>\n",
       "      <td>60</td>\n",
       "      <td>975.71</td>\n",
       "      <td>5</td>\n",
       "      <td>1</td>\n",
       "      <td>3</td>\n",
       "      <td>45000.0</td>\n",
       "      <td>1</td>\n",
       "      <td>0.0326</td>\n",
       "      <td>50.53</td>\n",
       "      <td>...</td>\n",
       "      <td>0</td>\n",
       "      <td>0</td>\n",
       "      <td>0</td>\n",
       "      <td>1</td>\n",
       "      <td>0</td>\n",
       "      <td>1</td>\n",
       "      <td>1</td>\n",
       "      <td>0</td>\n",
       "      <td>1</td>\n",
       "      <td>0</td>\n",
       "    </tr>\n",
       "  </tbody>\n",
       "</table>\n",
       "<p>2 rows × 85 columns</p>\n",
       "</div>"
      ],
      "text/plain": [
       "   loan_amnt  term  installment  grade  emp_length  home_ownership  \\\n",
       "0  30000      36    1151.16      4      5           3                \n",
       "1  40000      60    975.71       5      1           3                \n",
       "\n",
       "   annual_inc  loan_status  addr_state    dti  ...  purpose_vacation  \\\n",
       "0  100000.0    1            0.1465      30.46  ...  0                  \n",
       "1  45000.0     1            0.0326      50.53  ...  0                  \n",
       "\n",
       "   purpose_wedding  initial_list_status_f  initial_list_status_w  \\\n",
       "0  0                0                      1                       \n",
       "1  0                0                      1                       \n",
       "\n",
       "   application_type_Individual  application_type_Joint App  \\\n",
       "0  0                            1                            \n",
       "1  0                            1                            \n",
       "\n",
       "   disbursement_method_Cash  disbursement_method_DirectPay  \\\n",
       "0  1                         0                               \n",
       "1  1                         0                               \n",
       "\n",
       "   debt_settlement_flag_N  debt_settlement_flag_Y  \n",
       "0  1                       0                       \n",
       "1  1                       0                       \n",
       "\n",
       "[2 rows x 85 columns]"
      ]
     },
     "execution_count": 195,
     "metadata": {},
     "output_type": "execute_result"
    }
   ],
   "source": [
    "loans_16.head(2)"
   ]
  },
  {
   "cell_type": "code",
   "execution_count": 196,
   "metadata": {},
   "outputs": [],
   "source": [
    "loans_16 = loans_16.astype('float64')"
   ]
  },
  {
   "cell_type": "code",
   "execution_count": 197,
   "metadata": {},
   "outputs": [
    {
     "name": "stdout",
     "output_type": "stream",
     "text": [
      "<class 'pandas.core.frame.DataFrame'>\n"
     ]
    }
   ],
   "source": [
    "print(type(loans_16))"
   ]
  },
  {
   "cell_type": "markdown",
   "metadata": {},
   "source": [
    "#### Final check: are features of a numerical type?"
   ]
  },
  {
   "cell_type": "code",
   "execution_count": 198,
   "metadata": {},
   "outputs": [
    {
     "name": "stdout",
     "output_type": "stream",
     "text": [
      "<class 'pandas.core.frame.DataFrame'>\n",
      "RangeIndex: 1303607 entries, 0 to 1303606\n",
      "Data columns (total 85 columns):\n",
      "loan_amnt                        1303607 non-null float64\n",
      "term                             1303607 non-null float64\n",
      "installment                      1303607 non-null float64\n",
      "grade                            1303607 non-null float64\n",
      "emp_length                       1303607 non-null float64\n",
      "home_ownership                   1303607 non-null float64\n",
      "annual_inc                       1303607 non-null float64\n",
      "loan_status                      1303607 non-null float64\n",
      "addr_state                       1303607 non-null float64\n",
      "dti                              1303607 non-null float64\n",
      "delinq_2yrs                      1303607 non-null float64\n",
      "inq_last_6mths                   1303607 non-null float64\n",
      "open_acc                         1303607 non-null float64\n",
      "pub_rec                          1303607 non-null float64\n",
      "revol_bal                        1303607 non-null float64\n",
      "revol_util                       1303607 non-null float64\n",
      "total_acc                        1303607 non-null float64\n",
      "collections_12_mths_ex_med       1303607 non-null float64\n",
      "acc_now_delinq                   1303607 non-null float64\n",
      "tot_coll_amt                     1303607 non-null float64\n",
      "tot_cur_bal                      1303607 non-null float64\n",
      "total_rev_hi_lim                 1303607 non-null float64\n",
      "acc_open_past_24mths             1303607 non-null float64\n",
      "avg_cur_bal                      1303607 non-null float64\n",
      "bc_open_to_buy                   1303607 non-null float64\n",
      "bc_util                          1303607 non-null float64\n",
      "chargeoff_within_12_mths         1303607 non-null float64\n",
      "delinq_amnt                      1303607 non-null float64\n",
      "mo_sin_old_il_acct               1303607 non-null float64\n",
      "mo_sin_old_rev_tl_op             1303607 non-null float64\n",
      "mort_acc                         1303607 non-null float64\n",
      "mths_since_recent_bc             1303607 non-null float64\n",
      "mths_since_recent_inq            1303607 non-null float64\n",
      "num_accts_ever_120_pd            1303607 non-null float64\n",
      "num_actv_bc_tl                   1303607 non-null float64\n",
      "num_actv_rev_tl                  1303607 non-null float64\n",
      "num_bc_sats                      1303607 non-null float64\n",
      "num_bc_tl                        1303607 non-null float64\n",
      "num_il_tl                        1303607 non-null float64\n",
      "num_op_rev_tl                    1303607 non-null float64\n",
      "num_rev_accts                    1303607 non-null float64\n",
      "num_rev_tl_bal_gt_0              1303607 non-null float64\n",
      "num_sats                         1303607 non-null float64\n",
      "num_tl_120dpd_2m                 1303607 non-null float64\n",
      "num_tl_30dpd                     1303607 non-null float64\n",
      "num_tl_90g_dpd_24m               1303607 non-null float64\n",
      "num_tl_op_past_12m               1303607 non-null float64\n",
      "pct_tl_nvr_dlq                   1303607 non-null float64\n",
      "percent_bc_gt_75                 1303607 non-null float64\n",
      "pub_rec_bankruptcies             1303607 non-null float64\n",
      "tax_liens                        1303607 non-null float64\n",
      "tot_hi_cred_lim                  1303607 non-null float64\n",
      "total_bal_ex_mort                1303607 non-null float64\n",
      "total_bc_limit                   1303607 non-null float64\n",
      "total_il_high_credit_limit       1303607 non-null float64\n",
      "ohe_1                            1303607 non-null float64\n",
      "ohe_2                            1303607 non-null float64\n",
      "early_month                      1303607 non-null float64\n",
      "early_year                       1303607 non-null float64\n",
      "issue_d_month                    1303607 non-null float64\n",
      "issue_d_year                     1303607 non-null float64\n",
      "last_credit_pull_d_month         1303607 non-null float64\n",
      "last_credit_pull_d_year          1303607 non-null float64\n",
      "purpose_car                      1303607 non-null float64\n",
      "purpose_credit_card              1303607 non-null float64\n",
      "purpose_debt_consolidation       1303607 non-null float64\n",
      "purpose_educational              1303607 non-null float64\n",
      "purpose_home_improvement         1303607 non-null float64\n",
      "purpose_house                    1303607 non-null float64\n",
      "purpose_major_purchase           1303607 non-null float64\n",
      "purpose_medical                  1303607 non-null float64\n",
      "purpose_moving                   1303607 non-null float64\n",
      "purpose_other                    1303607 non-null float64\n",
      "purpose_renewable_energy         1303607 non-null float64\n",
      "purpose_small_business           1303607 non-null float64\n",
      "purpose_vacation                 1303607 non-null float64\n",
      "purpose_wedding                  1303607 non-null float64\n",
      "initial_list_status_f            1303607 non-null float64\n",
      "initial_list_status_w            1303607 non-null float64\n",
      "application_type_Individual      1303607 non-null float64\n",
      "application_type_Joint App       1303607 non-null float64\n",
      "disbursement_method_Cash         1303607 non-null float64\n",
      "disbursement_method_DirectPay    1303607 non-null float64\n",
      "debt_settlement_flag_N           1303607 non-null float64\n",
      "debt_settlement_flag_Y           1303607 non-null float64\n",
      "dtypes: float64(85)\n",
      "memory usage: 845.4 MB\n"
     ]
    }
   ],
   "source": [
    "loans_16.info()"
   ]
  },
  {
   "cell_type": "markdown",
   "metadata": {},
   "source": [
    "Yes!"
   ]
  },
  {
   "cell_type": "markdown",
   "metadata": {},
   "source": [
    "### Multicollinearity\n",
    "<p>\n",
    "Identifying highly correlated features and delete redundant features\n",
    "from the data set.\n",
    "</p>\n"
   ]
  },
  {
   "cell_type": "code",
   "execution_count": 199,
   "metadata": {},
   "outputs": [
    {
     "name": "stdout",
     "output_type": "stream",
     "text": [
      "<class 'pandas.core.series.Series'>\n"
     ]
    }
   ],
   "source": [
    "# calculate correlations\n",
    "cor = loans_16.corr()\n",
    "# selecting below main lower triangle of an array to avoid \n",
    "# doubles\n",
    "cor.loc[:,:] = np.tril(cor, k=-1)\n",
    "cor = cor.stack()\n",
    "# highly correlated features are here defined as above 0.75 and\n",
    "# below -0.75\n",
    "cor_high = cor[(cor > 0.75) | (cor < -0.75)]\n",
    "print(type(cor_high))\n",
    "\n",
    "# turn multiindex into data frame\n",
    "cor_high_df = pd.DataFrame(cor_high)\n",
    "cor_high_df.reset_index(inplace=True)  \n"
   ]
  },
  {
   "cell_type": "code",
   "execution_count": 200,
   "metadata": {},
   "outputs": [
    {
     "name": "stdout",
     "output_type": "stream",
     "text": [
      "(24, 3)\n",
      "           level_0         level_1         0\n",
      "0  installment      loan_amnt       0.953352\n",
      "1  avg_cur_bal      tot_cur_bal     0.792647\n",
      "2  bc_util          revol_util      0.806745\n",
      "3  num_actv_rev_tl  num_actv_bc_tl  0.765595\n",
      "4  num_bc_sats      num_actv_bc_tl  0.787302\n"
     ]
    }
   ],
   "source": [
    "print(cor_high_df.shape)\n",
    "print(cor_high_df.head())"
   ]
  },
  {
   "cell_type": "code",
   "execution_count": 201,
   "metadata": {},
   "outputs": [
    {
     "name": "stdout",
     "output_type": "stream",
     "text": [
      "['installment', 'avg_cur_bal', 'bc_util', 'num_actv_rev_tl', 'num_bc_sats', 'num_op_rev_tl', 'num_op_rev_tl', 'num_rev_accts', 'num_rev_tl_bal_gt_0', 'num_rev_tl_bal_gt_0', 'num_rev_tl_bal_gt_0', 'num_sats', 'num_sats', 'num_tl_30dpd', 'percent_bc_gt_75', 'tot_hi_cred_lim', 'tot_hi_cred_lim', 'total_bc_limit', 'total_il_high_credit_limit', 'early_year', 'initial_list_status_w', 'application_type_Joint App', 'disbursement_method_DirectPay', 'debt_settlement_flag_Y']\n"
     ]
    }
   ],
   "source": [
    "# extract in each case one of the highly correlated features\n",
    "multicol_features = list(cor_high_df['level_0'])\n",
    "print(multicol_features)"
   ]
  },
  {
   "cell_type": "code",
   "execution_count": 202,
   "metadata": {},
   "outputs": [
    {
     "name": "stdout",
     "output_type": "stream",
     "text": [
      "(1303607, 85)\n"
     ]
    }
   ],
   "source": [
    "loans_17=loans_16.copy()\n",
    "print(loans_17.shape)"
   ]
  },
  {
   "cell_type": "code",
   "execution_count": 203,
   "metadata": {},
   "outputs": [
    {
     "name": "stdout",
     "output_type": "stream",
     "text": [
      "(1303607, 66)\n"
     ]
    }
   ],
   "source": [
    "# drop the redundant features\n",
    "loans_17 = loans_17.drop(multicol_features, axis=1)\n",
    "print(loans_17.shape)"
   ]
  },
  {
   "cell_type": "code",
   "execution_count": 204,
   "metadata": {},
   "outputs": [],
   "source": [
    "loans_17.to_csv(\"loans_j2_cleaned.csv\",index=False)"
   ]
  },
  {
   "cell_type": "markdown",
   "metadata": {},
   "source": [
    "### Data preprocessing: scaling or not?\n",
    "\n",
    "<p>\n",
    "In general machine learning algorithms perfom best when the\n",
    "independent variables or features are on a similar scale.\n",
    "An example is the support vector machine algorithm, which\n",
    "is extraordinary sensitive to data on different scales \n",
    "Sklearn offers different methods to set the numerical feature\n",
    "values on such a scale implementing thereby relatively simple\n",
    "formulas. \n",
    "</p>\n",
    "<p>\n",
    "For the <a href=\"https://scikit-learn.org/stable/modules/generated/sklearn.preprocessing.StandardScaler.html\">standard score</a>\n",
    "the formula is for example:<br> \n",
    "x - u / s<br> \n",
    "where x is the value, u is the mean and s the standard deviation.\n",
    "</p> \n",
    "\n",
    "<p>The question to be answered is, if the feature numbers are on different scales with large deviations?</p> \n",
    "\n"
   ]
  },
  {
   "cell_type": "code",
   "execution_count": 205,
   "metadata": {},
   "outputs": [
    {
     "name": "stdout",
     "output_type": "stream",
     "text": [
      "[1. 0.]\n",
      "1.0    1041952\n",
      "0.0    261655 \n",
      "Name: loan_status, dtype: int64\n",
      "<class 'pandas.core.series.Series'>\n"
     ]
    }
   ],
   "source": [
    "# investigate the target variable modified above\n",
    "print(loans_17.loan_status.unique())\n",
    "print(loans_17.loan_status.value_counts())\n",
    "status_vc_1 = loans_17.loan_status.value_counts()\n",
    "print(type(status_vc_1))"
   ]
  },
  {
   "cell_type": "code",
   "execution_count": 206,
   "metadata": {},
   "outputs": [],
   "source": [
    "def spread(df):\n",
    "    spread = df.max() - df.min()\n",
    "    return spread"
   ]
  },
  {
   "cell_type": "code",
   "execution_count": 207,
   "metadata": {},
   "outputs": [
    {
     "name": "stdout",
     "output_type": "stream",
     "text": [
      "<class 'pandas.core.series.Series'>\n",
      "66\n",
      "addr_state                0.1465\n",
      "debt_settlement_flag_N    1.0000\n",
      "ohe_2                     1.0000\n",
      "ohe_1                     1.0000\n",
      "purpose_car               1.0000\n",
      "dtype: float64\n",
      "total_bal_ex_mort    3408095.0\n",
      "tot_cur_bal          8000078.0\n",
      "tot_coll_amt         9152545.0\n",
      "total_rev_hi_lim     9999999.0\n",
      "dtype: float64\n"
     ]
    }
   ],
   "source": [
    "spread_1 =  spread(loans_17)   \n",
    "\n",
    "print(type(spread_1))\n",
    "print(len(spread_1))\n",
    "print(spread_1.sort_values()[:5])\n",
    "print(spread_1.sort_values()[-5:-1])"
   ]
  },
  {
   "cell_type": "code",
   "execution_count": 208,
   "metadata": {},
   "outputs": [
    {
     "data": {
      "image/png": "[encoded data removed]",
      "text/plain": [
       "<Figure size 720x288 with 1 Axes>"
      ]
     },
     "metadata": {
      "needs_background": "light"
     },
     "output_type": "display_data"
    }
   ],
   "source": [
    "spread_1.sort_values(ascending=False). \\\n",
    "plot(kind='bar', \n",
    "     color=['blue', 'green', 'red', 'orange', 'pink'],\n",
    "     edgecolor=\"black\", linewidth=2, figsize=(10,4),\n",
    "     title=\"Spread of the feature variables between min and max.\")\n",
    "plt.show()"
   ]
  },
  {
   "cell_type": "markdown",
   "metadata": {},
   "source": [
    "There are large differences between some feature variables. \n",
    "Therefore scaling is a necessary preprocessing step to make\n",
    "the ML algos work. The problem then is "
   ]
  },
  {
   "cell_type": "code",
   "execution_count": 209,
   "metadata": {},
   "outputs": [
    {
     "name": "stdout",
     "output_type": "stream",
     "text": [
      "(1303607, 65)\n",
      "(1303607,)\n"
     ]
    }
   ],
   "source": [
    "# separate target variable from features\n",
    "X_1=loans_17.drop('loan_status', axis=1)\n",
    "print(X_1.shape)\n",
    "y_1=loans_17.loc[:, 'loan_status']\n",
    "print(y_1.shape)"
   ]
  },
  {
   "cell_type": "markdown",
   "metadata": {},
   "source": [
    "#### Scaling on a simple train-test-split"
   ]
  },
  {
   "cell_type": "code",
   "execution_count": 210,
   "metadata": {},
   "outputs": [],
   "source": [
    "# doing a simple train-test-split creating a test set of 30 percent\n",
    "# of the whole data set.\n",
    "\n",
    "X_1_train, X_1_test, y_1_train, y_1_test = \\\n",
    "train_test_split(X_1, y_1, random_state=42, test_size=0.3)"
   ]
  },
  {
   "cell_type": "code",
   "execution_count": 211,
   "metadata": {},
   "outputs": [],
   "source": [
    "# doing a standardization\n",
    "# Standardize features by removing the mean and scaling to unit variance\n",
    "# by initiating a StandardScaler\n",
    "\n",
    "\n",
    "X_2_train = X_1_train.copy()\n",
    "X_2_test = X_1_test.copy()\n",
    "\n",
    "scaler_1 = StandardScaler()\n",
    "# The data is fitted to the training data.\n",
    "scaler_1.fit(X_1_train)\n",
    "\n",
    "# Creating data frames instead numpy arrays by assigning the\n",
    "# transformed values back to the data frame\n",
    "# saving thereby the column names\n",
    "X_2_train[list(X_1_train.columns)] = scaler_1.fit_transform(X_1_train)\n",
    "X_2_test[list(X_2_test.columns)] = scaler_1.fit_transform (X_1_test)\n"
   ]
  },
  {
   "cell_type": "code",
   "execution_count": 212,
   "metadata": {},
   "outputs": [
    {
     "name": "stdout",
     "output_type": "stream",
     "text": [
      "<class 'pandas.core.frame.DataFrame'>\n",
      "(912524, 65)\n"
     ]
    }
   ],
   "source": [
    "print(type(X_2_train))\n",
    "print(X_2_train.shape)"
   ]
  },
  {
   "cell_type": "code",
   "execution_count": 213,
   "metadata": {},
   "outputs": [
    {
     "name": "stdout",
     "output_type": "stream",
     "text": [
      "initial_list_status_f         2.023666\n",
      "purpose_debt_consolidation    2.026725\n",
      "ohe_2                         2.054255\n",
      "ohe_1                         2.180995\n",
      "term                          2.336386\n",
      "dtype: float64\n",
      "annual_inc          158.589291\n",
      "tax_liens           211.008910\n",
      "total_rev_hi_lim    265.416430\n",
      "delinq_amnt         302.776164\n",
      "dtype: float64\n"
     ]
    },
    {
     "data": {
      "image/png": "[encoded data removed]",
      "text/plain": [
       "<Figure size 720x288 with 1 Axes>"
      ]
     },
     "metadata": {
      "needs_background": "light"
     },
     "output_type": "display_data"
    }
   ],
   "source": [
    "# calculating the ranges of the scaled feature values\n",
    "spread_2 =  spread(X_2_train)  \n",
    "print(spread_2.sort_values()[:5])\n",
    "print(spread_2.sort_values()[-5:-1])\n",
    "\n",
    "# plot the ranges of feature values\n",
    "spread_2.sort_values(ascending=False).\\\n",
    "plot(kind='bar', \n",
    "     color=['blue', 'green', 'red', 'orange', 'pink'],\n",
    "     edgecolor=\"black\", linewidth=2, figsize=(10,4),\n",
    "     title=\"Spread of the train feature variables between min and max scaled.\")\n",
    "plt.show()"
   ]
  },
  {
   "cell_type": "code",
   "execution_count": 214,
   "metadata": {},
   "outputs": [
    {
     "name": "stdout",
     "output_type": "stream",
     "text": [
      "<class 'pandas.core.frame.DataFrame'>\n",
      "(391083, 65)\n",
      "initial_list_status_f         2.023695\n",
      "purpose_debt_consolidation    2.027222\n",
      "ohe_2                         2.052415\n",
      "ohe_1                         2.178999\n",
      "term                          2.336459\n",
      "dtype: float64\n",
      "tax_liens           156.775177\n",
      "acc_now_delinq      177.592953\n",
      "delinq_amnt         232.023188\n",
      "total_rev_hi_lim    248.672250\n",
      "dtype: float64\n"
     ]
    },
    {
     "data": {
      "image/png": "[encoded data removed]",
      "text/plain": [
       "<Figure size 720x288 with 1 Axes>"
      ]
     },
     "metadata": {
      "needs_background": "light"
     },
     "output_type": "display_data"
    }
   ],
   "source": [
    "print(type(X_2_test))\n",
    "print(X_2_test.shape)\n",
    "\n",
    "spread_3 =  spread(X_2_test)  \n",
    "print(spread_3.sort_values()[:5])\n",
    "print(spread_3.sort_values()[-5:-1])\n",
    "\n",
    "spread_3.sort_values(ascending=False).\\\n",
    "plot(kind='bar', \n",
    "     color=['blue', 'green', 'red', 'orange', 'pink'],\n",
    "     edgecolor=\"black\", linewidth=2, figsize=(10,4),\n",
    "     title=\"Spread of the test feature variables between min and max scaled.\")\n",
    "plt.show()"
   ]
  },
  {
   "cell_type": "markdown",
   "metadata": {},
   "source": [
    "Scaling reduced the range between min and max on each features drastically\n",
    "and made the range of the data set more similiar, while the differences\n",
    "are maintained."
   ]
  },
  {
   "cell_type": "markdown",
   "metadata": {},
   "source": [
    "#### Model 1: Logistic Regression (aka logit, MaxEnt) classifier.\n",
    "\n",
    "<p>According to doc:<br>\n",
    "This class implements regularized logistic regression using the ‘liblinear’ library, \n",
    "‘newton-cg’, ‘sag’, ‘saga’ and ‘lbfgs’ solvers. \n",
    "Note that regularization is applied by default. \n",
    "</p>\n",
    "\n"
   ]
  },
  {
   "cell_type": "code",
   "execution_count": 215,
   "metadata": {},
   "outputs": [
    {
     "data": {
      "text/plain": [
       "LogisticRegression(C=1.0, class_weight='balanced', dual=False,\n",
       "          fit_intercept=True, intercept_scaling=1, max_iter=2000,\n",
       "          multi_class='multinomial', n_jobs=None, penalty='l2',\n",
       "          random_state=42, solver='lbfgs', tol=0.0001, verbose=0,\n",
       "          warm_start=False)"
      ]
     },
     "execution_count": 215,
     "metadata": {},
     "output_type": "execute_result"
    }
   ],
   "source": [
    "clf_2_log = \\\n",
    "LogisticRegression(solver='lbfgs', \n",
    "                   multi_class='multinomial',\n",
    "                   class_weight='balanced',\n",
    "                   random_state=42,\n",
    "                   max_iter=2000)\n",
    "clf_2_log.fit(X_2_train, y_1_train)"
   ]
  },
  {
   "cell_type": "code",
   "execution_count": 216,
   "metadata": {},
   "outputs": [],
   "source": [
    "predictions_2_log = clf_2_log.predict(X_2_test)"
   ]
  },
  {
   "cell_type": "code",
   "execution_count": 217,
   "metadata": {},
   "outputs": [
    {
     "name": "stdout",
     "output_type": "stream",
     "text": [
      "Accuracy: 0.7227\n"
     ]
    }
   ],
   "source": [
    "acc_1_log = accuracy_score(y_1_test, predictions_2_log)\n",
    "print(\"Accuracy: %s\" % (round(acc_1_log,4)))"
   ]
  },
  {
   "cell_type": "code",
   "execution_count": 218,
   "metadata": {},
   "outputs": [
    {
     "name": "stdout",
     "output_type": "stream",
     "text": [
      "[0.]\n",
      "[0.]\n"
     ]
    }
   ],
   "source": [
    "# some predictions made of a single observation of features\n",
    "print(clf_2_log.predict(X_2_test.iloc[1,:].values.reshape(1, -1)))\n",
    "print(clf_2_log.predict(X_2_test.iloc[1000,:].values.reshape(1, -1)))\n",
    "# the first row leads to a prediction of default\n",
    "# the 1000th row leads to a prediction of default"
   ]
  },
  {
   "cell_type": "markdown",
   "metadata": {},
   "source": [
    "#### Model 2: RandomForestClassifier\n",
    "\n",
    "<p>According to doc:<br>\n",
    "A random forest is a meta estimator that fits a number of \n",
    "decision tree classifiers on various sub-samples of the dataset \n",
    "and uses averaging to improve the \n",
    "predictive accuracy and control over-fitting. \n",
    "</p>\n"
   ]
  },
  {
   "cell_type": "code",
   "execution_count": 219,
   "metadata": {},
   "outputs": [
    {
     "name": "stdout",
     "output_type": "stream",
     "text": [
      "[1.18100659e-02 1.11100330e-01 2.72950277e-01 1.29429526e-03\n",
      " 6.60534072e-03 5.92842039e-03 5.96343693e-10 2.51705958e-02\n",
      " 7.39817326e-05 4.92334076e-03]\n",
      "Accuracy: 0.706\n"
     ]
    }
   ],
   "source": [
    "\n",
    "clf_4_rf = \\\n",
    "RandomForestClassifier(n_estimators=100, max_depth=4, random_state=42,\n",
    "                       class_weight='balanced')\n",
    "clf_4_rf.fit(X_2_train, y_1_train) \n",
    "\n",
    "print(clf_4_rf.feature_importances_[:10])\n",
    "\n",
    "predictions_4_rf = clf_4_rf.predict(X_2_test)\n",
    "\n",
    "acc_2_rf = accuracy_score(y_1_test, predictions_4_rf)\n",
    "print(\"Accuracy: %s\" % (round(acc_2_rf,4)))\n"
   ]
  },
  {
   "cell_type": "code",
   "execution_count": 220,
   "metadata": {},
   "outputs": [
    {
     "name": "stdout",
     "output_type": "stream",
     "text": [
      "[0.]\n",
      "[1.]\n"
     ]
    }
   ],
   "source": [
    "# some predictions made of a single observation of features\n",
    "print(clf_4_rf.predict(X_2_test.iloc[1,:].values.reshape(1, -1)))\n",
    "print(clf_4_rf.predict(X_2_test.iloc[1000,:].values.reshape(1, -1)))\n",
    "# the first row leads to a prediction of not default\n",
    "# the 1000th row leads to a prediction of not default"
   ]
  },
  {
   "cell_type": "markdown",
   "metadata": {},
   "source": [
    "#### Model 3: Multi-layer Perceptron\n",
    "\n",
    "<p>According to doc:<br>\n",
    "Multi-layer Perceptron (MLP) is a supervised learning \n",
    "algorithm that learns a function by training on a dataset. \n",
    "Given a set of features and a target, \n",
    "it can learn a non-linear function approximator for \n",
    "either classification or regression. \n",
    "</p>"
   ]
  },
  {
   "cell_type": "code",
   "execution_count": 221,
   "metadata": {},
   "outputs": [
    {
     "name": "stdout",
     "output_type": "stream",
     "text": [
      "MLPClassifier(activation='relu', alpha=1e-05, batch_size='auto', beta_1=0.9,\n",
      "       beta_2=0.999, early_stopping=False, epsilon=1e-08,\n",
      "       hidden_layer_sizes=(5, 2), learning_rate='constant',\n",
      "       learning_rate_init=0.001, max_iter=200, momentum=0.9,\n",
      "       n_iter_no_change=10, nesterovs_momentum=True, power_t=0.5,\n",
      "       random_state=1, shuffle=True, solver='lbfgs', tol=0.0001,\n",
      "       validation_fraction=0.1, verbose=False, warm_start=False)\n",
      "Accuracy: 0.8384\n"
     ]
    }
   ],
   "source": [
    "clf_5_mlp = MLPClassifier(solver='lbfgs', alpha=1e-5,\n",
    "                    hidden_layer_sizes=(5, 2), random_state=1)\n",
    "\n",
    "clf_5_mlp.fit(X_2_train, y_1_train)  \n",
    "print(clf_5_mlp)\n",
    "\n",
    "predictions_5_mlp = clf_5_mlp.predict(X_2_test)  \n",
    "\n",
    "acc_3_mlp = accuracy_score(y_1_test, predictions_5_mlp)\n",
    "print(\"Accuracy: %s\" % (round(acc_3_mlp,4)))"
   ]
  },
  {
   "cell_type": "code",
   "execution_count": 222,
   "metadata": {},
   "outputs": [
    {
     "name": "stdout",
     "output_type": "stream",
     "text": [
      "(912524, 65)\n"
     ]
    }
   ],
   "source": [
    "print(X_2_train.shape)"
   ]
  },
  {
   "cell_type": "code",
   "execution_count": 223,
   "metadata": {},
   "outputs": [
    {
     "name": "stdout",
     "output_type": "stream",
     "text": [
      "[1.]\n",
      "[1.]\n"
     ]
    }
   ],
   "source": [
    "# some predictions made of a single observation of features\n",
    "print(clf_5_mlp.predict(X_2_test.iloc[1,:].values.reshape(1, -1)))\n",
    "print(clf_5_mlp.predict(X_2_test.iloc[1000,:].values.reshape(1, -1)))\n",
    "# the first row leads to a prediction of not default\n",
    "# the 1000th row leads to a prediction of not default"
   ]
  },
  {
   "cell_type": "markdown",
   "metadata": {},
   "source": [
    "#### Principal component analysis (PCA)\n",
    "<p>\n",
    "Some algorithms are sensitive to the size of the data set as the\n",
    "calculations can place enormous burden on the memory holding the\n",
    "caluculation steps. Support Vector Machine- or the \n",
    "k-nearest neighbors algorithm are examples for this.\n",
    "Principal component analysis (PCA) offers a solution by\n",
    "with linear dimensionality reduction using Singular Value Decomposition. \n",
    "</p> "
   ]
  },
  {
   "cell_type": "code",
   "execution_count": 224,
   "metadata": {},
   "outputs": [
    {
     "data": {
      "text/plain": [
       "array([[ 2.96932122, -1.88988984],\n",
       "       [ 0.16835165,  0.16680292],\n",
       "       [-1.30641896, -1.04601142],\n",
       "       ...,\n",
       "       [-0.76240468,  0.36643672],\n",
       "       [ 1.5398503 ,  1.88950554],\n",
       "       [-1.82359791,  0.24196294]])"
      ]
     },
     "execution_count": 224,
     "metadata": {},
     "output_type": "execute_result"
    }
   ],
   "source": [
    "pca = \\\n",
    "pca = PCA(n_components=2)\n",
    "principalComponents = pca.fit_transform(X_2_train)\n",
    "principalComponents"
   ]
  },
  {
   "cell_type": "code",
   "execution_count": 225,
   "metadata": {},
   "outputs": [],
   "source": [
    "principalDf = pd.DataFrame(data = principalComponents)"
   ]
  },
  {
   "cell_type": "code",
   "execution_count": 226,
   "metadata": {},
   "outputs": [
    {
     "data": {
      "text/html": [
       "<div>\n",
       "<style scoped>\n",
       "    .dataframe tbody tr th:only-of-type {\n",
       "        vertical-align: middle;\n",
       "    }\n",
       "\n",
       "    .dataframe tbody tr th {\n",
       "        vertical-align: top;\n",
       "    }\n",
       "\n",
       "    .dataframe thead th {\n",
       "        text-align: right;\n",
       "    }\n",
       "</style>\n",
       "<table border=\"1\" class=\"dataframe\">\n",
       "  <thead>\n",
       "    <tr style=\"text-align: right;\">\n",
       "      <th></th>\n",
       "      <th>principal component 1</th>\n",
       "      <th>principal component 2</th>\n",
       "    </tr>\n",
       "  </thead>\n",
       "  <tbody>\n",
       "    <tr>\n",
       "      <th>0</th>\n",
       "      <td>2.969321</td>\n",
       "      <td>-1.889890</td>\n",
       "    </tr>\n",
       "    <tr>\n",
       "      <th>1</th>\n",
       "      <td>0.168352</td>\n",
       "      <td>0.166803</td>\n",
       "    </tr>\n",
       "    <tr>\n",
       "      <th>2</th>\n",
       "      <td>-1.306419</td>\n",
       "      <td>-1.046011</td>\n",
       "    </tr>\n",
       "    <tr>\n",
       "      <th>3</th>\n",
       "      <td>1.864114</td>\n",
       "      <td>-2.745353</td>\n",
       "    </tr>\n",
       "    <tr>\n",
       "      <th>4</th>\n",
       "      <td>0.159492</td>\n",
       "      <td>1.010160</td>\n",
       "    </tr>\n",
       "  </tbody>\n",
       "</table>\n",
       "</div>"
      ],
      "text/plain": [
       "   principal component 1  principal component 2\n",
       "0  2.969321              -1.889890             \n",
       "1  0.168352               0.166803             \n",
       "2 -1.306419              -1.046011             \n",
       "3  1.864114              -2.745353             \n",
       "4  0.159492               1.010160             "
      ]
     },
     "execution_count": 226,
     "metadata": {},
     "output_type": "execute_result"
    }
   ],
   "source": [
    "principalDf = \\\n",
    "pd.DataFrame(data = principalComponents , \n",
    "columns = ['principal component 1', 'principal component 2'])\n",
    "principalDf.head()                         "
   ]
  },
  {
   "cell_type": "code",
   "execution_count": 227,
   "metadata": {},
   "outputs": [
    {
     "data": {
      "text/plain": [
       "array([0.0767481 , 0.04451514])"
      ]
     },
     "execution_count": 227,
     "metadata": {},
     "output_type": "execute_result"
    }
   ],
   "source": [
    "# Reducing the 64 features to 2 components results not\n",
    "# in good values for the explained variance\n",
    "pca.explained_variance_ratio_"
   ]
  },
  {
   "cell_type": "code",
   "execution_count": 228,
   "metadata": {},
   "outputs": [],
   "source": [
    "train_pca = pca.transform(X_2_train)\n",
    "test_pca = pca.transform(X_2_test)"
   ]
  },
  {
   "cell_type": "markdown",
   "metadata": {},
   "source": [
    "#### Model 4: KNeighborsClassifier\n",
    "<p>According to doc:<br>\n",
    "Neighbors-based classification is a type of instance-based \n",
    "learning or non-generalizing learning: it does not attempt \n",
    "to construct a general internal model, but simply \n",
    "stores instances of the training data. \n",
    "</p> \n"
   ]
  },
  {
   "cell_type": "code",
   "execution_count": 229,
   "metadata": {},
   "outputs": [
    {
     "data": {
      "text/plain": [
       "KNeighborsClassifier(algorithm='auto', leaf_size=30, metric='minkowski',\n",
       "           metric_params=None, n_jobs=None, n_neighbors=3, p=2,\n",
       "           weights='uniform')"
      ]
     },
     "execution_count": 229,
     "metadata": {},
     "output_type": "execute_result"
    }
   ],
   "source": [
    "neigh = KNeighborsClassifier(n_neighbors=3)\n",
    "neigh.fit(train_pca, y_1_train)"
   ]
  },
  {
   "cell_type": "code",
   "execution_count": 230,
   "metadata": {},
   "outputs": [],
   "source": [
    "predictions_5_knn = neigh.predict(test_pca)"
   ]
  },
  {
   "cell_type": "code",
   "execution_count": 231,
   "metadata": {},
   "outputs": [
    {
     "name": "stdout",
     "output_type": "stream",
     "text": [
      "Accuracy: 0.7397\n"
     ]
    }
   ],
   "source": [
    "acc_3_knn = accuracy_score(y_1_test, predictions_5_knn)\n",
    "print(\"Accuracy: %s\" % (round(acc_3_knn,4)))"
   ]
  },
  {
   "cell_type": "code",
   "execution_count": 232,
   "metadata": {},
   "outputs": [
    {
     "name": "stdout",
     "output_type": "stream",
     "text": [
      "[1.]\n",
      "[1.]\n"
     ]
    }
   ],
   "source": [
    "# some predictions made of a single observation of features\n",
    "print(neigh.predict(test_pca[1,:].reshape(1, -1) ))\n",
    "print(neigh.predict(test_pca[1000,:].reshape(1, -1) ))\n",
    "# the first row leads to a prediction of not default\n",
    "# the 1000th row leads to a prediction of not default"
   ]
  },
  {
   "cell_type": "markdown",
   "metadata": {},
   "source": [
    "#### Model 5: Naive Bayes Classification with GaussianNB\n",
    "\n",
    "<p>According to doc:<br>\n",
    "Naive Bayes methods are a set of supervised learning algorithms based on applying Bayes’ theorem with the “naive” assumption of conditional independence between every pair of features given the value of the class variable.\n",
    "</p> \n",
    "\n",
    "\n"
   ]
  },
  {
   "cell_type": "code",
   "execution_count": 233,
   "metadata": {},
   "outputs": [
    {
     "data": {
      "text/plain": [
       "GaussianNB(priors=None, var_smoothing=1e-09)"
      ]
     },
     "execution_count": 233,
     "metadata": {},
     "output_type": "execute_result"
    }
   ],
   "source": [
    "\n",
    "clf_naive = GaussianNB()\n",
    "clf_naive.fit(X_2_train, y_1_train) \n"
   ]
  },
  {
   "cell_type": "code",
   "execution_count": 234,
   "metadata": {},
   "outputs": [
    {
     "name": "stdout",
     "output_type": "stream",
     "text": [
      "Accuracy: 0.79\n"
     ]
    }
   ],
   "source": [
    "predictions_6_naive = clf_naive.predict(X_2_test)  \n",
    "\n",
    "acc_6_naive = accuracy_score(y_1_test, predictions_6_naive)\n",
    "print(\"Accuracy: %s\" % (round(acc_6_naive,4)))"
   ]
  },
  {
   "cell_type": "code",
   "execution_count": 235,
   "metadata": {},
   "outputs": [
    {
     "name": "stdout",
     "output_type": "stream",
     "text": [
      "[1.]\n",
      "[0.]\n"
     ]
    }
   ],
   "source": [
    "# some predictions made of a single observation of features\n",
    "print(clf_naive.predict(X_2_test.iloc[1,:].values.reshape(1, -1)))\n",
    "print(clf_naive.predict(X_2_test.iloc[1000,:].values.reshape(1, -1)))\n",
    "# the first row leads to a prediction of default\n",
    "# the 1000th row leads to a prediction of not default"
   ]
  },
  {
   "cell_type": "code",
   "execution_count": 236,
   "metadata": {},
   "outputs": [
    {
     "data": {
      "text/html": [
       "<div>\n",
       "<style scoped>\n",
       "    .dataframe tbody tr th:only-of-type {\n",
       "        vertical-align: middle;\n",
       "    }\n",
       "\n",
       "    .dataframe tbody tr th {\n",
       "        vertical-align: top;\n",
       "    }\n",
       "\n",
       "    .dataframe thead th {\n",
       "        text-align: right;\n",
       "    }\n",
       "</style>\n",
       "<table border=\"1\" class=\"dataframe\">\n",
       "  <thead>\n",
       "    <tr style=\"text-align: right;\">\n",
       "      <th></th>\n",
       "      <th>Model</th>\n",
       "      <th>Accuracy</th>\n",
       "    </tr>\n",
       "  </thead>\n",
       "  <tbody>\n",
       "    <tr>\n",
       "      <th>2</th>\n",
       "      <td>Multi Layer Perceptron</td>\n",
       "      <td>0.8384</td>\n",
       "    </tr>\n",
       "    <tr>\n",
       "      <th>3</th>\n",
       "      <td>Naive Bayes</td>\n",
       "      <td>0.7900</td>\n",
       "    </tr>\n",
       "    <tr>\n",
       "      <th>4</th>\n",
       "      <td>knn</td>\n",
       "      <td>0.7397</td>\n",
       "    </tr>\n",
       "    <tr>\n",
       "      <th>0</th>\n",
       "      <td>Logistic</td>\n",
       "      <td>0.7227</td>\n",
       "    </tr>\n",
       "    <tr>\n",
       "      <th>1</th>\n",
       "      <td>Random Forest</td>\n",
       "      <td>0.7060</td>\n",
       "    </tr>\n",
       "  </tbody>\n",
       "</table>\n",
       "</div>"
      ],
      "text/plain": [
       "                    Model  Accuracy\n",
       "2  Multi Layer Perceptron  0.8384  \n",
       "3  Naive Bayes             0.7900  \n",
       "4  knn                     0.7397  \n",
       "0  Logistic                0.7227  \n",
       "1  Random Forest           0.7060  "
      ]
     },
     "execution_count": 236,
     "metadata": {},
     "output_type": "execute_result"
    }
   ],
   "source": [
    "results_1 = \\\n",
    "{'Model':['Logistic', 'Random Forest','Multi Layer Perceptron','Naive Bayes',\n",
    "           'knn'], \n",
    " 'Accuracy': [round(acc_1_log,4), round(acc_2_rf,4), round(acc_3_mlp,4), \n",
    "              round(acc_6_naive,4), round(acc_3_knn,4)]}\n",
    "\n",
    "results_1_df = pd.DataFrame(results_1)\n",
    "results_1_df.sort_values(by='Accuracy', ascending=False)"
   ]
  },
  {
   "cell_type": "markdown",
   "metadata": {},
   "source": [
    "The base multi layer perceptron model produces the highest accuracy, \n",
    "while all model generate a good accuracy. "
   ]
  },
  {
   "cell_type": "markdown",
   "metadata": {},
   "source": [
    "### Cross-validation\n",
    "<p>\n",
    "Cross validation delivers the accuracy while adjusting for\n",
    "overfitting better than a simple train-test-split can do it.\n",
    "Cross validation is more reliable than a simple split.\n",
    "Sometimes the mean accuracy will be lower than with simple split\n",
    "but then again it is more \"true\".\n",
    "</p> \n"
   ]
  },
  {
   "cell_type": "markdown",
   "metadata": {},
   "source": [
    "#### Model 6: Logistic Regression classifier embedded in cross-validation\n",
    "\n",
    "<p>\n",
    "Due to personal research interest two cross-validation models\n",
    "are applied here: one using scaling before kfold-cv and calculating\n",
    "the accuracy from the predictions and one using a pipeline scaling \n",
    "within each fold.\n",
    "</p> \n",
    "<p>\n",
    "Is this going to lead to a great difference in the results?\n",
    "</p> "
   ]
  },
  {
   "cell_type": "code",
   "execution_count": 237,
   "metadata": {},
   "outputs": [],
   "source": [
    "# This model scales over the complete predictors before splitting\n",
    "# This is normally not recommended as this can leak information\n",
    "# of the distribution from the training to the test data\n",
    "\n",
    "X_1_cv = X_1.copy()\n",
    "y_1_cv = y_1.copy()\n",
    "\n",
    "scaler_2 = StandardScaler()\n",
    "# The data is fitted to the training data.\n",
    "scaler_2.fit(X_1_cv)\n",
    "\n",
    "# Creating data frames instead numpy arrays by assigning the\n",
    "# transformed values back to the data frame\n",
    "# saving thereby the column names\n",
    "X_1_cv[list(X_1_cv.columns)] = scaler_2.fit_transform(X_1_cv)\n",
    "\n",
    "# instantiate model\n",
    "clf_3_log_cv = \\\n",
    "LogisticRegression(solver='lbfgs', \n",
    "                   multi_class='multinomial',\n",
    "                   class_weight='balanced',\n",
    "                   random_state=42,\n",
    "                   max_iter=2000)"
   ]
  },
  {
   "cell_type": "code",
   "execution_count": 238,
   "metadata": {},
   "outputs": [
    {
     "name": "stdout",
     "output_type": "stream",
     "text": [
      "0.7197\n"
     ]
    }
   ],
   "source": [
    "pred_log_cv = cross_val_predict(clf_3_log_cv, X_1_cv, y_1_cv, cv=3)\n",
    "acc_1_log_cv = round(accuracy_score(y_1_cv, pred_log_cv), 4)\n",
    "print(acc_1_log_cv)"
   ]
  },
  {
   "cell_type": "code",
   "execution_count": 239,
   "metadata": {},
   "outputs": [],
   "source": [
    "scaler_3 = StandardScaler()"
   ]
  },
  {
   "cell_type": "code",
   "execution_count": 240,
   "metadata": {},
   "outputs": [],
   "source": [
    "# This model scales the data within every fold consisting\n",
    "# of training and test data with a pipeline.\n",
    "# The complex cross validation operation is conducted by\n",
    "# the cross_val_score function.\n",
    "# Train and test data are seperated and none information is leaked.\n",
    "\n",
    "\n",
    "# create a pipeline: scaling then apply model\n",
    "pipeline = Pipeline([('transformer', scaler_3 ), \n",
    "                     ('estimator', clf_3_log_cv )])\n",
    "\n",
    "# determine number of folds\n",
    "cv_kf = KFold(n_splits=4)\n",
    "\n",
    "# apply cross validation to the data thereby scaling the \n",
    "# data for each fold and get as result the accuracies\n",
    "# for each fold\n",
    "\n",
    "cv_scores_log = cross_val_score(pipeline, \n",
    "                                X_1, y_1, cv = cv_kf, \n",
    "                                scoring='accuracy')\n"
   ]
  },
  {
   "cell_type": "code",
   "execution_count": 241,
   "metadata": {},
   "outputs": [],
   "source": [
    "cv_scores_log_mean = round(cv_scores_log.mean(),4)\n",
    "cv_scores_log_std = round(cv_scores_log.std(),4)"
   ]
  },
  {
   "cell_type": "code",
   "execution_count": 242,
   "metadata": {},
   "outputs": [
    {
     "name": "stdout",
     "output_type": "stream",
     "text": [
      "accuracies for each fold: [0.69009089 0.74216175 0.71428221 0.72262129]\n",
      "mean accuracy: 0.7173\n",
      "standard deviation accuracy: 0.0187\n",
      "accuracy: 0.7173 +/- confidence of 0.0374\n"
     ]
    }
   ],
   "source": [
    "print(\"accuracies for each fold: {}\".format(cv_scores_log))\n",
    "print(\"mean accuracy: {}\".format(cv_scores_log_mean))\n",
    "print(\"standard deviation accuracy: {}\".format(cv_scores_log_std))\n",
    "print(\"accuracy: {} +/- confidence of {}\".\n",
    "      format(cv_scores_log_mean, cv_scores_log_std*2 ))"
   ]
  },
  {
   "cell_type": "markdown",
   "metadata": {},
   "source": [
    "The accuracy is 0.7227 for the simple train-test-split, 0.7196 before\n",
    "scaling, and 0.7174 within a pipeline. The difference is small.\n",
    "This indicates a low overfitting. As the pipeline model is the\n",
    "most reliable this is to be prefered."
   ]
  },
  {
   "cell_type": "markdown",
   "metadata": {},
   "source": [
    "#### Model 7: Multi-layer Perceptron embedded in a cross-validation pipeline\n"
   ]
  },
  {
   "cell_type": "code",
   "execution_count": 243,
   "metadata": {},
   "outputs": [],
   "source": [
    "clf_6_mlp = MLPClassifier(solver='lbfgs', alpha=1e-5,\n",
    "                          hidden_layer_sizes=(50, 2), random_state=3)\n",
    "\n",
    "# create a pipeline: scaling then apply model\n",
    "pipeline = Pipeline([('transformer', scaler_3 ), \n",
    "                     ('estimator', clf_6_mlp )])\n",
    "\n",
    "cv_scores_mlp = cross_val_score(pipeline, \n",
    "                                X_1, y_1, cv = cv_kf, \n",
    "                                scoring='accuracy')"
   ]
  },
  {
   "cell_type": "code",
   "execution_count": 244,
   "metadata": {},
   "outputs": [],
   "source": [
    "cv_scores_mlp_mean = round(cv_scores_mlp.mean(),4)\n",
    "cv_scores_mlp_std = round(cv_scores_mlp.std(),4)"
   ]
  },
  {
   "cell_type": "code",
   "execution_count": 245,
   "metadata": {},
   "outputs": [
    {
     "name": "stdout",
     "output_type": "stream",
     "text": [
      "accuracies for each fold: [0.80828899 0.86022792 0.84856491 0.86623852]\n",
      "mean accuracy: 0.8458\n",
      "standard deviation accuracy: 0.0226\n",
      "accuracy: 0.8458 +/- confidence of 0.0452\n"
     ]
    }
   ],
   "source": [
    "print(\"accuracies for each fold: {}\".format(cv_scores_mlp))\n",
    "print(\"mean accuracy: {}\".format(cv_scores_mlp_mean))\n",
    "print(\"standard deviation accuracy: {}\".format(cv_scores_mlp_std))\n",
    "print(\"accuracy: {} +/- confidence of {}\".\n",
    "      format(cv_scores_mlp_mean, cv_scores_mlp_std*2 ))"
   ]
  },
  {
   "cell_type": "code",
   "execution_count": 246,
   "metadata": {},
   "outputs": [
    {
     "data": {
      "text/plain": [
       "[50, 100, 150, 200]"
      ]
     },
     "execution_count": 246,
     "metadata": {},
     "output_type": "execute_result"
    }
   ],
   "source": [
    "list(np.arange(50, 250, 50))"
   ]
  },
  {
   "cell_type": "markdown",
   "metadata": {},
   "source": [
    "#### Model 8: Multi-layer Perceptron embedded in a cross-validation pipeline with hyperparameter tuning\n"
   ]
  },
  {
   "cell_type": "code",
   "execution_count": 247,
   "metadata": {},
   "outputs": [],
   "source": [
    "scaler_4 = StandardScaler()\n",
    "clf_7_mlp = MLPClassifier(alpha=1e-5, random_state=3)\n",
    "\n",
    "pipeline_2 = \\\n",
    "Pipeline(steps=[('transformer', scaler_4), ('estimator', clf_7_mlp )])"
   ]
  },
  {
   "cell_type": "code",
   "execution_count": 248,
   "metadata": {},
   "outputs": [
    {
     "name": "stdout",
     "output_type": "stream",
     "text": [
      "['logistic', 'tanh', 'relu']\n",
      "[5, 10]\n",
      "['sgd', 'adam']\n"
     ]
    }
   ],
   "source": [
    "# Creating the lists for the parameter grid\n",
    "\n",
    "activation_list = [\"logistic\", \"tanh\", \"relu\"]\n",
    "print(activation_list)\n",
    "# list(np.arange(50, 150, 50))\n",
    "hidden_layer_sizes_list = [5,10]\n",
    "print(hidden_layer_sizes_list)\n",
    "solver_list = [\"sgd\", \"adam\"]\n",
    "print(solver_list)\n",
    "\n",
    "# more tuning options:\n",
    "# learning_rate_init_list = [0.1, 0.01, 0.001]\n",
    "# print(learning_rate_init_list)\n",
    "# learning_rate_list = [\"constant\", \"invscaling\", \"adaptive\"]\n",
    "# print(learning_rate_list)"
   ]
  },
  {
   "cell_type": "code",
   "execution_count": 279,
   "metadata": {},
   "outputs": [
    {
     "name": "stdout",
     "output_type": "stream",
     "text": [
      "{'estimator__hidden_layer_sizes': [5, 10]}\n"
     ]
    }
   ],
   "source": [
    "# creating the parameter grid\n",
    "# important!!!\n",
    "# assigning the parameters to the named step in the pipeline\n",
    "# an exhaustive grid search is computational challenging\n",
    "# therefore the grid search is here restricted\n",
    "\n",
    "param_grid_2= {'estimator__hidden_layer_sizes': hidden_layer_sizes_list,\n",
    "               # 'estimator__activation':activation_list,\n",
    "               # 'estimator__solver': solver_list    \n",
    "               # ,'estimator__learning_rate' : learning_rate_list,\n",
    "               # 'estimator__learning_rate' : learning_rate_init_list\n",
    "              }\n",
    "             \n",
    "\n",
    "print(param_grid_2)"
   ]
  },
  {
   "cell_type": "code",
   "execution_count": 255,
   "metadata": {},
   "outputs": [],
   "source": [
    "search = \\\n",
    "GridSearchCV(pipeline_2, param_grid_2, iid=False, cv=3, scoring='accuracy', n_jobs=-1,\n",
    "             return_train_score=True)"
   ]
  },
  {
   "cell_type": "code",
   "execution_count": 257,
   "metadata": {},
   "outputs": [
    {
     "data": {
      "text/plain": [
       "GridSearchCV(cv=3, error_score='raise-deprecating',\n",
       "       estimator=Pipeline(memory=None,\n",
       "     steps=[('transformer', StandardScaler(copy=True, with_mean=True, with_std=True)), ('estimator', MLPClassifier(activation='relu', alpha=1e-05, batch_size='auto', beta_1=0.9,\n",
       "       beta_2=0.999, early_stopping=False, epsilon=1e-08,\n",
       "       hidden_layer_sizes=(100,), learning_rate='constant',\n",
       "       le...=True, solver='adam', tol=0.0001,\n",
       "       validation_fraction=0.1, verbose=False, warm_start=False))]),\n",
       "       fit_params=None, iid=False, n_jobs=-1,\n",
       "       param_grid={'estimator__hidden_layer_sizes': [5, 10]},\n",
       "       pre_dispatch='2*n_jobs', refit=True, return_train_score=True,\n",
       "       scoring='accuracy', verbose=0)"
      ]
     },
     "execution_count": 257,
     "metadata": {},
     "output_type": "execute_result"
    }
   ],
   "source": [
    "search.fit(X_1, y_1)\n",
    "\n",
    "# search.fit(X_1, np.array(y_1).ravel())\n",
    "# clf_rs.fit(X_train_44, np.array(y_1).ravel())"
   ]
  },
  {
   "cell_type": "code",
   "execution_count": 259,
   "metadata": {},
   "outputs": [
    {
     "name": "stdout",
     "output_type": "stream",
     "text": [
      "Pipeline(memory=None,\n",
      "     steps=[('transformer', StandardScaler(copy=True, with_mean=True, with_std=True)), ('estimator', MLPClassifier(activation='relu', alpha=1e-05, batch_size='auto', beta_1=0.9,\n",
      "       beta_2=0.999, early_stopping=False, epsilon=1e-08,\n",
      "       hidden_layer_sizes=5, learning_rate='constant',\n",
      "       learnin...=True, solver='adam', tol=0.0001,\n",
      "       validation_fraction=0.1, verbose=False, warm_start=False))])\n"
     ]
    }
   ],
   "source": [
    "print(search.best_estimator_)"
   ]
  },
  {
   "cell_type": "code",
   "execution_count": 260,
   "metadata": {},
   "outputs": [
    {
     "name": "stdout",
     "output_type": "stream",
     "text": [
      "<bound method BaseEstimator.get_params of GridSearchCV(cv=3, error_score='raise-deprecating',\n",
      "       estimator=Pipeline(memory=None,\n",
      "     steps=[('transformer', StandardScaler(copy=True, with_mean=True, with_std=True)), ('estimator', MLPClassifier(activation='relu', alpha=1e-05, batch_size='auto', beta_1=0.9,\n",
      "       beta_2=0.999, early_stopping=False, epsilon=1e-08,\n",
      "       hidden_layer_sizes=(100,), learning_rate='constant',\n",
      "       le...=True, solver='adam', tol=0.0001,\n",
      "       validation_fraction=0.1, verbose=False, warm_start=False))]),\n",
      "       fit_params=None, iid=False, n_jobs=-1,\n",
      "       param_grid={'estimator__hidden_layer_sizes': [5, 10]},\n",
      "       pre_dispatch='2*n_jobs', refit=True, return_train_score=True,\n",
      "       scoring='accuracy', verbose=0)>\n"
     ]
    }
   ],
   "source": [
    "print(search.get_params)"
   ]
  },
  {
   "cell_type": "code",
   "execution_count": 261,
   "metadata": {},
   "outputs": [
    {
     "name": "stdout",
     "output_type": "stream",
     "text": [
      "0.8253645502362014\n"
     ]
    }
   ],
   "source": [
    "grid_search_acc = search.best_score_\n",
    "print(grid_search_acc)"
   ]
  },
  {
   "cell_type": "code",
   "execution_count": 263,
   "metadata": {},
   "outputs": [
    {
     "data": {
      "text/plain": [
       "0"
      ]
     },
     "execution_count": 263,
     "metadata": {},
     "output_type": "execute_result"
    }
   ],
   "source": [
    "search.best_index_"
   ]
  },
  {
   "cell_type": "code",
   "execution_count": 262,
   "metadata": {},
   "outputs": [
    {
     "data": {
      "text/plain": [
       "{'mean_fit_time': array([557.80599928, 362.05152321]),\n",
       " 'std_fit_time': array([116.02089132,  92.99802518]),\n",
       " 'mean_score_time': array([4.12715197, 1.06109635]),\n",
       " 'std_score_time': array([3.58655659, 0.21776032]),\n",
       " 'param_estimator__hidden_layer_sizes': masked_array(data=[5, 10],\n",
       "              mask=[False, False],\n",
       "        fill_value='?',\n",
       "             dtype=object),\n",
       " 'params': [{'estimator__hidden_layer_sizes': 5},\n",
       "  {'estimator__hidden_layer_sizes': 10}],\n",
       " 'split0_test_score': array([0.82274467, 0.8178498 ]),\n",
       " 'split1_test_score': array([0.83611677, 0.81680417]),\n",
       " 'split2_test_score': array([0.81723221, 0.81596419]),\n",
       " 'mean_test_score': array([0.82536455, 0.81687272]),\n",
       " 'std_test_score': array([0.00792904, 0.00077132]),\n",
       " 'rank_test_score': array([1, 2]),\n",
       " 'split0_train_score': array([0.86167858, 0.86195588]),\n",
       " 'split1_train_score': array([0.85131151, 0.85991379]),\n",
       " 'split2_train_score': array([0.84663986, 0.84871794]),\n",
       " 'mean_train_score': array([0.85320998, 0.85686254]),\n",
       " 'std_train_score': array([0.00628458, 0.00581913])}"
      ]
     },
     "execution_count": 262,
     "metadata": {},
     "output_type": "execute_result"
    }
   ],
   "source": [
    "search.cv_results_"
   ]
  },
  {
   "cell_type": "code",
   "execution_count": 283,
   "metadata": {},
   "outputs": [],
   "source": [
    "newrows_1 = \\\n",
    "[pd.Series(['logistic cv', cv_scores_log_mean], index=results_1_df.columns),\n",
    "pd.Series(['multi-layer-perceptron cv', cv_scores_mlp_mean], index=results_1_df.columns),\n",
    "pd.Series(['multi-layer-perceptron cv hyper',  grid_search_acc],index=results_1_df.columns)]"
   ]
  },
  {
   "cell_type": "code",
   "execution_count": 284,
   "metadata": {},
   "outputs": [
    {
     "data": {
      "text/html": [
       "<div>\n",
       "<style scoped>\n",
       "    .dataframe tbody tr th:only-of-type {\n",
       "        vertical-align: middle;\n",
       "    }\n",
       "\n",
       "    .dataframe tbody tr th {\n",
       "        vertical-align: top;\n",
       "    }\n",
       "\n",
       "    .dataframe thead th {\n",
       "        text-align: right;\n",
       "    }\n",
       "</style>\n",
       "<table border=\"1\" class=\"dataframe\">\n",
       "  <thead>\n",
       "    <tr style=\"text-align: right;\">\n",
       "      <th></th>\n",
       "      <th>Model</th>\n",
       "      <th>Accuracy</th>\n",
       "    </tr>\n",
       "  </thead>\n",
       "  <tbody>\n",
       "    <tr>\n",
       "      <th>0</th>\n",
       "      <td>Logistic</td>\n",
       "      <td>0.722700</td>\n",
       "    </tr>\n",
       "    <tr>\n",
       "      <th>1</th>\n",
       "      <td>Random Forest</td>\n",
       "      <td>0.706000</td>\n",
       "    </tr>\n",
       "    <tr>\n",
       "      <th>2</th>\n",
       "      <td>Multi Layer Perceptron</td>\n",
       "      <td>0.838400</td>\n",
       "    </tr>\n",
       "    <tr>\n",
       "      <th>3</th>\n",
       "      <td>Naive Bayes</td>\n",
       "      <td>0.790000</td>\n",
       "    </tr>\n",
       "    <tr>\n",
       "      <th>4</th>\n",
       "      <td>knn</td>\n",
       "      <td>0.739700</td>\n",
       "    </tr>\n",
       "    <tr>\n",
       "      <th>5</th>\n",
       "      <td>logistic cv</td>\n",
       "      <td>0.717300</td>\n",
       "    </tr>\n",
       "    <tr>\n",
       "      <th>6</th>\n",
       "      <td>multi-layer-perceptron cv</td>\n",
       "      <td>0.845800</td>\n",
       "    </tr>\n",
       "    <tr>\n",
       "      <th>7</th>\n",
       "      <td>multi-layer-perceptron cv hyper</td>\n",
       "      <td>0.825365</td>\n",
       "    </tr>\n",
       "  </tbody>\n",
       "</table>\n",
       "</div>"
      ],
      "text/plain": [
       "                             Model  Accuracy\n",
       "0  Logistic                         0.722700\n",
       "1  Random Forest                    0.706000\n",
       "2  Multi Layer Perceptron           0.838400\n",
       "3  Naive Bayes                      0.790000\n",
       "4  knn                              0.739700\n",
       "5  logistic cv                      0.717300\n",
       "6  multi-layer-perceptron cv        0.845800\n",
       "7  multi-layer-perceptron cv hyper  0.825365"
      ]
     },
     "execution_count": 284,
     "metadata": {},
     "output_type": "execute_result"
    }
   ],
   "source": [
    "results_2_df = results_1_df.append(newrows_1, ignore_index=True)\n",
    "results_2_df\n"
   ]
  },
  {
   "cell_type": "markdown",
   "metadata": {},
   "source": [
    "## Conclusion\n",
    "\n",
    "The best accuracy is obtained with the multi-layer-perceptron \n",
    "cross validation model in a pipeline with scaled features.\n",
    "The accuracies obtained are all above 0.71.\n",
    "This accuracies are good considering the models are base models.\n",
    "Further hyperparameter tuning to improve the results is possible.\n",
    "Given the size of the data set this is computational challenging for\n",
    "the memory of one machine.\n",
    "Algorithms like SVM are even more computational costly.\n",
    "Grid computing can support the computational performance.\n",
    "Also PCA or sampling are options.\n",
    "Such strategies are considered in further steps.\n",
    "However the adjustment and cleaning of the data set conducted here\n",
    "are the fundament for further steps."
   ]
  }
 ],
 "metadata": {
  "kernelspec": {
   "display_name": "Python 3",
   "language": "python",
   "name": "python3"
  },
  "language_info": {
   "codemirror_mode": {
    "name": "ipython",
    "version": 3
   },
   "file_extension": ".py",
   "mimetype": "text/x-python",
   "name": "python",
   "nbconvert_exporter": "python",
   "pygments_lexer": "ipython3",
   "version": "3.7.3"
  }
 },
 "nbformat": 4,
 "nbformat_minor": 2
}
